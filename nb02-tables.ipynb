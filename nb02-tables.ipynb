{
 "cells": [
  {
   "cell_type": "markdown",
   "id": "43b6f067-d3f2-4c15-8d33-90dae0a204bb",
   "metadata": {},
   "source": [
    "# `nb02`: Tables"
   ]
  },
  {
   "cell_type": "markdown",
   "id": "9e6d6bc2-2a92-4b60-b597-004f7d3f0322",
   "metadata": {},
   "source": [
    "![](figures/nb02/numpy.png)\n",
    "\n",
    "Numpy is the core library for scientific computing in Python. It provides a high-performance multidimensional array object, and tools for working with these arrays. "
   ]
  },
  {
   "cell_type": "markdown",
   "id": "67001c46-8c6d-450d-8af7-75108336de0a",
   "metadata": {},
   "source": [
    "To use Numpy, we first need to import the `numpy` package:"
   ]
  },
  {
   "cell_type": "code",
   "execution_count": null,
   "id": "19684d8c-2461-4147-b658-7bd89931531e",
   "metadata": {},
   "outputs": [],
   "source": [
    "import numpy as np"
   ]
  },
  {
   "cell_type": "markdown",
   "id": "db263ae3-3e6e-40fb-8a5a-70b627d175bb",
   "metadata": {},
   "source": [
    "# Arrays"
   ]
  },
  {
   "cell_type": "markdown",
   "id": "779c7906-e42a-4c11-a734-29eb20a2e3ab",
   "metadata": {},
   "source": [
    "A Numpy `array` is a table of values, all of the same type, and is indexed by a tuple of  integers. The number of dimensions is the rank of the array; the shape of an array is a tuple of integers giving the size of the array along each dimension."
   ]
  },
  {
   "cell_type": "code",
   "execution_count": null,
   "id": "142a01b7-a5ee-469d-a691-2a1804b8d622",
   "metadata": {},
   "outputs": [],
   "source": [
    "a = np.array([[1, 2, 3, 4],\n",
    "              [5, 6, 7, 8],\n",
    "              [9, 10, 11, 12]])\n",
    "a"
   ]
  },
  {
   "cell_type": "code",
   "execution_count": null,
   "id": "a140b27f-096b-45a9-9dbd-37f66a86c02b",
   "metadata": {},
   "outputs": [],
   "source": [
    "a.dtype"
   ]
  },
  {
   "cell_type": "code",
   "execution_count": null,
   "id": "8e7c7bdd-0f5b-411e-9ada-042b9b036544",
   "metadata": {},
   "outputs": [],
   "source": [
    "a.itemsize"
   ]
  },
  {
   "cell_type": "code",
   "execution_count": null,
   "id": "3e0a93fc-e386-4df6-9f27-065d606a98eb",
   "metadata": {},
   "outputs": [],
   "source": [
    "a.ndim"
   ]
  },
  {
   "cell_type": "code",
   "execution_count": null,
   "id": "4b42d36c-4c36-4fb2-9450-76176352f18a",
   "metadata": {},
   "outputs": [],
   "source": [
    "a.shape"
   ]
  },
  {
   "cell_type": "markdown",
   "id": "fc1f411f-e31b-4644-b66e-1f7038d138ec",
   "metadata": {},
   "source": [
    "## Array creation"
   ]
  },
  {
   "cell_type": "code",
   "execution_count": null,
   "id": "b1d20327-f7e9-4893-a38d-2cd3d76f5a88",
   "metadata": {},
   "outputs": [],
   "source": [
    "# from a list\n",
    "a = np.array([2, 3, 4])\n",
    "a"
   ]
  },
  {
   "cell_type": "code",
   "execution_count": null,
   "id": "f81a51ed-2033-4a9c-b84c-dd3e99322bb3",
   "metadata": {},
   "outputs": [],
   "source": [
    "b = np.array([1.2, 3.5, 5.1])\n",
    "b"
   ]
  },
  {
   "cell_type": "code",
   "execution_count": null,
   "id": "59551984-7b87-4a1b-b0cd-bcdd37d8364d",
   "metadata": {},
   "outputs": [],
   "source": [
    "b.dtype"
   ]
  },
  {
   "cell_type": "code",
   "execution_count": null,
   "id": "bc51a9aa-8391-4af7-8e10-dadcafd84884",
   "metadata": {},
   "outputs": [],
   "source": [
    "# from a list, with a specified dtype\n",
    "c = np.array([[1, 2], [3, 4]], dtype=complex)\n",
    "c"
   ]
  },
  {
   "cell_type": "code",
   "execution_count": null,
   "id": "1a857af3-bbc5-452e-a04e-adfd376ae2c7",
   "metadata": {},
   "outputs": [],
   "source": [
    "# with placeholders\n",
    "a = np.zeros((3, 4), dtype=int)\n",
    "a"
   ]
  },
  {
   "cell_type": "code",
   "execution_count": null,
   "id": "46837279-1543-4389-b9e4-fec799043cd8",
   "metadata": {},
   "outputs": [],
   "source": [
    "b = np.ones((3, 4, 2), dtype=int)\n",
    "b"
   ]
  },
  {
   "cell_type": "code",
   "execution_count": null,
   "id": "6e2870db-4197-4ca3-8e68-ebd5504e61f8",
   "metadata": {},
   "outputs": [],
   "source": [
    "c = np.empty((2, 3))\n",
    "c"
   ]
  },
  {
   "cell_type": "code",
   "execution_count": null,
   "id": "7187c51c-4d16-48f8-b550-6527181a844b",
   "metadata": {},
   "outputs": [],
   "source": [
    "# with a range\n",
    "d = np.arange(10, 30, 5)  # same as d = np.array(range(10, 30, 5))\n",
    "d"
   ]
  },
  {
   "cell_type": "code",
   "execution_count": null,
   "id": "12669bb4-2e81-4266-852a-109623ca85cc",
   "metadata": {},
   "outputs": [],
   "source": [
    "d = np.linspace(10, 30, num=10)\n",
    "d"
   ]
  },
  {
   "cell_type": "code",
   "execution_count": null,
   "id": "3c8ab2f0-1292-4347-a682-536fd2e6b887",
   "metadata": {},
   "outputs": [],
   "source": [
    "# with random numbers\n",
    "e = np.random.random((3, 3))\n",
    "e"
   ]
  },
  {
   "cell_type": "markdown",
   "id": "4452884a-dc7b-4a08-97d0-22c201f41cd5",
   "metadata": {},
   "source": [
    "## Shape manipulation"
   ]
  },
  {
   "cell_type": "markdown",
   "id": "70ac9d59-4c96-423b-9b75-e3e4278a6749",
   "metadata": {},
   "source": [
    "The shape of an array can be changed with various functions."
   ]
  },
  {
   "cell_type": "code",
   "execution_count": null,
   "id": "04216000-5c4e-4a59-ba58-8599b4902bdd",
   "metadata": {},
   "outputs": [],
   "source": [
    "a = np.array([[1, 2, 3, 4],\n",
    "              [5, 6, 7, 8],\n",
    "              [9, 10, 11, 12]])\n",
    "a.shape"
   ]
  },
  {
   "cell_type": "code",
   "execution_count": null,
   "id": "94dcfa0c-4b2d-413b-a598-cb66af0ed717",
   "metadata": {},
   "outputs": [],
   "source": [
    "# flatten\n",
    "a.ravel()"
   ]
  },
  {
   "cell_type": "code",
   "execution_count": null,
   "id": "2b4ea2fd-ea60-4026-8fa5-02550aac731b",
   "metadata": {},
   "outputs": [],
   "source": [
    "# modify the shape\n",
    "a.reshape(6, 2)"
   ]
  },
  {
   "cell_type": "code",
   "execution_count": null,
   "id": "7d440d0b-e37f-4cd3-8176-2f70a2ea0cec",
   "metadata": {},
   "outputs": [],
   "source": [
    "# transpose\n",
    "a.T"
   ]
  },
  {
   "cell_type": "markdown",
   "id": "7e73d0c8-751f-46ae-88f6-8a3747ed33a0",
   "metadata": {},
   "source": [
    "<div class=\"alert alert-success\">\n",
    "    \n",
    "**Exercise**. Build the following 2d array (without typing it in explicitly):\n",
    "```\n",
    "[[1,  6, 11],\n",
    " [2,  7, 12],\n",
    " [3,  8, 13],\n",
    " [4,  9, 14],\n",
    " [5, 10, 15]]\n",
    "```\n",
    "\n",
    "</div>"
   ]
  },
  {
   "cell_type": "code",
   "execution_count": null,
   "id": "ee416e42-beb1-4e58-80ab-2620d60c309e",
   "metadata": {},
   "outputs": [],
   "source": []
  },
  {
   "cell_type": "markdown",
   "id": "b6f1854d-fac0-4906-a0a9-80cbe2c2ac8a",
   "metadata": {
    "tags": []
   },
   "source": [
    "## Internals"
   ]
  },
  {
   "cell_type": "code",
   "execution_count": null,
   "id": "7ef688bd-41ff-4899-8bea-a453a8b705c4",
   "metadata": {},
   "outputs": [],
   "source": [
    "a = np.arange(1, 10).reshape(3, 3)\n",
    "a"
   ]
  },
  {
   "cell_type": "code",
   "execution_count": null,
   "id": "e87b2ffe-8def-4a83-aef1-43ce5e64f7d3",
   "metadata": {},
   "outputs": [],
   "source": [
    "b = a\n",
    "b = b.reshape((-1,))\n",
    "b"
   ]
  },
  {
   "cell_type": "code",
   "execution_count": null,
   "id": "b0876a35-25c4-46d2-b662-e9c1ffd83e58",
   "metadata": {},
   "outputs": [],
   "source": [
    "b[0] = -1\n",
    "b"
   ]
  },
  {
   "cell_type": "code",
   "execution_count": null,
   "id": "99234ae6-56a5-4b25-8dbd-4d0c5ad3d726",
   "metadata": {},
   "outputs": [],
   "source": [
    "a"
   ]
  },
  {
   "cell_type": "markdown",
   "id": "19068235-8db4-4737-ae8a-2a34d2a86bdc",
   "metadata": {},
   "source": [
    "What's going on? The `reshape` operation does not create a new array, but only a different _view_ of `a`. Therefore, `a` and `b` share the same contiguous data block in memory.\n",
    "\n",
    "<img src=\"./figures/nb02/ndarray.png\" width=\"75%\" />"
   ]
  },
  {
   "cell_type": "code",
   "execution_count": null,
   "id": "f44a4943-e624-4494-afae-e668948a8cf0",
   "metadata": {},
   "outputs": [],
   "source": [
    "aT = a.T\n",
    "aT[0, 0] = 10\n",
    "aT"
   ]
  },
  {
   "cell_type": "code",
   "execution_count": null,
   "id": "3c111d29-a35b-4b3b-bb3c-f31b62fafaf5",
   "metadata": {},
   "outputs": [],
   "source": [
    "a"
   ]
  },
  {
   "cell_type": "code",
   "execution_count": null,
   "id": "88e4d723-0c5b-41ea-a61b-c6173b44e47c",
   "metadata": {},
   "outputs": [],
   "source": [
    "aT.base is a.base"
   ]
  },
  {
   "cell_type": "code",
   "execution_count": null,
   "id": "04479e84-caa3-489f-b26d-08611290befa",
   "metadata": {},
   "outputs": [],
   "source": [
    "a.strides, aT.strides"
   ]
  },
  {
   "cell_type": "code",
   "execution_count": null,
   "id": "d48d209a-a0ef-4812-a922-90b8103f483e",
   "metadata": {},
   "outputs": [],
   "source": [
    "a.__array_interface__[\"data\"][0]"
   ]
  },
  {
   "cell_type": "code",
   "execution_count": null,
   "id": "707b7669-30a0-4dc1-bf7c-d02bc46a899b",
   "metadata": {},
   "outputs": [],
   "source": [
    "b.__array_interface__[\"data\"][0]"
   ]
  },
  {
   "cell_type": "code",
   "execution_count": null,
   "id": "0b039b3e-ac70-4df2-a90d-1b0c51a8f0e0",
   "metadata": {},
   "outputs": [],
   "source": [
    "c = a.copy()\n",
    "c.__array_interface__[\"data\"][0]"
   ]
  },
  {
   "cell_type": "markdown",
   "id": "5302b62e-2b65-4af4-ab02-0298474b9565",
   "metadata": {},
   "source": [
    "# Basic operations"
   ]
  },
  {
   "cell_type": "markdown",
   "id": "1d1824a3-b1c2-4752-bb32-d3687a61981b",
   "metadata": {},
   "source": [
    "In Numpy, basic operations are called [universal functions](https://numpy.org/doc/stable/reference/ufuncs.html#available-ufuncs) (`ufunc`). They all operate on arrays in an element-by-element fashion. More specifically, a ufunc is a vectorized wrapper for a function that takes a fixed number of specific inputs and produces a fixed number of specific outputs. "
   ]
  },
  {
   "cell_type": "code",
   "execution_count": null,
   "id": "e41ad62d-7a10-4659-9265-190b32e8d7c0",
   "metadata": {},
   "outputs": [],
   "source": [
    "# np.add?"
   ]
  },
  {
   "cell_type": "markdown",
   "id": "2082db94-a9bb-4a26-b157-83654452ccf7",
   "metadata": {},
   "source": [
    "As an example, basic mathematical operations are implemented as ufuncs. They operate elementwise on arrays, and are available both as operator overloads and as functions in the numpy module:"
   ]
  },
  {
   "cell_type": "code",
   "execution_count": null,
   "id": "d5576333-001c-4fab-b5f7-87a7f5e70263",
   "metadata": {},
   "outputs": [],
   "source": [
    "x = np.array([[1, 2], [3 ,4]], dtype=float)\n",
    "y = np.array([[5, 6], [7, 8]], dtype=float)\n",
    "\n",
    "# Elementwise sum\n",
    "print(x + y)\n",
    "print(np.add(x, y))"
   ]
  },
  {
   "cell_type": "code",
   "execution_count": null,
   "id": "2b21f816-e338-4eb5-8ad5-f7fe2739ebf2",
   "metadata": {},
   "outputs": [],
   "source": [
    "# Elementwise difference\n",
    "print(x - y)\n",
    "print(np.subtract(x, y))"
   ]
  },
  {
   "cell_type": "code",
   "execution_count": null,
   "id": "b4beafdd-3c3e-414a-b0da-3b9f732c02a0",
   "metadata": {},
   "outputs": [],
   "source": [
    "# Elementwise product\n",
    "print(x * y)\n",
    "print(np.multiply(x, y))"
   ]
  },
  {
   "cell_type": "code",
   "execution_count": null,
   "id": "9e24c89c-09ca-449c-803b-33d87269cf54",
   "metadata": {},
   "outputs": [],
   "source": [
    "# Elementwise division\n",
    "print(x / y)\n",
    "print(np.divide(x, y))"
   ]
  },
  {
   "cell_type": "markdown",
   "id": "25434d78-f53b-413d-8b21-ea89e595b3b9",
   "metadata": {},
   "source": [
    "Numpy also provides functions which are designed to operate on sequences of numbers, such as the `sum` function. Sequential functions can act on an array's entries as if they form a single sequence, or act on subsequences of the array's entries, according to the array's axes."
   ]
  },
  {
   "cell_type": "code",
   "execution_count": null,
   "id": "49459ffd-1854-43c4-9cb6-3e2354321f5b",
   "metadata": {},
   "outputs": [],
   "source": [
    "a = np.array([[1, 2, 3, 4],\n",
    "              [5, 6, 7, 8],\n",
    "              [9, 10, 11, 12]])\n",
    "np.sum(a)"
   ]
  },
  {
   "cell_type": "code",
   "execution_count": null,
   "id": "18eaa27d-51c4-4afb-b15b-372ee6a0b583",
   "metadata": {},
   "outputs": [],
   "source": [
    "np.sum(a, axis=0)"
   ]
  },
  {
   "cell_type": "code",
   "execution_count": null,
   "id": "d51e1c2b-f7f5-4938-b63a-30e2cbc1f1a3",
   "metadata": {},
   "outputs": [],
   "source": [
    "np.sum(a, axis=1)"
   ]
  },
  {
   "cell_type": "markdown",
   "id": "6ea40b8a-1cbb-4e93-bf2c-ffedba7e69c5",
   "metadata": {},
   "source": [
    "<div class=\"alert alert-success\">\n",
    "    \n",
    "**Exercise.** Compute `x^y` element-wise, where `x` and `y` are two arrays.\n",
    "\n",
    "</div>"
   ]
  },
  {
   "cell_type": "code",
   "execution_count": null,
   "id": "40bbfa5f-8722-4280-96cc-76d2804fc974",
   "metadata": {},
   "outputs": [],
   "source": []
  },
  {
   "cell_type": "code",
   "execution_count": null,
   "id": "73a22d98-2a61-4224-be29-242437e4d64f",
   "metadata": {},
   "outputs": [],
   "source": []
  },
  {
   "cell_type": "markdown",
   "id": "bd84d64c-33c9-40fe-ad79-05be15c2d7bc",
   "metadata": {},
   "source": [
    "<div class=\"alert alert-success\">\n",
    "    \n",
    "**Exercise.** Compute the Euclidean distance between the arrays `x` and `y`.\n",
    "\n",
    "</div>"
   ]
  },
  {
   "cell_type": "code",
   "execution_count": null,
   "id": "9fe03ddf-5297-4cfb-9bd0-2c9e27bf5eb4",
   "metadata": {},
   "outputs": [],
   "source": []
  },
  {
   "cell_type": "markdown",
   "id": "997ee7c8-f677-4abc-9490-a3a65da6e7b5",
   "metadata": {},
   "source": [
    "<div class=\"alert alert-success\">\n",
    "    \n",
    "**Exercise.** Let `a = np.arange(24).reshape(4, 6)`. Compute the mean value of each row and each column.\n",
    "\n",
    "</div>"
   ]
  },
  {
   "cell_type": "code",
   "execution_count": null,
   "id": "91b91223-41e9-4b46-8f27-378c27d03eb4",
   "metadata": {},
   "outputs": [],
   "source": []
  },
  {
   "cell_type": "markdown",
   "id": "140e1d1e-893d-4f07-8ce5-6b58d68ec103",
   "metadata": {},
   "source": [
    "<div class=\"alert alert-danger\">\n",
    "\n",
    "Because of the homogeneity of the array's entries, Numpy is able to delegate the task of performing mathematical operations to optimized, compiled C code. For this reason, performing extensive iterations (e.g. via ‘for-loops’) to perform repeated mathematical computations should nearly always be replaced by the use of vectorized functions on arrays. **This informs the entire design and usage paradigm of Numpy.**\n",
    "\n",
    "</div>"
   ]
  },
  {
   "cell_type": "code",
   "execution_count": null,
   "id": "e45b2575-6e41-4afd-b551-6d26ef3f0888",
   "metadata": {},
   "outputs": [],
   "source": [
    "%%timeit\n",
    "total = np.sum(np.arange(10000))"
   ]
  },
  {
   "cell_type": "code",
   "execution_count": null,
   "id": "b5c59cd6-656c-436a-a04d-64612cb8dbd6",
   "metadata": {},
   "outputs": [],
   "source": [
    "%%timeit\n",
    "total = 0\n",
    "for i in np.arange(10000):\n",
    "    total += i"
   ]
  },
  {
   "cell_type": "code",
   "execution_count": null,
   "id": "9714d764-0e2e-4e1a-9605-be0b09b1b971",
   "metadata": {},
   "outputs": [],
   "source": [
    "%%timeit\n",
    "total = 0\n",
    "a = np.arange(10000)\n",
    "for i in range(10000):\n",
    "    total += a[i]"
   ]
  },
  {
   "cell_type": "code",
   "execution_count": null,
   "id": "4e66aa39-827b-4f22-8823-2c0a916212ac",
   "metadata": {},
   "outputs": [],
   "source": [
    "%%timeit \n",
    "a = np.random.rand(1000)\n",
    "b = np.random.rand(1000)\n",
    "np.dot(a, b)"
   ]
  },
  {
   "cell_type": "code",
   "execution_count": null,
   "id": "e09b0982-462d-43ba-ac40-52cd884270a5",
   "metadata": {},
   "outputs": [],
   "source": [
    "%%timeit \n",
    "a = np.random.rand(1000)\n",
    "b = np.random.rand(1000)\n",
    "total = 0\n",
    "for i in range(1000):\n",
    "    total += a[i] * b[i]"
   ]
  },
  {
   "cell_type": "markdown",
   "id": "a3ad8159-803a-4d33-9cb6-2e44be221bef",
   "metadata": {},
   "source": [
    "# Indexing, slicing, iterating"
   ]
  },
  {
   "cell_type": "markdown",
   "id": "63f686dc-9a3d-4e68-857d-f2250156b387",
   "metadata": {},
   "source": [
    "## 1d arrays\n",
    "\n",
    "One-dimensional arrays can be indexed, sliced, and iterated over, much like lists and other Python sequences. Indexing and slicing create views of arrays."
   ]
  },
  {
   "cell_type": "code",
   "execution_count": null,
   "id": "53188ecb-0ef1-464d-b08a-801e1538befc",
   "metadata": {},
   "outputs": [],
   "source": [
    "a = np.arange(10) ** 2\n",
    "a"
   ]
  },
  {
   "cell_type": "code",
   "execution_count": null,
   "id": "627b5d75-66a2-4fdf-bab2-3dda7c45714a",
   "metadata": {},
   "outputs": [],
   "source": [
    "a[2:5]"
   ]
  },
  {
   "cell_type": "code",
   "execution_count": null,
   "id": "f0cc1fe2-9f3d-4081-89b7-51f438c68574",
   "metadata": {},
   "outputs": [],
   "source": [
    "a[:6:2] = 100\n",
    "a"
   ]
  },
  {
   "cell_type": "code",
   "execution_count": null,
   "id": "33bf8238-c708-4853-8ed7-6440a0895627",
   "metadata": {},
   "outputs": [],
   "source": [
    "a[::-1]"
   ]
  },
  {
   "cell_type": "code",
   "execution_count": null,
   "id": "fd9cd5d3-5216-4566-8d8f-367eb1052187",
   "metadata": {},
   "outputs": [],
   "source": [
    "for i in a:\n",
    "    print(i)"
   ]
  },
  {
   "cell_type": "markdown",
   "id": "25d0584d-6c95-440d-b92b-a2c40d5aa639",
   "metadata": {},
   "source": [
    "## nd arrays\n",
    "\n",
    "Multidimensional arrays take one index per axis. These indices are given in a tuple separated by commas:"
   ]
  },
  {
   "cell_type": "code",
   "execution_count": null,
   "id": "2b86ba0f-4d46-40e7-8ba2-62a54299ef9d",
   "metadata": {},
   "outputs": [],
   "source": [
    "b = np.arange(20).reshape(5, 4) ** 2\n",
    "b"
   ]
  },
  {
   "cell_type": "code",
   "execution_count": null,
   "id": "9fe4aec6-d75d-4848-bb7c-49e859be2851",
   "metadata": {},
   "outputs": [],
   "source": [
    "b[2, 1]"
   ]
  },
  {
   "cell_type": "code",
   "execution_count": null,
   "id": "50f550cc-e1c3-40c7-880c-2232b6d15985",
   "metadata": {},
   "outputs": [],
   "source": [
    "b[0:5, 1:3:2]"
   ]
  },
  {
   "cell_type": "code",
   "execution_count": null,
   "id": "147deb93-0f16-4798-8443-8858acfff536",
   "metadata": {},
   "outputs": [],
   "source": [
    "b[:, 1]"
   ]
  },
  {
   "cell_type": "code",
   "execution_count": null,
   "id": "0a79a846-0a61-4c2d-ab8e-23e3746c7a0f",
   "metadata": {},
   "outputs": [],
   "source": [
    "b[1:3, :]"
   ]
  },
  {
   "cell_type": "code",
   "execution_count": null,
   "id": "1b436530-48e2-45f2-bc87-e92891e5f48e",
   "metadata": {},
   "outputs": [],
   "source": [
    "b[:, 1:3]"
   ]
  },
  {
   "cell_type": "code",
   "execution_count": null,
   "id": "98c3eb59-89b1-4a41-8297-9d3d00fe2738",
   "metadata": {},
   "outputs": [],
   "source": [
    "b[-1]"
   ]
  },
  {
   "cell_type": "code",
   "execution_count": null,
   "id": "c57a8088-73a8-4853-886d-9722296a42f2",
   "metadata": {},
   "outputs": [],
   "source": [
    "c = np.array([[[0, 1, 2], \n",
    "               [10, 12, 13]],\n",
    "              [[100, 101, 102],\n",
    "               [110, 112, 112]]])\n",
    "c"
   ]
  },
  {
   "cell_type": "code",
   "execution_count": null,
   "id": "e786ade5-27c6-48b3-9e4d-8d2d34d3fea7",
   "metadata": {},
   "outputs": [],
   "source": [
    "c.shape"
   ]
  },
  {
   "cell_type": "code",
   "execution_count": null,
   "id": "946834d3-0df4-479d-9311-29eed00a0181",
   "metadata": {},
   "outputs": [],
   "source": [
    "c[1, ...]"
   ]
  },
  {
   "cell_type": "code",
   "execution_count": null,
   "id": "e5b42629-78b7-476f-afcc-4a196a459ff4",
   "metadata": {},
   "outputs": [],
   "source": [
    "c[1, :, :]"
   ]
  },
  {
   "cell_type": "code",
   "execution_count": null,
   "id": "1afc9b78-8a1b-43f0-ac52-bdd3b2e90cb6",
   "metadata": {},
   "outputs": [],
   "source": [
    "c[..., 2]"
   ]
  },
  {
   "cell_type": "code",
   "execution_count": null,
   "id": "f5644265-ca80-4b85-9ffd-2ab24ce37dd8",
   "metadata": {},
   "outputs": [],
   "source": [
    "c[:, :, 2]"
   ]
  },
  {
   "cell_type": "markdown",
   "id": "02a6f21f-315a-47a5-bcd6-b8f83bb6c427",
   "metadata": {},
   "source": [
    "Iterating over multidimensional arrays is done with respect to the first axis:"
   ]
  },
  {
   "cell_type": "code",
   "execution_count": null,
   "id": "2762e616-8d6a-4950-b5ba-19e0f84b4786",
   "metadata": {},
   "outputs": [],
   "source": [
    "for row in b:\n",
    "    print(row)"
   ]
  },
  {
   "cell_type": "code",
   "execution_count": null,
   "id": "449c8e44-27df-4e85-a272-342659b4cd7a",
   "metadata": {},
   "outputs": [],
   "source": [
    "for element in b.flat:\n",
    "    print(element)"
   ]
  },
  {
   "cell_type": "markdown",
   "id": "290e46e8-924a-4c42-bb30-9dce67f9cae4",
   "metadata": {},
   "source": [
    "## Fancy indexing\n",
    "\n",
    "When you index into numpy arrays using slicing, the resulting array view will always be a subarray of the original array. Instead, integer array indexing allows you to construct arbitrary arrays using the data from another array. "
   ]
  },
  {
   "cell_type": "code",
   "execution_count": null,
   "id": "3eaf2fea-d293-4cb5-bc7a-4e200988ff78",
   "metadata": {},
   "outputs": [],
   "source": [
    "x = np.arange(10, 1, -1)\n",
    "x"
   ]
  },
  {
   "cell_type": "code",
   "execution_count": null,
   "id": "04d791a8-f949-424b-a5a5-e4829cccf9ee",
   "metadata": {},
   "outputs": [],
   "source": [
    "x[np.array([3, 3, 1, 8])]"
   ]
  },
  {
   "cell_type": "code",
   "execution_count": null,
   "id": "4e84a341-ff05-467e-a314-0641ff98add6",
   "metadata": {},
   "outputs": [],
   "source": [
    "x[np.array([3, 3, -3, 8])]"
   ]
  },
  {
   "cell_type": "code",
   "execution_count": null,
   "id": "a1083845-e6d0-45bb-a1b1-d3c7848f7fbd",
   "metadata": {},
   "outputs": [],
   "source": [
    "x = np.arange(9).reshape(3, 3)\n",
    "print(x)\n",
    "x[np.array([0, 2]), np.array([1, 0])]"
   ]
  },
  {
   "cell_type": "markdown",
   "id": "15dd8432-e2ac-4b1d-93a3-c006b0757f72",
   "metadata": {},
   "source": [
    "Arrays can also be indexed with Boolean arrays:"
   ]
  },
  {
   "cell_type": "code",
   "execution_count": null,
   "id": "44be6373-af5d-4682-9b95-821d2dde184f",
   "metadata": {},
   "outputs": [],
   "source": [
    "sin = np.sin(np.linspace(0, 2*np.pi, num=20))\n",
    "sin"
   ]
  },
  {
   "cell_type": "code",
   "execution_count": null,
   "id": "219202d8-d36c-4458-ad44-04770f7f469d",
   "metadata": {},
   "outputs": [],
   "source": [
    "sin > 0"
   ]
  },
  {
   "cell_type": "code",
   "execution_count": null,
   "id": "078a0435-8fa1-49c3-9b80-1e087456daa6",
   "metadata": {},
   "outputs": [],
   "source": [
    "sin[sin > 0.0]"
   ]
  },
  {
   "cell_type": "markdown",
   "id": "9c9b4497-d9bf-425c-86a4-556a90cf056b",
   "metadata": {},
   "source": [
    "<div class=\"alert alert-success\">\n",
    "    \n",
    "**Exercise**. Let `a = np.arange(9).reshape(3, 3)`. Swap the first and the second rows.\n",
    "\n",
    "</div>"
   ]
  },
  {
   "cell_type": "code",
   "execution_count": null,
   "id": "65d8a5d0-8ddd-4e6b-95cc-64b285fae8b9",
   "metadata": {},
   "outputs": [],
   "source": []
  },
  {
   "cell_type": "markdown",
   "id": "6efb7cc5-35d4-428a-b63e-3b056204d09d",
   "metadata": {},
   "source": [
    "# Broadcasting"
   ]
  },
  {
   "cell_type": "markdown",
   "id": "d7ccd189-60f2-438b-b4d6-8eb769b7a488",
   "metadata": {},
   "source": [
    "Broadcasting is a powerful mechanism that allows Numpy to work with arrays of different shapes when performing arithmetic operations. Frequently we have a smaller array and a larger array, and we want to use the smaller array multiple times to perform some operation on the larger array.\n",
    "\n",
    "For example, suppose that we want to add a constant vector to each row of a matrix. We could do it like this:"
   ]
  },
  {
   "cell_type": "code",
   "execution_count": null,
   "id": "69898d98-71e7-41fc-917e-00c51e909bd0",
   "metadata": {},
   "outputs": [],
   "source": [
    "# without broadcasting\n",
    "x = np.array([[1,2,3], [4,5,6], [7,8,9], [10, 11, 12]])\n",
    "v = np.array([0, 1, 2])\n",
    "y = np.empty_like(x)   \n",
    "\n",
    "for i in range(4):\n",
    "    y[i, :] = x[i, :] + v\n",
    "\n",
    "y"
   ]
  },
  {
   "cell_type": "code",
   "execution_count": null,
   "id": "96bf9cc7-d572-45fb-89fb-9d9c735eae93",
   "metadata": {},
   "outputs": [],
   "source": [
    "# with broadcasting\n",
    "x = np.array([[1,2,3], [4,5,6], [7,8,9], [10, 11, 12]])\n",
    "v = np.array([0, 1, 2])\n",
    "y = x + v \n",
    "y"
   ]
  },
  {
   "cell_type": "markdown",
   "id": "75d31758-120a-49cf-9d33-2fab78503ad9",
   "metadata": {},
   "source": [
    "The line `y = x + v` works even though `x` has shape `(4, 3)` and `v` has shape `(3,)` due to broadcasting; this line works as if v actually had shape `(4, 3)`, where each row was a copy of `v`, and the sum was performed elementwise.\n",
    "\n",
    "Broadcasting two arrays together follows these rules:\n",
    "\n",
    "1. If the arrays do not have the same rank, prepend the shape of the lower rank array with 1s until both shapes have the same length.\n",
    "2. The two arrays are said to be compatible in a dimension if they have the same size in the dimension, or if one of the arrays has size 1 in that dimension.\n",
    "3. The arrays can be broadcast together if they are compatible in all dimensions.\n",
    "4. After broadcasting, each array behaves as if it had shape equal to the elementwise maximum of shapes of the two input arrays.\n",
    "5. In any dimension where one array had size 1 and the other array had size greater than 1, the first array behaves as if it were copied along that dimension.\n",
    "\n",
    "In Numpy, all universal functions support broadcasting!\n",
    "\n",
    "Here are some applications of broadcasting:"
   ]
  },
  {
   "cell_type": "code",
   "execution_count": null,
   "id": "ff5a0593-f391-4c14-9caf-30d633b6fa4a",
   "metadata": {},
   "outputs": [],
   "source": [
    "x = np.array([[1,2,3], [4,5,6]])  # x has shape (2, 3)\n",
    "v = np.array([1, 2, 3])  # v has shape (3,)\n",
    "w = np.array([4, 5])     # w has shape (2,)\n",
    "\n",
    "x"
   ]
  },
  {
   "cell_type": "code",
   "execution_count": null,
   "id": "ec5f8116-84a8-48bb-a942-0ff31f2266ef",
   "metadata": {},
   "outputs": [],
   "source": [
    "# Add a vector to each row of a matrix\n",
    "\n",
    "# x has shape (2, 3) and v has shape (3,) so they broadcast to (2, 3),\n",
    "# giving the following matrix:\n",
    "\n",
    "x + v"
   ]
  },
  {
   "cell_type": "code",
   "execution_count": null,
   "id": "7d8b569a-de5e-4325-92d5-0f1721bf8c98",
   "metadata": {},
   "outputs": [],
   "source": [
    "# Add a vector to each column of a matrix\n",
    "\n",
    "# x has shape (2, 3) and w has shape (2,).\n",
    "# If we transpose x then it has shape (3, 2) and can be broadcast\n",
    "# against w to yield a result of shape (3, 2); transposing this result\n",
    "# yields the final result of shape (2, 3) which is the matrix x with\n",
    "# the vector w added to each column. Gives the following matrix:\n",
    "\n",
    "(x.T + w).T"
   ]
  },
  {
   "cell_type": "code",
   "execution_count": null,
   "id": "52ac2a9a-7e06-4000-a9bd-acd680d08ae8",
   "metadata": {},
   "outputs": [],
   "source": [
    "# Compute outer product of vectors\n",
    "\n",
    "# To compute an outer product, we first reshape v to be a column\n",
    "# vector of shape (3, 1); we can then broadcast it against w to yield\n",
    "# an output of shape (3, 2), which is the outer product of v and w:\n",
    "\n",
    "np.reshape(v, (3, 1)) * w"
   ]
  },
  {
   "cell_type": "code",
   "execution_count": null,
   "id": "f4cf0b53-3c4c-42cc-a9c4-991785505898",
   "metadata": {},
   "outputs": [],
   "source": [
    "np.outer(v, w)"
   ]
  },
  {
   "cell_type": "markdown",
   "id": "df8b1c62-9216-41d0-bf7f-19454cbe330f",
   "metadata": {},
   "source": [
    "Broadcasting typically makes your code more concise and faster, so you should strive to use it where possible."
   ]
  },
  {
   "cell_type": "markdown",
   "id": "76c9f89e-8507-4538-9f1d-ac3dbc4c622b",
   "metadata": {},
   "source": [
    "<div class=\"alert alert-success\">\n",
    "    \n",
    "**Exercise**. Divide each column of the array `a = np.arange(25).reshape(5, 5)` elementwise with the array `b = np.array([1., 5, 10, 15, 20])`.\n",
    "\n",
    "</div>"
   ]
  },
  {
   "cell_type": "code",
   "execution_count": null,
   "id": "f0d118a6-d2b9-457f-87f4-e64e5b968937",
   "metadata": {},
   "outputs": [],
   "source": []
  },
  {
   "cell_type": "markdown",
   "id": "007c90c0-8388-4ccf-a508-7615abc09a02",
   "metadata": {},
   "source": [
    "# Routines"
   ]
  },
  {
   "cell_type": "markdown",
   "id": "50c03040-d8c7-4d45-ae83-9fa0e90ab698",
   "metadata": {},
   "source": [
    "Numpy comes with [a large suite](https://numpy.org/doc/stable/reference/routines.html) of routines, including:\n",
    "\n",
    "- Array creation and manipulation\n",
    "- String operations\n",
    "- Datetime support functions\n",
    "- Functional programming\n",
    "- I/O\n",
    "- Linear algebra\n",
    "- Mathematical functions\n",
    "- Random sampling\n",
    "- Sorting, searching and counting\n",
    "- Statistics"
   ]
  },
  {
   "cell_type": "markdown",
   "id": "d2d6b24e-0ade-4499-8139-34f2d65d4bf0",
   "metadata": {},
   "source": [
    "# Wrap-up exercises"
   ]
  },
  {
   "cell_type": "markdown",
   "id": "93f76614-be64-4853-b4b9-6dc2c58e1fe6",
   "metadata": {},
   "source": [
    "## Data statistics (Scipy lectures, 1.4.5.3)"
   ]
  },
  {
   "cell_type": "markdown",
   "id": "3af81620-ff7c-4151-88b5-764566037d9c",
   "metadata": {},
   "source": [
    "The data in `data/population.txt` describes the populations of hares and lynxes (and carrots) in northern Canada during 20 years:"
   ]
  },
  {
   "cell_type": "code",
   "execution_count": null,
   "id": "127d881c-bfca-44e3-9bb3-33603de59a6b",
   "metadata": {},
   "outputs": [],
   "source": [
    "data = np.loadtxt(\"data/populations.txt\")\n",
    "year, hares, lynxes, carrots = data.T\n",
    "\n",
    "import matplotlib.pyplot as plt\n",
    "plt.plot(year, hares, label=\"hares\")\n",
    "plt.plot(year, lynxes, label=\"lynxes\")\n",
    "plt.plot(year, carrots, label=\"carrots\")\n",
    "plt.legend()\n",
    "plt.show()"
   ]
  },
  {
   "cell_type": "markdown",
   "id": "b1d2f6b4-f7c7-421d-a622-400496f885db",
   "metadata": {},
   "source": [
    "Compute and print, based on the data in the file:\n",
    "\n",
    "1. The mean and std of the populations of each species for the years in the period.\n",
    "2. Which year each species had the largest population.\n",
    "3. Which species has the largest population for each year.\n",
    "4. Which years any of the populations is above 50000. \n",
    "5. The top 2 years for each species when they had the lowest populations.\n",
    "6. Compare (plot) the change in hare population (see `np.gradient`) and the number of lynxes. Check correlations (see `np.corrcoef`).\n",
    "\n",
    "... all without for-loops."
   ]
  },
  {
   "cell_type": "code",
   "execution_count": null,
   "id": "fdcd688e-7be1-445d-a960-f3f26d3c9d96",
   "metadata": {},
   "outputs": [],
   "source": [
    "hares.mean(), lynxes.mean(), carrots.mean()"
   ]
  },
  {
   "cell_type": "code",
   "execution_count": null,
   "id": "d4834027-420f-4a6d-bee1-32326e9421b5",
   "metadata": {},
   "outputs": [],
   "source": [
    "np.mean(data[:, 1:], axis=0)"
   ]
  },
  {
   "cell_type": "code",
   "execution_count": null,
   "id": "6cd42430-7203-4fd6-bbfd-ecb91cf60820",
   "metadata": {},
   "outputs": [],
   "source": [
    "year[np.argmax(data[:, 1:], axis=0)]"
   ]
  },
  {
   "cell_type": "code",
   "execution_count": null,
   "id": "714a5a9e-a5c2-4ed3-a8f9-e77fc2ebbd2d",
   "metadata": {},
   "outputs": [],
   "source": [
    "species = np.argmax(data[:, 1:], axis=1)\n",
    "np.array([\"hares\", \"lynxes\", \"carrots\"])[species]"
   ]
  },
  {
   "cell_type": "code",
   "execution_count": null,
   "id": "c7778df0-87bf-4557-b004-374143aaa637",
   "metadata": {},
   "outputs": [],
   "source": [
    "year[np.any(data[:, 1:] > 50000, axis=1)]"
   ]
  },
  {
   "cell_type": "code",
   "execution_count": null,
   "id": "ef91a7ca-a640-4d50-b5c2-8fac1c4690f8",
   "metadata": {},
   "outputs": [],
   "source": [
    "year[np.argsort(data[:, 1:], axis=0)[:2]]"
   ]
  },
  {
   "cell_type": "code",
   "execution_count": null,
   "id": "68b36285-14a8-432c-8c2d-f1dadb81a99c",
   "metadata": {},
   "outputs": [],
   "source": [
    "plt.plot(year, np.gradient(hares), label=\"rate of change of hares\")\n",
    "plt.plot(year, lynxes, label=\"lynxes\")\n",
    "plt.legend()\n",
    "plt.plot()"
   ]
  },
  {
   "cell_type": "code",
   "execution_count": null,
   "id": "0babecd8-54d6-4ab0-816d-4b027b0c2bd2",
   "metadata": {},
   "outputs": [],
   "source": [
    "np.corrcoef(np.gradient(hares), lynxes)"
   ]
  },
  {
   "cell_type": "markdown",
   "id": "a45385f7-78f2-4657-abfe-d9efb17a6468",
   "metadata": {},
   "source": [
    "## Mandelbrot (Scipy lectures, 1.4.5.5)"
   ]
  },
  {
   "cell_type": "markdown",
   "id": "a63c2fa7-b467-4613-98e5-d23b8b4b7545",
   "metadata": {},
   "source": [
    "Write a script that computes the Mandelbrot fractal. The Mandelbrot iteration:\n",
    "```python\n",
    "N_max = 50\n",
    "threshold = 50\n",
    "c = x + 1j*y\n",
    "z = 0\n",
    "for j in range(N_max):\n",
    "    z = z**2 + c\n",
    "```\n",
    "\n",
    "A point `(x, y)` belongs to the Mandelbrot set if `|z| < threshold`. \n",
    "\n",
    "Compute the Mandelbrot in the following way:\n",
    "1. Build a grid of `c = x + 1j * y` values in the range `[-2, 1]x[-1.5, 1.5]`.\n",
    "2. Compute the Mandelbrot iteration.\n",
    "3. Form the 2d Boolean mask indicating which points are in the set.\n",
    "4. Display the result with `plt.imshow()`."
   ]
  },
  {
   "cell_type": "code",
   "execution_count": null,
   "id": "ddf033e0-3bc4-4705-8e14-835e3e2e2094",
   "metadata": {},
   "outputs": [],
   "source": []
  }
 ],
 "metadata": {
  "kernelspec": {
   "display_name": "Python [conda env:dats0001]",
   "language": "python",
   "name": "conda-env-dats0001-py"
  },
  "language_info": {
   "codemirror_mode": {
    "name": "ipython",
    "version": 3
   },
   "file_extension": ".py",
   "mimetype": "text/x-python",
   "name": "python",
   "nbconvert_exporter": "python",
   "pygments_lexer": "ipython3",
   "version": "3.9.18"
  },
  "toc-autonumbering": false
 },
 "nbformat": 4,
 "nbformat_minor": 5
}
