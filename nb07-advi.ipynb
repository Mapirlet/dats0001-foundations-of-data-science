{
 "cells": [
  {
   "cell_type": "markdown",
   "id": "05080d5f-640d-4a95-bba4-f0dadda33ce5",
   "metadata": {},
   "source": [
    "# `nb07`: Variational inference"
   ]
  },
  {
   "cell_type": "code",
   "execution_count": 4,
   "id": "493ac96c-00ac-4587-a2f6-d0dbf59eb703",
   "metadata": {},
   "outputs": [],
   "source": [
    "import numpy as np\n",
    "import matplotlib.pyplot as plt\n",
    "\n",
    "import jax\n",
    "import jax.numpy as jnp\n",
    "import jax.scipy as jsc"
   ]
  },
  {
   "cell_type": "code",
   "execution_count": 5,
   "id": "fe3855f7-12b8-40be-9131-1060fa96e542",
   "metadata": {},
   "outputs": [],
   "source": [
    "import wandb\n",
    "from tqdm import tqdm"
   ]
  },
  {
   "cell_type": "markdown",
   "id": "0f2a306b-c9a5-478c-bfe1-ee061702441f",
   "metadata": {},
   "source": [
    "# The pitcher's example"
   ]
  },
  {
   "cell_type": "code",
   "execution_count": 6,
   "id": "bcf09449-1829-4273-9567-4decd0f73817",
   "metadata": {},
   "outputs": [],
   "source": [
    "# Gaussian mean-field variational parameterization\n",
    "def vp_init(size):\n",
    "    mu = np.random.randn(size)\n",
    "    log_s = np.random.randn(size)  # omega\n",
    "    return jnp.array([mu, log_s])\n",
    "\n",
    "def eps_rvs(size, n=1):\n",
    "    return np.random.randn(n, size)\n",
    "\n",
    "def zeta(vp, eps):\n",
    "    mu = vp[0]\n",
    "    s = jnp.exp(vp[1])\n",
    "    return mu + s * eps   \n",
    "\n",
    "def entropy_q(vp):\n",
    "    K = len(vp[0])\n",
    "    return K / 2. * (1. + np.log(2 * np.pi)) + jnp.sum(vp[1]) "
   ]
  },
  {
   "cell_type": "code",
   "execution_count": 7,
   "id": "5e5eb1b1-c4a0-422b-bd1e-2c80556fbcab",
   "metadata": {},
   "outputs": [],
   "source": [
    "# Transformation from bounded to real\n",
    "def sigmoid(x):\n",
    "    return 1. / (1. + jnp.exp(-x))\n",
    "    \n",
    "def T(z, a, b):\n",
    "    zeta = jsc.special.logit((z - a) / (b - a))\n",
    "    return zeta\n",
    "\n",
    "def T_inv(zeta, a, b):\n",
    "    z = a + (b - a) * sigmoid(zeta)\n",
    "    return z\n",
    "    \n",
    "def det_jac_T_inv(zeta, a, b):\n",
    "    return (b - a) * sigmoid(zeta) * (1 - sigmoid(zeta))"
   ]
  },
  {
   "cell_type": "code",
   "execution_count": 8,
   "id": "c372cdea-3a08-458e-86e1-fc5d41636489",
   "metadata": {},
   "outputs": [],
   "source": [
    "# Prior\n",
    "def log_prior_v(v):\n",
    "    return jnp.log(1. / 10)\n",
    "\n",
    "def log_prior_alpha(alpha):\n",
    "    return jnp.log(2. / np.pi)"
   ]
  },
  {
   "cell_type": "code",
   "execution_count": 9,
   "id": "1fc29d0e-644e-4242-946e-3d739ea81992",
   "metadata": {},
   "outputs": [],
   "source": [
    "# Likelihood\n",
    "def _trajectory(v, alpha, dt=0.1, G=9.81):\n",
    "    v_x = v * jnp.cos(alpha)  # x velocity m/s\n",
    "    v_y = v * jnp.sin(alpha)  # y velocity m/s\n",
    "    \n",
    "    x = 0.0  # initial position\n",
    "    y = 1.5  # initial height\n",
    "\n",
    "    while y > 0:  # simulate until ball hits floor\n",
    "        v_y += dt * -G  # acceleration due to gravity\n",
    "        x += dt * v_x\n",
    "        y += dt * v_y\n",
    "        \n",
    "    return x, y\n",
    "\n",
    "def log_likelihood(x_obs, v, alpha, sigma=0.5):\n",
    "    mu, _ = _trajectory(v, alpha)\n",
    "    return -0.5 * ((x_obs - mu) / sigma) ** 2 - jnp.log(sigma * (2. * np.pi) ** 0.5)"
   ]
  },
  {
   "cell_type": "code",
   "execution_count": 10,
   "id": "72cc4bae-ff12-4b57-8676-521c3a52e39f",
   "metadata": {},
   "outputs": [],
   "source": [
    "def elbo(vp, x_obs, eps):\n",
    "    _zeta = zeta(vp, eps)\n",
    "    out = 0.0\n",
    "    \n",
    "    # log p(v)\n",
    "    v = T_inv(_zeta[0], 0., 10.)\n",
    "    out += log_prior_v(v)\n",
    "    out += jnp.log(det_jac_T_inv(_zeta[0], 0., 10.))\n",
    "    \n",
    "    # log p(alpha)\n",
    "    alpha = T_inv(_zeta[1], 0., np.pi / 2)\n",
    "    out += log_prior_alpha(alpha)\n",
    "    out += jnp.log(det_jac_T_inv(_zeta[1], 0., np.pi / 2.))\n",
    "    \n",
    "    # log p(x|v, alpha)\n",
    "    out += log_likelihood(x_obs, v, alpha)\n",
    "    \n",
    "    # entropy q\n",
    "    out += entropy_q(vp)\n",
    "    \n",
    "    return jnp.sum(out) \n",
    "\n",
    "grad_elbo = jax.grad(elbo)"
   ]
  },
  {
   "cell_type": "code",
   "execution_count": 16,
   "id": "d44003da-31c2-4085-8903-a76830daf6ef",
   "metadata": {},
   "outputs": [
    {
     "data": {
      "text/html": [
       "Finishing last run (ID:nm303jij) before initializing another..."
      ],
      "text/plain": [
       "<IPython.core.display.HTML object>"
      ]
     },
     "metadata": {},
     "output_type": "display_data"
    },
    {
     "data": {
      "application/vnd.jupyter.widget-view+json": {
       "model_id": "d8f957b8bd7d4d328b1f19a70e6b0c6e",
       "version_major": 2,
       "version_minor": 0
      },
      "text/plain": [
       "VBox(children=(Label(value='0.007 MB of 0.007 MB uploaded\\r'), FloatProgress(value=1.0, max=1.0)))"
      ]
     },
     "metadata": {},
     "output_type": "display_data"
    },
    {
     "data": {
      "text/html": [
       "<style>\n",
       "    table.wandb td:nth-child(1) { padding: 0 10px; text-align: left ; width: auto;} td:nth-child(2) {text-align: left ; width: 100%}\n",
       "    .wandb-row { display: flex; flex-direction: row; flex-wrap: wrap; justify-content: flex-start; width: 100% }\n",
       "    .wandb-col { display: flex; flex-direction: column; flex-basis: 100%; flex: 1; padding: 10px; }\n",
       "    </style>\n",
       "<div class=\"wandb-row\"><div class=\"wandb-col\"><h3>Run history:</h3><br/><table class=\"wandb\"><tr><td>ELBO</td><td>▁▃▄▅▇█▇█████████████████████████████████</td></tr></table><br/></div><div class=\"wandb-col\"><h3>Run summary:</h3><br/><table class=\"wandb\"><tr><td>ELBO</td><td>-5.36232</td></tr></table><br/></div></div>"
      ],
      "text/plain": [
       "<IPython.core.display.HTML object>"
      ]
     },
     "metadata": {},
     "output_type": "display_data"
    },
    {
     "data": {
      "text/html": [
       " View run <strong style=\"color:#cdcd00\">jolly-meadow-11</strong> at: <a href='https://wandb.ai/glouppe/nb08-advi/runs/nm303jij' target=\"_blank\">https://wandb.ai/glouppe/nb08-advi/runs/nm303jij</a><br/> View job at <a href='https://wandb.ai/glouppe/nb08-advi/jobs/QXJ0aWZhY3RDb2xsZWN0aW9uOjExNzI1OTYwOQ==/version_details/v0' target=\"_blank\">https://wandb.ai/glouppe/nb08-advi/jobs/QXJ0aWZhY3RDb2xsZWN0aW9uOjExNzI1OTYwOQ==/version_details/v0</a><br/>Synced 6 W&B file(s), 0 media file(s), 2 artifact file(s) and 0 other file(s)"
      ],
      "text/plain": [
       "<IPython.core.display.HTML object>"
      ]
     },
     "metadata": {},
     "output_type": "display_data"
    },
    {
     "data": {
      "text/html": [
       "Find logs at: <code>./wandb/run-20231120_155426-nm303jij/logs</code>"
      ],
      "text/plain": [
       "<IPython.core.display.HTML object>"
      ]
     },
     "metadata": {},
     "output_type": "display_data"
    },
    {
     "data": {
      "text/html": [
       "Successfully finished last run (ID:nm303jij). Initializing new run:<br/>"
      ],
      "text/plain": [
       "<IPython.core.display.HTML object>"
      ]
     },
     "metadata": {},
     "output_type": "display_data"
    },
    {
     "data": {
      "application/vnd.jupyter.widget-view+json": {
       "model_id": "e4bd6350fe384e0eb950f39cb3055073",
       "version_major": 2,
       "version_minor": 0
      },
      "text/plain": [
       "VBox(children=(Label(value='Waiting for wandb.init()...\\r'), FloatProgress(value=0.011114255722228942, max=1.0…"
      ]
     },
     "metadata": {},
     "output_type": "display_data"
    },
    {
     "data": {
      "text/html": [
       "Tracking run with wandb version 0.16.0"
      ],
      "text/plain": [
       "<IPython.core.display.HTML object>"
      ]
     },
     "metadata": {},
     "output_type": "display_data"
    },
    {
     "data": {
      "text/html": [
       "Run data is saved locally in <code>/home/glouppe/Documents/teaching/DATS0001 - Foundations of Data Science/2023-2024/course/wandb/run-20231120_155827-hte45lwk</code>"
      ],
      "text/plain": [
       "<IPython.core.display.HTML object>"
      ]
     },
     "metadata": {},
     "output_type": "display_data"
    },
    {
     "data": {
      "text/html": [
       "Syncing run <strong><a href='https://wandb.ai/glouppe/nb08-advi/runs/hte45lwk' target=\"_blank\">revived-music-12</a></strong> to <a href='https://wandb.ai/glouppe/nb08-advi' target=\"_blank\">Weights & Biases</a> (<a href='https://wandb.me/run' target=\"_blank\">docs</a>)<br/>"
      ],
      "text/plain": [
       "<IPython.core.display.HTML object>"
      ]
     },
     "metadata": {},
     "output_type": "display_data"
    },
    {
     "data": {
      "text/html": [
       " View project at <a href='https://wandb.ai/glouppe/nb08-advi' target=\"_blank\">https://wandb.ai/glouppe/nb08-advi</a>"
      ],
      "text/plain": [
       "<IPython.core.display.HTML object>"
      ]
     },
     "metadata": {},
     "output_type": "display_data"
    },
    {
     "data": {
      "text/html": [
       " View run at <a href='https://wandb.ai/glouppe/nb08-advi/runs/hte45lwk' target=\"_blank\">https://wandb.ai/glouppe/nb08-advi/runs/hte45lwk</a>"
      ],
      "text/plain": [
       "<IPython.core.display.HTML object>"
      ]
     },
     "metadata": {},
     "output_type": "display_data"
    }
   ],
   "source": [
    "v_true = 7.5\n",
    "alpha_true = np.pi / 4\n",
    "mu, _ = _trajectory(v_true, alpha_true)\n",
    "x_obs = np.random.randn(1) * 0.5 + mu\n",
    "x_obs = x_obs[0]\n",
    "\n",
    "vp = vp_init(2)\n",
    "batchsize = 25\n",
    "lr = 0.02\n",
    "n_epochs = 50\n",
    "\n",
    "wandb.init(project=\"nb08-advi\")\n",
    "wandb.config.update({\n",
    "    \"v_true\": v_true, \"alpha_true\": alpha_true, \"x_obs\": x_obs,\n",
    "    \"lr\": lr, \"batchsize\": batchsize\n",
    "})"
   ]
  },
  {
   "cell_type": "code",
   "execution_count": 20,
   "id": "64ce1e24-05f2-4353-9c98-2360a27daa7d",
   "metadata": {},
   "outputs": [
    {
     "name": "stderr",
     "output_type": "stream",
     "text": [
      " 24%|██████████▎                                | 12/50 [00:20<01:05,  1.73s/it]\n"
     ]
    },
    {
     "ename": "KeyboardInterrupt",
     "evalue": "",
     "output_type": "error",
     "traceback": [
      "\u001b[0;31m---------------------------------------------------------------------------\u001b[0m",
      "\u001b[0;31mKeyboardInterrupt\u001b[0m                         Traceback (most recent call last)",
      "Cell \u001b[0;32mIn[20], line 13\u001b[0m\n\u001b[1;32m     10\u001b[0m g \u001b[38;5;241m=\u001b[39m jnp\u001b[38;5;241m.\u001b[39mzeros_like(g)\n\u001b[1;32m     12\u001b[0m \u001b[38;5;28;01mfor\u001b[39;00m eps \u001b[38;5;129;01min\u001b[39;00m eps_rvs(\u001b[38;5;241m2\u001b[39m, batchsize):\n\u001b[0;32m---> 13\u001b[0m     g \u001b[38;5;241m+\u001b[39m\u001b[38;5;241m=\u001b[39m \u001b[43mgrad_elbo\u001b[49m\u001b[43m(\u001b[49m\u001b[43mvp\u001b[49m\u001b[43m,\u001b[49m\u001b[43m \u001b[49m\u001b[43mx_obs\u001b[49m\u001b[43m,\u001b[49m\u001b[43m \u001b[49m\u001b[43meps\u001b[49m\u001b[43m)\u001b[49m\n\u001b[1;32m     15\u001b[0m vp \u001b[38;5;241m+\u001b[39m\u001b[38;5;241m=\u001b[39m lr \u001b[38;5;241m*\u001b[39m g \u001b[38;5;241m/\u001b[39m batchsize\n",
      "    \u001b[0;31m[... skipping hidden 1 frame]\u001b[0m\n",
      "File \u001b[0;32m~/anaconda3/envs/dats0001/lib/python3.9/site-packages/jax/_src/api.py:666\u001b[0m, in \u001b[0;36mgrad.<locals>.grad_f\u001b[0;34m(*args, **kwargs)\u001b[0m\n\u001b[1;32m    663\u001b[0m \u001b[38;5;129m@wraps\u001b[39m(fun, docstr\u001b[38;5;241m=\u001b[39mdocstr, argnums\u001b[38;5;241m=\u001b[39margnums)\n\u001b[1;32m    664\u001b[0m \u001b[38;5;129m@api_boundary\u001b[39m\n\u001b[1;32m    665\u001b[0m \u001b[38;5;28;01mdef\u001b[39;00m \u001b[38;5;21mgrad_f\u001b[39m(\u001b[38;5;241m*\u001b[39margs, \u001b[38;5;241m*\u001b[39m\u001b[38;5;241m*\u001b[39mkwargs):\n\u001b[0;32m--> 666\u001b[0m   _, g \u001b[38;5;241m=\u001b[39m \u001b[43mvalue_and_grad_f\u001b[49m\u001b[43m(\u001b[49m\u001b[38;5;241;43m*\u001b[39;49m\u001b[43margs\u001b[49m\u001b[43m,\u001b[49m\u001b[43m \u001b[49m\u001b[38;5;241;43m*\u001b[39;49m\u001b[38;5;241;43m*\u001b[39;49m\u001b[43mkwargs\u001b[49m\u001b[43m)\u001b[49m\n\u001b[1;32m    667\u001b[0m   \u001b[38;5;28;01mreturn\u001b[39;00m g\n",
      "    \u001b[0;31m[... skipping hidden 1 frame]\u001b[0m\n",
      "File \u001b[0;32m~/anaconda3/envs/dats0001/lib/python3.9/site-packages/jax/_src/api.py:742\u001b[0m, in \u001b[0;36mvalue_and_grad.<locals>.value_and_grad_f\u001b[0;34m(*args, **kwargs)\u001b[0m\n\u001b[1;32m    740\u001b[0m   _check_input_dtype_grad(holomorphic, allow_int, leaf)\n\u001b[1;32m    741\u001b[0m \u001b[38;5;28;01mif\u001b[39;00m \u001b[38;5;129;01mnot\u001b[39;00m has_aux:\n\u001b[0;32m--> 742\u001b[0m   ans, vjp_py \u001b[38;5;241m=\u001b[39m \u001b[43m_vjp\u001b[49m\u001b[43m(\u001b[49m\u001b[43mf_partial\u001b[49m\u001b[43m,\u001b[49m\u001b[43m \u001b[49m\u001b[38;5;241;43m*\u001b[39;49m\u001b[43mdyn_args\u001b[49m\u001b[43m,\u001b[49m\u001b[43m \u001b[49m\u001b[43mreduce_axes\u001b[49m\u001b[38;5;241;43m=\u001b[39;49m\u001b[43mreduce_axes\u001b[49m\u001b[43m)\u001b[49m\n\u001b[1;32m    743\u001b[0m \u001b[38;5;28;01melse\u001b[39;00m:\n\u001b[1;32m    744\u001b[0m   ans, vjp_py, aux \u001b[38;5;241m=\u001b[39m _vjp(\n\u001b[1;32m    745\u001b[0m       f_partial, \u001b[38;5;241m*\u001b[39mdyn_args, has_aux\u001b[38;5;241m=\u001b[39m\u001b[38;5;28;01mTrue\u001b[39;00m, reduce_axes\u001b[38;5;241m=\u001b[39mreduce_axes)\n",
      "File \u001b[0;32m~/anaconda3/envs/dats0001/lib/python3.9/site-packages/jax/_src/api.py:2248\u001b[0m, in \u001b[0;36m_vjp\u001b[0;34m(fun, has_aux, reduce_axes, *primals)\u001b[0m\n\u001b[1;32m   2246\u001b[0m \u001b[38;5;28;01mif\u001b[39;00m \u001b[38;5;129;01mnot\u001b[39;00m has_aux:\n\u001b[1;32m   2247\u001b[0m   flat_fun, out_tree \u001b[38;5;241m=\u001b[39m flatten_fun_nokwargs(fun, in_tree)\n\u001b[0;32m-> 2248\u001b[0m   out_primal, out_vjp \u001b[38;5;241m=\u001b[39m \u001b[43mad\u001b[49m\u001b[38;5;241;43m.\u001b[39;49m\u001b[43mvjp\u001b[49m\u001b[43m(\u001b[49m\n\u001b[1;32m   2249\u001b[0m \u001b[43m      \u001b[49m\u001b[43mflat_fun\u001b[49m\u001b[43m,\u001b[49m\u001b[43m \u001b[49m\u001b[43mprimals_flat\u001b[49m\u001b[43m,\u001b[49m\u001b[43m \u001b[49m\u001b[43mreduce_axes\u001b[49m\u001b[38;5;241;43m=\u001b[39;49m\u001b[43mreduce_axes\u001b[49m\u001b[43m)\u001b[49m\n\u001b[1;32m   2250\u001b[0m   out_tree \u001b[38;5;241m=\u001b[39m out_tree()\n\u001b[1;32m   2251\u001b[0m \u001b[38;5;28;01melse\u001b[39;00m:\n",
      "File \u001b[0;32m~/anaconda3/envs/dats0001/lib/python3.9/site-packages/jax/_src/interpreters/ad.py:140\u001b[0m, in \u001b[0;36mvjp\u001b[0;34m(traceable, primals, has_aux, reduce_axes)\u001b[0m\n\u001b[1;32m    138\u001b[0m \u001b[38;5;28;01mdef\u001b[39;00m \u001b[38;5;21mvjp\u001b[39m(traceable, primals, has_aux\u001b[38;5;241m=\u001b[39m\u001b[38;5;28;01mFalse\u001b[39;00m, reduce_axes\u001b[38;5;241m=\u001b[39m()):\n\u001b[1;32m    139\u001b[0m   \u001b[38;5;28;01mif\u001b[39;00m \u001b[38;5;129;01mnot\u001b[39;00m has_aux:\n\u001b[0;32m--> 140\u001b[0m     out_primals, pvals, jaxpr, consts \u001b[38;5;241m=\u001b[39m \u001b[43mlinearize\u001b[49m\u001b[43m(\u001b[49m\u001b[43mtraceable\u001b[49m\u001b[43m,\u001b[49m\u001b[43m \u001b[49m\u001b[38;5;241;43m*\u001b[39;49m\u001b[43mprimals\u001b[49m\u001b[43m)\u001b[49m\n\u001b[1;32m    141\u001b[0m   \u001b[38;5;28;01melse\u001b[39;00m:\n\u001b[1;32m    142\u001b[0m     out_primals, pvals, jaxpr, consts, aux \u001b[38;5;241m=\u001b[39m linearize(traceable, \u001b[38;5;241m*\u001b[39mprimals, has_aux\u001b[38;5;241m=\u001b[39m\u001b[38;5;28;01mTrue\u001b[39;00m)\n",
      "File \u001b[0;32m~/anaconda3/envs/dats0001/lib/python3.9/site-packages/jax/_src/interpreters/ad.py:129\u001b[0m, in \u001b[0;36mlinearize\u001b[0;34m(traceable, *primals, **kwargs)\u001b[0m\n\u001b[1;32m    127\u001b[0m _, in_tree \u001b[38;5;241m=\u001b[39m tree_flatten(((primals, primals), {}))\n\u001b[1;32m    128\u001b[0m jvpfun_flat, out_tree \u001b[38;5;241m=\u001b[39m flatten_fun(jvpfun, in_tree)\n\u001b[0;32m--> 129\u001b[0m jaxpr, out_pvals, consts \u001b[38;5;241m=\u001b[39m \u001b[43mpe\u001b[49m\u001b[38;5;241;43m.\u001b[39;49m\u001b[43mtrace_to_jaxpr_nounits\u001b[49m\u001b[43m(\u001b[49m\u001b[43mjvpfun_flat\u001b[49m\u001b[43m,\u001b[49m\u001b[43m \u001b[49m\u001b[43min_pvals\u001b[49m\u001b[43m)\u001b[49m\n\u001b[1;32m    130\u001b[0m out_primals_pvals, out_tangents_pvals \u001b[38;5;241m=\u001b[39m tree_unflatten(out_tree(), out_pvals)\n\u001b[1;32m    131\u001b[0m \u001b[38;5;28;01massert\u001b[39;00m \u001b[38;5;28mall\u001b[39m(out_primal_pval\u001b[38;5;241m.\u001b[39mis_known() \u001b[38;5;28;01mfor\u001b[39;00m out_primal_pval \u001b[38;5;129;01min\u001b[39;00m out_primals_pvals)\n",
      "File \u001b[0;32m~/anaconda3/envs/dats0001/lib/python3.9/site-packages/jax/_src/profiler.py:314\u001b[0m, in \u001b[0;36mannotate_function.<locals>.wrapper\u001b[0;34m(*args, **kwargs)\u001b[0m\n\u001b[1;32m    311\u001b[0m \u001b[38;5;129m@wraps\u001b[39m(func)\n\u001b[1;32m    312\u001b[0m \u001b[38;5;28;01mdef\u001b[39;00m \u001b[38;5;21mwrapper\u001b[39m(\u001b[38;5;241m*\u001b[39margs, \u001b[38;5;241m*\u001b[39m\u001b[38;5;241m*\u001b[39mkwargs):\n\u001b[1;32m    313\u001b[0m   \u001b[38;5;28;01mwith\u001b[39;00m TraceAnnotation(name, \u001b[38;5;241m*\u001b[39m\u001b[38;5;241m*\u001b[39mdecorator_kwargs):\n\u001b[0;32m--> 314\u001b[0m     \u001b[38;5;28;01mreturn\u001b[39;00m \u001b[43mfunc\u001b[49m\u001b[43m(\u001b[49m\u001b[38;5;241;43m*\u001b[39;49m\u001b[43margs\u001b[49m\u001b[43m,\u001b[49m\u001b[43m \u001b[49m\u001b[38;5;241;43m*\u001b[39;49m\u001b[38;5;241;43m*\u001b[39;49m\u001b[43mkwargs\u001b[49m\u001b[43m)\u001b[49m\n\u001b[1;32m    315\u001b[0m   \u001b[38;5;28;01mreturn\u001b[39;00m wrapper\n",
      "File \u001b[0;32m~/anaconda3/envs/dats0001/lib/python3.9/site-packages/jax/_src/interpreters/partial_eval.py:777\u001b[0m, in \u001b[0;36mtrace_to_jaxpr_nounits\u001b[0;34m(fun, pvals, instantiate)\u001b[0m\n\u001b[1;32m    775\u001b[0m \u001b[38;5;28;01mwith\u001b[39;00m core\u001b[38;5;241m.\u001b[39mnew_main(JaxprTrace, name_stack\u001b[38;5;241m=\u001b[39mcurrent_name_stack) \u001b[38;5;28;01mas\u001b[39;00m main:\n\u001b[1;32m    776\u001b[0m   fun \u001b[38;5;241m=\u001b[39m trace_to_subjaxpr_nounits(fun, main, instantiate)\n\u001b[0;32m--> 777\u001b[0m   jaxpr, (out_pvals, consts, env) \u001b[38;5;241m=\u001b[39m \u001b[43mfun\u001b[49m\u001b[38;5;241;43m.\u001b[39;49m\u001b[43mcall_wrapped\u001b[49m\u001b[43m(\u001b[49m\u001b[43mpvals\u001b[49m\u001b[43m)\u001b[49m\n\u001b[1;32m    778\u001b[0m   \u001b[38;5;28;01massert\u001b[39;00m \u001b[38;5;129;01mnot\u001b[39;00m env\n\u001b[1;32m    779\u001b[0m   \u001b[38;5;28;01mdel\u001b[39;00m main, fun, env\n",
      "File \u001b[0;32m~/anaconda3/envs/dats0001/lib/python3.9/site-packages/jax/_src/linear_util.py:190\u001b[0m, in \u001b[0;36mWrappedFun.call_wrapped\u001b[0;34m(self, *args, **kwargs)\u001b[0m\n\u001b[1;32m    187\u001b[0m gen \u001b[38;5;241m=\u001b[39m gen_static_args \u001b[38;5;241m=\u001b[39m out_store \u001b[38;5;241m=\u001b[39m \u001b[38;5;28;01mNone\u001b[39;00m\n\u001b[1;32m    189\u001b[0m \u001b[38;5;28;01mtry\u001b[39;00m:\n\u001b[0;32m--> 190\u001b[0m   ans \u001b[38;5;241m=\u001b[39m \u001b[38;5;28;43mself\u001b[39;49m\u001b[38;5;241;43m.\u001b[39;49m\u001b[43mf\u001b[49m\u001b[43m(\u001b[49m\u001b[38;5;241;43m*\u001b[39;49m\u001b[43margs\u001b[49m\u001b[43m,\u001b[49m\u001b[43m \u001b[49m\u001b[38;5;241;43m*\u001b[39;49m\u001b[38;5;241;43m*\u001b[39;49m\u001b[38;5;28;43mdict\u001b[39;49m\u001b[43m(\u001b[49m\u001b[38;5;28;43mself\u001b[39;49m\u001b[38;5;241;43m.\u001b[39;49m\u001b[43mparams\u001b[49m\u001b[43m,\u001b[49m\u001b[43m \u001b[49m\u001b[38;5;241;43m*\u001b[39;49m\u001b[38;5;241;43m*\u001b[39;49m\u001b[43mkwargs\u001b[49m\u001b[43m)\u001b[49m\u001b[43m)\u001b[49m\n\u001b[1;32m    191\u001b[0m \u001b[38;5;28;01mexcept\u001b[39;00m:\n\u001b[1;32m    192\u001b[0m   \u001b[38;5;66;03m# Some transformations yield from inside context managers, so we have to\u001b[39;00m\n\u001b[1;32m    193\u001b[0m   \u001b[38;5;66;03m# interrupt them before reraising the exception. Otherwise they will only\u001b[39;00m\n\u001b[1;32m    194\u001b[0m   \u001b[38;5;66;03m# get garbage-collected at some later time, running their cleanup tasks\u001b[39;00m\n\u001b[1;32m    195\u001b[0m   \u001b[38;5;66;03m# only after this exception is handled, which can corrupt the global\u001b[39;00m\n\u001b[1;32m    196\u001b[0m   \u001b[38;5;66;03m# state.\u001b[39;00m\n\u001b[1;32m    197\u001b[0m   \u001b[38;5;28;01mwhile\u001b[39;00m stack:\n",
      "Cell \u001b[0;32mIn[10], line 19\u001b[0m, in \u001b[0;36melbo\u001b[0;34m(vp, x_obs, eps)\u001b[0m\n\u001b[1;32m     16\u001b[0m out \u001b[38;5;241m+\u001b[39m\u001b[38;5;241m=\u001b[39m log_likelihood(x_obs, v, alpha)\n\u001b[1;32m     18\u001b[0m \u001b[38;5;66;03m# entropy q\u001b[39;00m\n\u001b[0;32m---> 19\u001b[0m out \u001b[38;5;241m+\u001b[39m\u001b[38;5;241m=\u001b[39m \u001b[43mentropy_q\u001b[49m\u001b[43m(\u001b[49m\u001b[43mvp\u001b[49m\u001b[43m)\u001b[49m\n\u001b[1;32m     21\u001b[0m \u001b[38;5;28;01mreturn\u001b[39;00m jnp\u001b[38;5;241m.\u001b[39msum(out)\n",
      "Cell \u001b[0;32mIn[6], line 16\u001b[0m, in \u001b[0;36mentropy_q\u001b[0;34m(vp)\u001b[0m\n\u001b[1;32m     15\u001b[0m \u001b[38;5;28;01mdef\u001b[39;00m \u001b[38;5;21mentropy_q\u001b[39m(vp):\n\u001b[0;32m---> 16\u001b[0m     K \u001b[38;5;241m=\u001b[39m \u001b[38;5;28mlen\u001b[39m(\u001b[43mvp\u001b[49m\u001b[43m[\u001b[49m\u001b[38;5;241;43m0\u001b[39;49m\u001b[43m]\u001b[49m)\n\u001b[1;32m     17\u001b[0m     \u001b[38;5;28;01mreturn\u001b[39;00m K \u001b[38;5;241m/\u001b[39m \u001b[38;5;241m2.\u001b[39m \u001b[38;5;241m*\u001b[39m (\u001b[38;5;241m1.\u001b[39m \u001b[38;5;241m+\u001b[39m np\u001b[38;5;241m.\u001b[39mlog(\u001b[38;5;241m2\u001b[39m \u001b[38;5;241m*\u001b[39m np\u001b[38;5;241m.\u001b[39mpi)) \u001b[38;5;241m+\u001b[39m jnp\u001b[38;5;241m.\u001b[39msum(vp[\u001b[38;5;241m1\u001b[39m])\n",
      "File \u001b[0;32m~/anaconda3/envs/dats0001/lib/python3.9/site-packages/jax/_src/numpy/array_methods.py:728\u001b[0m, in \u001b[0;36m_forward_operator_to_aval.<locals>.op\u001b[0;34m(self, *args)\u001b[0m\n\u001b[1;32m    727\u001b[0m \u001b[38;5;28;01mdef\u001b[39;00m \u001b[38;5;21mop\u001b[39m(\u001b[38;5;28mself\u001b[39m, \u001b[38;5;241m*\u001b[39margs):\n\u001b[0;32m--> 728\u001b[0m   \u001b[38;5;28;01mreturn\u001b[39;00m \u001b[38;5;28;43mgetattr\u001b[39;49m\u001b[43m(\u001b[49m\u001b[38;5;28;43mself\u001b[39;49m\u001b[38;5;241;43m.\u001b[39;49m\u001b[43maval\u001b[49m\u001b[43m,\u001b[49m\u001b[43m \u001b[49m\u001b[38;5;124;43mf\u001b[39;49m\u001b[38;5;124;43m\"\u001b[39;49m\u001b[38;5;124;43m_\u001b[39;49m\u001b[38;5;132;43;01m{\u001b[39;49;00m\u001b[43mname\u001b[49m\u001b[38;5;132;43;01m}\u001b[39;49;00m\u001b[38;5;124;43m\"\u001b[39;49m\u001b[43m)\u001b[49m\u001b[43m(\u001b[49m\u001b[38;5;28;43mself\u001b[39;49m\u001b[43m,\u001b[49m\u001b[43m \u001b[49m\u001b[38;5;241;43m*\u001b[39;49m\u001b[43margs\u001b[49m\u001b[43m)\u001b[49m\n",
      "File \u001b[0;32m~/anaconda3/envs/dats0001/lib/python3.9/site-packages/jax/_src/numpy/array_methods.py:341\u001b[0m, in \u001b[0;36m_getitem\u001b[0;34m(self, item)\u001b[0m\n\u001b[1;32m    340\u001b[0m \u001b[38;5;28;01mdef\u001b[39;00m \u001b[38;5;21m_getitem\u001b[39m(\u001b[38;5;28mself\u001b[39m, item):\n\u001b[0;32m--> 341\u001b[0m   \u001b[38;5;28;01mreturn\u001b[39;00m \u001b[43mlax_numpy\u001b[49m\u001b[38;5;241;43m.\u001b[39;49m\u001b[43m_rewriting_take\u001b[49m\u001b[43m(\u001b[49m\u001b[38;5;28;43mself\u001b[39;49m\u001b[43m,\u001b[49m\u001b[43m \u001b[49m\u001b[43mitem\u001b[49m\u001b[43m)\u001b[49m\n",
      "File \u001b[0;32m~/anaconda3/envs/dats0001/lib/python3.9/site-packages/jax/_src/numpy/lax_numpy.py:4276\u001b[0m, in \u001b[0;36m_rewriting_take\u001b[0;34m(arr, idx, indices_are_sorted, unique_indices, mode, fill_value)\u001b[0m\n\u001b[1;32m   4267\u001b[0m \u001b[38;5;28;01mdef\u001b[39;00m \u001b[38;5;21m_rewriting_take\u001b[39m(arr, idx, indices_are_sorted\u001b[38;5;241m=\u001b[39m\u001b[38;5;28;01mFalse\u001b[39;00m, unique_indices\u001b[38;5;241m=\u001b[39m\u001b[38;5;28;01mFalse\u001b[39;00m,\n\u001b[1;32m   4268\u001b[0m                     mode\u001b[38;5;241m=\u001b[39m\u001b[38;5;28;01mNone\u001b[39;00m, fill_value\u001b[38;5;241m=\u001b[39m\u001b[38;5;28;01mNone\u001b[39;00m):\n\u001b[1;32m   4269\u001b[0m   \u001b[38;5;66;03m# Computes arr[idx].\u001b[39;00m\n\u001b[0;32m   (...)\u001b[0m\n\u001b[1;32m   4273\u001b[0m   \u001b[38;5;66;03m# For simplicity of generated primitives, we call lax.dynamic_slice in the\u001b[39;00m\n\u001b[1;32m   4274\u001b[0m   \u001b[38;5;66;03m# simplest cases: i.e. non-dynamic arrays indexed with integers and slices.\u001b[39;00m\n\u001b[0;32m-> 4276\u001b[0m   \u001b[38;5;28;01mif\u001b[39;00m (result \u001b[38;5;241m:=\u001b[39m \u001b[43m_attempt_rewriting_take_via_slice\u001b[49m\u001b[43m(\u001b[49m\u001b[43marr\u001b[49m\u001b[43m,\u001b[49m\u001b[43m \u001b[49m\u001b[43midx\u001b[49m\u001b[43m,\u001b[49m\u001b[43m \u001b[49m\u001b[43mmode\u001b[49m\u001b[43m)\u001b[49m) \u001b[38;5;129;01mis\u001b[39;00m \u001b[38;5;129;01mnot\u001b[39;00m \u001b[38;5;28;01mNone\u001b[39;00m:\n\u001b[1;32m   4277\u001b[0m     \u001b[38;5;28;01mreturn\u001b[39;00m result\n\u001b[1;32m   4279\u001b[0m   \u001b[38;5;66;03m# TODO(mattjj,dougalm): expand dynamic shape indexing support\u001b[39;00m\n",
      "File \u001b[0;32m~/anaconda3/envs/dats0001/lib/python3.9/site-packages/jax/_src/numpy/lax_numpy.py:4207\u001b[0m, in \u001b[0;36m_attempt_rewriting_take_via_slice\u001b[0;34m(arr, idx, mode)\u001b[0m\n\u001b[1;32m   4204\u001b[0m   \u001b[38;5;28;01mreturn\u001b[39;00m \u001b[38;5;28;01mNone\u001b[39;00m  \u001b[38;5;66;03m# TODO(jakevdp): handle newaxis case\u001b[39;00m\n\u001b[1;32m   4206\u001b[0m simple_revs \u001b[38;5;241m=\u001b[39m {i \u001b[38;5;28;01mfor\u001b[39;00m i, ind \u001b[38;5;129;01min\u001b[39;00m \u001b[38;5;28menumerate\u001b[39m(idx) \u001b[38;5;28;01mif\u001b[39;00m _is_simple_reverse_slice(ind)}\n\u001b[0;32m-> 4207\u001b[0m int_indices \u001b[38;5;241m=\u001b[39m {i \u001b[38;5;28;01mfor\u001b[39;00m i, (ind, size) \u001b[38;5;129;01min\u001b[39;00m \u001b[38;5;28menumerate\u001b[39m(\u001b[38;5;28mzip\u001b[39m(idx, arr\u001b[38;5;241m.\u001b[39mshape))\n\u001b[1;32m   4208\u001b[0m                \u001b[38;5;28;01mif\u001b[39;00m _is_valid_integer_index_for_slice(ind, size, mode)}\n\u001b[1;32m   4209\u001b[0m contiguous_slices \u001b[38;5;241m=\u001b[39m {i \u001b[38;5;28;01mfor\u001b[39;00m i, ind \u001b[38;5;129;01min\u001b[39;00m \u001b[38;5;28menumerate\u001b[39m(idx) \u001b[38;5;28;01mif\u001b[39;00m _is_contiguous_slice(ind)}\n\u001b[1;32m   4211\u001b[0m \u001b[38;5;66;03m# For sharded inputs, indexing (like x[0]) and partial slices (like x[:2] as\u001b[39;00m\n\u001b[1;32m   4212\u001b[0m \u001b[38;5;66;03m# opposed to x[:]) lead to incorrect sharding semantics when computed via\u001b[39;00m\n\u001b[1;32m   4213\u001b[0m \u001b[38;5;66;03m# dynamic_slice, so we fall back to gather.\u001b[39;00m\n\u001b[1;32m   4214\u001b[0m \u001b[38;5;66;03m# TODO(yashkatariya): fix dynamic_slice with sharding\u001b[39;00m\n",
      "File \u001b[0;32m~/anaconda3/envs/dats0001/lib/python3.9/site-packages/jax/_src/numpy/lax_numpy.py:4208\u001b[0m, in \u001b[0;36m<setcomp>\u001b[0;34m(.0)\u001b[0m\n\u001b[1;32m   4204\u001b[0m   \u001b[38;5;28;01mreturn\u001b[39;00m \u001b[38;5;28;01mNone\u001b[39;00m  \u001b[38;5;66;03m# TODO(jakevdp): handle newaxis case\u001b[39;00m\n\u001b[1;32m   4206\u001b[0m simple_revs \u001b[38;5;241m=\u001b[39m {i \u001b[38;5;28;01mfor\u001b[39;00m i, ind \u001b[38;5;129;01min\u001b[39;00m \u001b[38;5;28menumerate\u001b[39m(idx) \u001b[38;5;28;01mif\u001b[39;00m _is_simple_reverse_slice(ind)}\n\u001b[1;32m   4207\u001b[0m int_indices \u001b[38;5;241m=\u001b[39m {i \u001b[38;5;28;01mfor\u001b[39;00m i, (ind, size) \u001b[38;5;129;01min\u001b[39;00m \u001b[38;5;28menumerate\u001b[39m(\u001b[38;5;28mzip\u001b[39m(idx, arr\u001b[38;5;241m.\u001b[39mshape))\n\u001b[0;32m-> 4208\u001b[0m                \u001b[38;5;28;01mif\u001b[39;00m \u001b[43m_is_valid_integer_index_for_slice\u001b[49m\u001b[43m(\u001b[49m\u001b[43mind\u001b[49m\u001b[43m,\u001b[49m\u001b[43m \u001b[49m\u001b[43msize\u001b[49m\u001b[43m,\u001b[49m\u001b[43m \u001b[49m\u001b[43mmode\u001b[49m\u001b[43m)\u001b[49m}\n\u001b[1;32m   4209\u001b[0m contiguous_slices \u001b[38;5;241m=\u001b[39m {i \u001b[38;5;28;01mfor\u001b[39;00m i, ind \u001b[38;5;129;01min\u001b[39;00m \u001b[38;5;28menumerate\u001b[39m(idx) \u001b[38;5;28;01mif\u001b[39;00m _is_contiguous_slice(ind)}\n\u001b[1;32m   4211\u001b[0m \u001b[38;5;66;03m# For sharded inputs, indexing (like x[0]) and partial slices (like x[:2] as\u001b[39;00m\n\u001b[1;32m   4212\u001b[0m \u001b[38;5;66;03m# opposed to x[:]) lead to incorrect sharding semantics when computed via\u001b[39;00m\n\u001b[1;32m   4213\u001b[0m \u001b[38;5;66;03m# dynamic_slice, so we fall back to gather.\u001b[39;00m\n\u001b[1;32m   4214\u001b[0m \u001b[38;5;66;03m# TODO(yashkatariya): fix dynamic_slice with sharding\u001b[39;00m\n",
      "File \u001b[0;32m~/anaconda3/envs/dats0001/lib/python3.9/site-packages/jax/_src/numpy/lax_numpy.py:4178\u001b[0m, in \u001b[0;36m_is_valid_integer_index_for_slice\u001b[0;34m(idx, size, mode)\u001b[0m\n\u001b[1;32m   4176\u001b[0m \u001b[38;5;28;01mif\u001b[39;00m size \u001b[38;5;241m==\u001b[39m \u001b[38;5;241m0\u001b[39m:\n\u001b[1;32m   4177\u001b[0m   \u001b[38;5;28;01mreturn\u001b[39;00m \u001b[38;5;28;01mFalse\u001b[39;00m\n\u001b[0;32m-> 4178\u001b[0m \u001b[38;5;28;01mif\u001b[39;00m \u001b[43m_is_integer_index\u001b[49m\u001b[43m(\u001b[49m\u001b[43midx\u001b[49m\u001b[43m)\u001b[49m:\n\u001b[1;32m   4179\u001b[0m   \u001b[38;5;28;01mreturn\u001b[39;00m \u001b[38;5;241m-\u001b[39msize \u001b[38;5;241m<\u001b[39m\u001b[38;5;241m=\u001b[39m idx \u001b[38;5;241m<\u001b[39m size\n\u001b[1;32m   4180\u001b[0m \u001b[38;5;28;01mtry\u001b[39;00m:\n",
      "File \u001b[0;32m~/anaconda3/envs/dats0001/lib/python3.9/site-packages/jax/_src/numpy/lax_numpy.py:4168\u001b[0m, in \u001b[0;36m_is_integer_index\u001b[0;34m(idx)\u001b[0m\n\u001b[1;32m   4167\u001b[0m \u001b[38;5;28;01mdef\u001b[39;00m \u001b[38;5;21m_is_integer_index\u001b[39m(idx: Any) \u001b[38;5;241m-\u001b[39m\u001b[38;5;241m>\u001b[39m \u001b[38;5;28mbool\u001b[39m:\n\u001b[0;32m-> 4168\u001b[0m   \u001b[38;5;28;01mreturn\u001b[39;00m \u001b[38;5;28misinstance\u001b[39m(idx, (\u001b[38;5;28mint\u001b[39m, \u001b[43mnp\u001b[49m\u001b[38;5;241;43m.\u001b[39;49m\u001b[43minteger\u001b[49m)) \u001b[38;5;129;01mand\u001b[39;00m \u001b[38;5;129;01mnot\u001b[39;00m \u001b[38;5;28misinstance\u001b[39m(idx, (\u001b[38;5;28mbool\u001b[39m, np\u001b[38;5;241m.\u001b[39mbool_))\n",
      "\u001b[0;31mKeyboardInterrupt\u001b[0m: "
     ]
    }
   ],
   "source": [
    "test = eps_rvs(2, 100)\n",
    "g = grad_elbo(vp, x_obs, test[0])\n",
    "\n",
    "for epoch in tqdm(range(n_epochs)):\n",
    "    # Log\n",
    "    elbo_test = np.mean([elbo(vp, x_obs, eps) for eps in test])\n",
    "    wandb.log({\"ELBO\": elbo_test})\n",
    "    \n",
    "    # Update            \n",
    "    g = jnp.zeros_like(g)\n",
    "    \n",
    "    for eps in eps_rvs(2, batchsize):\n",
    "        g += grad_elbo(vp, x_obs, eps)\n",
    "    \n",
    "    vp += lr * g / batchsize"
   ]
  },
  {
   "cell_type": "code",
   "execution_count": 21,
   "id": "74a344c9-2d2b-4077-8227-683259315fa9",
   "metadata": {},
   "outputs": [],
   "source": [
    "_zeta = zeta(vp, eps_rvs(2, 10000))\n",
    "v = T_inv(_zeta[:, 0], 0., 10.)\n",
    "alpha = T_inv(_zeta[:, 1], 0., np.pi / 2.)"
   ]
  },
  {
   "cell_type": "code",
   "execution_count": 22,
   "id": "075d8fba-520e-49e2-a71d-bb5e7129f01a",
   "metadata": {},
   "outputs": [
    {
     "data": {
      "image/png": "[encoded data removed]",
      "text/plain": [
       "<Figure size 550x550 with 4 Axes>"
      ]
     },
     "metadata": {},
     "output_type": "display_data"
    }
   ],
   "source": [
    "import corner\n",
    "thetas = np.array([v, alpha]).T\n",
    "labels = [\"v\", \"alpha\"]\n",
    "fig = corner.corner(thetas, labels=labels, truths=[v_true, alpha_true])"
   ]
  },
  {
   "cell_type": "code",
   "execution_count": 23,
   "id": "5fa1220f-127e-4591-8035-b2a43c1dc580",
   "metadata": {},
   "outputs": [
    {
     "data": {
      "image/png": "[encoded data removed]",
      "text/plain": [
       "<Figure size 640x480 with 1 Axes>"
      ]
     },
     "metadata": {},
     "output_type": "display_data"
    }
   ],
   "source": [
    "# p(x | x_obs)\n",
    "xs = []\n",
    "    \n",
    "for v, alpha in thetas[:5000]:\n",
    "    mu, _ = _trajectory(v, alpha)   \n",
    "    x = np.random.randn(1) * 0.5 + mu\n",
    "    xs.append(x[0])\n",
    "\n",
    "plt.hist(xs, density=True, bins=30, color=\"orange\")\n",
    "plt.scatter([x_obs], [0.])\n",
    "plt.show()"
   ]
  }
 ],
 "metadata": {
  "kernelspec": {
   "display_name": "Python [conda env:dats0001]",
   "language": "python",
   "name": "conda-env-dats0001-py"
  },
  "language_info": {
   "codemirror_mode": {
    "name": "ipython",
    "version": 3
   },
   "file_extension": ".py",
   "mimetype": "text/x-python",
   "name": "python",
   "nbconvert_exporter": "python",
   "pygments_lexer": "ipython3",
   "version": "3.9.18"
  }
 },
 "nbformat": 4,
 "nbformat_minor": 5
}
