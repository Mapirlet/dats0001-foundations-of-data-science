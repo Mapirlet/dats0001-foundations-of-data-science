{
 "cells": [
  {
   "cell_type": "markdown",
   "id": "05080d5f-640d-4a95-bba4-f0dadda33ce5",
   "metadata": {},
   "source": [
    "# `nb07`: Variational inference"
   ]
  },
  {
   "cell_type": "code",
   "execution_count": 13,
   "id": "493ac96c-00ac-4587-a2f6-d0dbf59eb703",
   "metadata": {},
   "outputs": [],
   "source": [
    "import numpy as np\n",
    "import matplotlib.pyplot as plt\n",
    "\n",
    "import jax\n",
    "import jax.numpy as jnp\n",
    "import jax.scipy as jsc"
   ]
  },
  {
   "cell_type": "code",
   "execution_count": 14,
   "id": "fe3855f7-12b8-40be-9131-1060fa96e542",
   "metadata": {},
   "outputs": [],
   "source": [
    "import wandb\n",
    "from tqdm import tqdm"
   ]
  },
  {
   "cell_type": "markdown",
   "id": "0f2a306b-c9a5-478c-bfe1-ee061702441f",
   "metadata": {},
   "source": [
    "# The pitcher's example"
   ]
  },
  {
   "cell_type": "code",
   "execution_count": 15,
   "id": "bcf09449-1829-4273-9567-4decd0f73817",
   "metadata": {},
   "outputs": [],
   "source": [
    "# Gaussian mean-field variational parameterization\n",
    "def vp_init(size):\n",
    "    mu = np.random.randn(size)\n",
    "    log_s = np.random.randn(size)  # omega\n",
    "    return jnp.array([mu, log_s])\n",
    "\n",
    "def eps_rvs(size, n=1):\n",
    "    return np.random.randn(n, size)\n",
    "\n",
    "def zeta(vp, eps):\n",
    "    mu = vp[0]\n",
    "    s = jnp.exp(vp[1])\n",
    "    return mu + s * eps   \n",
    "\n",
    "def entropy_q(vp):\n",
    "    K = len(vp[0])\n",
    "    return K / 2. * (1. + np.log(2 * np.pi)) + jnp.sum(vp[1]) "
   ]
  },
  {
   "cell_type": "code",
   "execution_count": 16,
   "id": "5e5eb1b1-c4a0-422b-bd1e-2c80556fbcab",
   "metadata": {},
   "outputs": [],
   "source": [
    "# Transformation from bounded to real\n",
    "def sigmoid(x):\n",
    "    return 1. / (1. + jnp.exp(-x))\n",
    "    \n",
    "def T(z, a, b):\n",
    "    zeta = jsc.special.logit((z - a) / (b - a))\n",
    "    return zeta\n",
    "\n",
    "def T_inv(zeta, a, b):\n",
    "    z = a + (b - a) * sigmoid(zeta)\n",
    "    return z\n",
    "    \n",
    "def det_jac_T_inv(zeta, a, b):\n",
    "    return (b - a) * sigmoid(zeta) * (1 - sigmoid(zeta))"
   ]
  },
  {
   "cell_type": "code",
   "execution_count": 17,
   "id": "c372cdea-3a08-458e-86e1-fc5d41636489",
   "metadata": {},
   "outputs": [],
   "source": [
    "# Prior\n",
    "def log_prior_v(v):\n",
    "    return jnp.log(1. / 10)\n",
    "\n",
    "def log_prior_alpha(alpha):\n",
    "    return jnp.log(2. / np.pi)"
   ]
  },
  {
   "cell_type": "code",
   "execution_count": 18,
   "id": "1fc29d0e-644e-4242-946e-3d739ea81992",
   "metadata": {},
   "outputs": [],
   "source": [
    "# Likelihood\n",
    "def _trajectory(v, alpha, dt=0.1, G=9.81):\n",
    "    v_x = v * jnp.cos(alpha)  # x velocity m/s\n",
    "    v_y = v * jnp.sin(alpha)  # y velocity m/s\n",
    "    \n",
    "    x = 0.0  # initial position\n",
    "    y = 1.5  # initial height\n",
    "\n",
    "    while y > 0:  # simulate until ball hits floor\n",
    "        v_y += dt * -G  # acceleration due to gravity\n",
    "        x += dt * v_x\n",
    "        y += dt * v_y\n",
    "        \n",
    "    return x, y\n",
    "\n",
    "def log_likelihood(x_obs, v, alpha, sigma=0.5):\n",
    "    mu, _ = _trajectory(v, alpha)\n",
    "    return -0.5 * ((x_obs - mu) / sigma) ** 2 - jnp.log(sigma * (2. * np.pi) ** 0.5)"
   ]
  },
  {
   "cell_type": "code",
   "execution_count": 19,
   "id": "72cc4bae-ff12-4b57-8676-521c3a52e39f",
   "metadata": {},
   "outputs": [],
   "source": [
    "def elbo(vp, x_obs, eps):\n",
    "    _zeta = zeta(vp, eps)\n",
    "    out = 0.0\n",
    "    \n",
    "    # log p(v)\n",
    "    v = T_inv(_zeta[0], 0., 10.)\n",
    "    out += log_prior_v(v)\n",
    "    out += jnp.log(det_jac_T_inv(_zeta[0], 0., 10.))\n",
    "    \n",
    "    # log p(alpha)\n",
    "    alpha = T_inv(_zeta[1], 0., np.pi / 2)\n",
    "    out += log_prior_alpha(alpha)\n",
    "    out += jnp.log(det_jac_T_inv(_zeta[1], 0., np.pi / 2.))\n",
    "    \n",
    "    # log p(x|v, alpha)\n",
    "    out += log_likelihood(x_obs, v, alpha)\n",
    "    \n",
    "    # entropy q\n",
    "    out += entropy_q(vp)\n",
    "    \n",
    "    return jnp.sum(out) \n",
    "\n",
    "grad_elbo = jax.grad(elbo)"
   ]
  },
  {
   "cell_type": "code",
   "execution_count": 20,
   "id": "d44003da-31c2-4085-8903-a76830daf6ef",
   "metadata": {},
   "outputs": [
    {
     "data": {
      "text/html": [
       "Finishing last run (ID:fpneg7dn) before initializing another..."
      ],
      "text/plain": [
       "<IPython.core.display.HTML object>"
      ]
     },
     "metadata": {},
     "output_type": "display_data"
    },
    {
     "name": "stderr",
     "output_type": "stream",
     "text": [
      "wandb: WARNING Source type is set to 'repo' but some required information is missing from the environment. A job will not be created from this run. See https://docs.wandb.ai/guides/launch/create-job\n"
     ]
    },
    {
     "data": {
      "application/vnd.jupyter.widget-view+json": {
       "model_id": "3a4ee03ce77a4ac0a917f0a23758777b",
       "version_major": 2,
       "version_minor": 0
      },
      "text/plain": [
       "VBox(children=(Label(value='0.003 MB of 0.003 MB uploaded\\r'), FloatProgress(value=1.0, max=1.0)))"
      ]
     },
     "metadata": {},
     "output_type": "display_data"
    },
    {
     "data": {
      "text/html": [
       "<style>\n",
       "    table.wandb td:nth-child(1) { padding: 0 10px; text-align: left ; width: auto;} td:nth-child(2) {text-align: left ; width: 100%}\n",
       "    .wandb-row { display: flex; flex-direction: row; flex-wrap: wrap; justify-content: flex-start; width: 100% }\n",
       "    .wandb-col { display: flex; flex-direction: column; flex-basis: 100%; flex: 1; padding: 10px; }\n",
       "    </style>\n",
       "<div class=\"wandb-row\"><div class=\"wandb-col\"><h3>Run history:</h3><br/><table class=\"wandb\"><tr><td>ELBO</td><td>▁▂▃▅▇▇██████████████████████████████████</td></tr></table><br/></div><div class=\"wandb-col\"><h3>Run summary:</h3><br/><table class=\"wandb\"><tr><td>ELBO</td><td>-4.72782</td></tr></table><br/></div></div>"
      ],
      "text/plain": [
       "<IPython.core.display.HTML object>"
      ]
     },
     "metadata": {},
     "output_type": "display_data"
    },
    {
     "data": {
      "text/html": [
       " View run <strong style=\"color:#cdcd00\">confused-vortex-1</strong> at: <a href='https://wandb.ai/montefiore_sail/nb08-advi/runs/fpneg7dn' target=\"_blank\">https://wandb.ai/montefiore_sail/nb08-advi/runs/fpneg7dn</a><br/>Synced 6 W&B file(s), 0 media file(s), 0 artifact file(s) and 0 other file(s)"
      ],
      "text/plain": [
       "<IPython.core.display.HTML object>"
      ]
     },
     "metadata": {},
     "output_type": "display_data"
    },
    {
     "data": {
      "text/html": [
       "Find logs at: <code>./wandb/run-20241118_115516-fpneg7dn/logs</code>"
      ],
      "text/plain": [
       "<IPython.core.display.HTML object>"
      ]
     },
     "metadata": {},
     "output_type": "display_data"
    },
    {
     "data": {
      "text/html": [
       "Successfully finished last run (ID:fpneg7dn). Initializing new run:<br/>"
      ],
      "text/plain": [
       "<IPython.core.display.HTML object>"
      ]
     },
     "metadata": {},
     "output_type": "display_data"
    },
    {
     "data": {
      "application/vnd.jupyter.widget-view+json": {
       "model_id": "60607d48739941098735836299650f81",
       "version_major": 2,
       "version_minor": 0
      },
      "text/plain": [
       "VBox(children=(Label(value='Waiting for wandb.init()...\\r'), FloatProgress(value=0.011113781989034678, max=1.0…"
      ]
     },
     "metadata": {},
     "output_type": "display_data"
    },
    {
     "data": {
      "text/html": [
       "wandb version 0.18.7 is available!  To upgrade, please run:\n",
       " $ pip install wandb --upgrade"
      ],
      "text/plain": [
       "<IPython.core.display.HTML object>"
      ]
     },
     "metadata": {},
     "output_type": "display_data"
    },
    {
     "data": {
      "text/html": [
       "Tracking run with wandb version 0.16.0"
      ],
      "text/plain": [
       "<IPython.core.display.HTML object>"
      ]
     },
     "metadata": {},
     "output_type": "display_data"
    },
    {
     "data": {
      "text/html": [
       "Run data is saved locally in <code>/home/glouppe/Documents/teaching/DATS0001 - Foundations of Data Science/2024-2025/course/wandb/run-20241118_162728-8uhfmr7s</code>"
      ],
      "text/plain": [
       "<IPython.core.display.HTML object>"
      ]
     },
     "metadata": {},
     "output_type": "display_data"
    },
    {
     "data": {
      "text/html": [
       "Syncing run <strong><a href='https://wandb.ai/montefiore_sail/nb08-advi/runs/8uhfmr7s' target=\"_blank\">clear-paper-2</a></strong> to <a href='https://wandb.ai/montefiore_sail/nb08-advi' target=\"_blank\">Weights & Biases</a> (<a href='https://wandb.me/run' target=\"_blank\">docs</a>)<br/>"
      ],
      "text/plain": [
       "<IPython.core.display.HTML object>"
      ]
     },
     "metadata": {},
     "output_type": "display_data"
    },
    {
     "data": {
      "text/html": [
       " View project at <a href='https://wandb.ai/montefiore_sail/nb08-advi' target=\"_blank\">https://wandb.ai/montefiore_sail/nb08-advi</a>"
      ],
      "text/plain": [
       "<IPython.core.display.HTML object>"
      ]
     },
     "metadata": {},
     "output_type": "display_data"
    },
    {
     "data": {
      "text/html": [
       " View run at <a href='https://wandb.ai/montefiore_sail/nb08-advi/runs/8uhfmr7s' target=\"_blank\">https://wandb.ai/montefiore_sail/nb08-advi/runs/8uhfmr7s</a>"
      ],
      "text/plain": [
       "<IPython.core.display.HTML object>"
      ]
     },
     "metadata": {},
     "output_type": "display_data"
    }
   ],
   "source": [
    "v_true = 7.5\n",
    "alpha_true = np.pi / 4\n",
    "mu, _ = _trajectory(v_true, alpha_true)\n",
    "x_obs = np.random.randn(1) * 0.5 + mu\n",
    "x_obs = x_obs[0]\n",
    "\n",
    "vp = vp_init(2)\n",
    "batchsize = 25\n",
    "lr = 0.02\n",
    "n_epochs = 50\n",
    "\n",
    "wandb.init(project=\"nb08-advi\")\n",
    "wandb.config.update({\n",
    "    \"v_true\": v_true, \"alpha_true\": alpha_true, \"x_obs\": x_obs,\n",
    "    \"lr\": lr, \"batchsize\": batchsize\n",
    "})"
   ]
  },
  {
   "cell_type": "code",
   "execution_count": 21,
   "id": "64ce1e24-05f2-4353-9c98-2360a27daa7d",
   "metadata": {},
   "outputs": [
    {
     "name": "stderr",
     "output_type": "stream",
     "text": [
      "100%|██████████| 50/50 [01:15<00:00,  1.51s/it]\n"
     ]
    }
   ],
   "source": [
    "test = eps_rvs(2, 100)\n",
    "g = grad_elbo(vp, x_obs, test[0])\n",
    "\n",
    "for epoch in tqdm(range(n_epochs)):\n",
    "    # Log\n",
    "    elbo_test = np.mean([elbo(vp, x_obs, eps) for eps in test])\n",
    "    wandb.log({\"ELBO\": elbo_test})\n",
    "    \n",
    "    # Update            \n",
    "    g = jnp.zeros_like(g)\n",
    "    \n",
    "    for eps in eps_rvs(2, batchsize):\n",
    "        g += grad_elbo(vp, x_obs, eps)\n",
    "    \n",
    "    vp += lr * g / batchsize"
   ]
  },
  {
   "cell_type": "code",
   "execution_count": 22,
   "id": "74a344c9-2d2b-4077-8227-683259315fa9",
   "metadata": {},
   "outputs": [],
   "source": [
    "_zeta = zeta(vp, eps_rvs(2, 10000))\n",
    "v = T_inv(_zeta[:, 0], 0., 10.)\n",
    "alpha = T_inv(_zeta[:, 1], 0., np.pi / 2.)"
   ]
  },
  {
   "cell_type": "code",
   "execution_count": 23,
   "id": "075d8fba-520e-49e2-a71d-bb5e7129f01a",
   "metadata": {},
   "outputs": [
    {
     "data": {
      "image/png": "[encoded data removed]",
      "text/plain": [
       "<Figure size 550x550 with 4 Axes>"
      ]
     },
     "metadata": {},
     "output_type": "display_data"
    }
   ],
   "source": [
    "import corner\n",
    "thetas = np.array([v, alpha]).T\n",
    "labels = [\"v\", \"alpha\"]\n",
    "fig = corner.corner(thetas, labels=labels, truths=[v_true, alpha_true])"
   ]
  },
  {
   "cell_type": "code",
   "execution_count": 24,
   "id": "5fa1220f-127e-4591-8035-b2a43c1dc580",
   "metadata": {},
   "outputs": [
    {
     "data": {
      "image/png": "[encoded data removed]",
      "text/plain": [
       "<Figure size 640x480 with 1 Axes>"
      ]
     },
     "metadata": {},
     "output_type": "display_data"
    }
   ],
   "source": [
    "# p(x | x_obs)\n",
    "xs = []\n",
    "    \n",
    "for v, alpha in thetas[:5000]:\n",
    "    mu, _ = _trajectory(v, alpha)   \n",
    "    x = np.random.randn(1) * 0.5 + mu\n",
    "    xs.append(x[0])\n",
    "\n",
    "plt.hist(xs, density=True, bins=30, color=\"orange\")\n",
    "plt.scatter([x_obs], [0.])\n",
    "plt.show()"
   ]
  }
 ],
 "metadata": {
  "kernelspec": {
   "display_name": "dats0001",
   "language": "python",
   "name": "python3"
  },
  "language_info": {
   "codemirror_mode": {
    "name": "ipython",
    "version": 3
   },
   "file_extension": ".py",
   "mimetype": "text/x-python",
   "name": "python",
   "nbconvert_exporter": "python",
   "pygments_lexer": "ipython3",
   "version": "3.9.18"
  }
 },
 "nbformat": 4,
 "nbformat_minor": 5
}
