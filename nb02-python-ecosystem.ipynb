{
 "cells": [
  {
   "cell_type": "markdown",
   "metadata": {},
   "source": [
    "# `nb02`: Data science with Python"
   ]
  },
  {
   "cell_type": "markdown",
   "metadata": {},
   "source": [
    "# Anaconda\n",
    "\n",
    "[Anaconda](https://www.anaconda.com/products/distribution) is a scientific distribution including Python and many (8000+) [specialized packages](https://www.anaconda.com/open-source) for data science and machine learning.\n",
    "\n",
    "![](./figures/nb02/anaconda.png)\n",
    "\n",
    "The distribution comes with `conda`, a package and environment manager.\n",
    "\n",
    "Learn more:\n",
    "- [Getting started with conda](https://conda.io/projects/conda/en/latest/user-guide/getting-started.html)\n"
   ]
  },
  {
   "cell_type": "markdown",
   "metadata": {},
   "source": [
    "# The fundamentals\n",
    "\n",
    "- [Jupyter](https://jupyter.org/)\n",
    "- [Numpy](https://numpy.org/) (see also Lecture 2)\n",
    "- [Pandas](https://pandas.pydata.org/) (see also Lecture 2)\n",
    "- [Scipy](https://scipy.org/)"
   ]
  }
 ],
 "metadata": {
  "kernelspec": {
   "display_name": "Python [conda env:dats0001]",
   "language": "python",
   "name": "conda-env-dats0001-py"
  },
  "language_info": {
   "codemirror_mode": {
    "name": "ipython",
    "version": 3
   },
   "file_extension": ".py",
   "mimetype": "text/x-python",
   "name": "python",
   "nbconvert_exporter": "python",
   "pygments_lexer": "ipython3",
   "version": "3.10.4"
  }
 },
 "nbformat": 4,
 "nbformat_minor": 4
}
