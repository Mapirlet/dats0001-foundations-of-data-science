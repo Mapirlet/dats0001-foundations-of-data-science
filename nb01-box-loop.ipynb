{
 "cells": [
  {
   "cell_type": "markdown",
   "metadata": {},
   "source": [
    "# `nb01`: Build, compute, critique, repeat"
   ]
  },
  {
   "cell_type": "markdown",
   "metadata": {},
   "source": [
    "![](./figures/nb01/boxloop.png)\n",
    "\n",
    "In this course, we will approach data science problems using the scientific method. We will build models, compute results, and critique our work. We will repeat this process until we are satisfied with our results. This process is called the **Box's Loop**. Upcoming lectures will dive into each of these steps in more detail."
   ]
  },
  {
   "cell_type": "markdown",
   "metadata": {},
   "source": [
    "# Build "
   ]
  },
  {
   "cell_type": "code",
   "execution_count": null,
   "metadata": {
    "tags": []
   },
   "outputs": [],
   "source": [
    "import numpy as np\n",
    "\n",
    "# Generative model\n",
    "def simulate(v, alpha, dt=0.001, G=9.81):\n",
    "    v_x = v * np.cos(alpha)\n",
    "    v_y = v * np.sin(alpha)\n",
    "\n",
    "    x = 0\n",
    "    y = 1.5\n",
    "\n",
    "    trajectory = [(x, y)]\n",
    "\n",
    "    while y > 0:\n",
    "        v_y += dt * -G\n",
    "        x += dt * v_x\n",
    "        y += dt * v_y \n",
    "        trajectory.append((x, y))\n",
    "\n",
    "    return np.array(trajectory)\n"
   ]
  },
  {
   "cell_type": "code",
   "execution_count": null,
   "metadata": {},
   "outputs": [],
   "source": [
    "import matplotlib.pyplot as plt \n",
    "\n",
    "v = 5.0\n",
    "alpha = np.pi / 4 \n",
    "\n",
    "trajectory = simulate(v, alpha, dt=0.001)\n",
    "plt.plot(trajectory[:, 0], trajectory[:, 1])\n",
    "plt.show()"
   ]
  },
  {
   "cell_type": "code",
   "execution_count": null,
   "metadata": {
    "tags": []
   },
   "outputs": [],
   "source": [
    "# Probabilistic model\n",
    "from scipy.stats import norm, uniform\n",
    "\n",
    "def likelihood(v, alpha):\n",
    "    trajectory = simulate(v, alpha)\n",
    "    x = trajectory[-1, 0]\n",
    "    return norm(loc=x, scale=0.1)\n",
    "\n",
    "p_v = uniform(0, 10.)\n",
    "p_alpha = uniform(0, np.pi / 2)"
   ]
  },
  {
   "cell_type": "code",
   "execution_count": null,
   "metadata": {
    "tags": []
   },
   "outputs": [],
   "source": [
    "# p(x | v, alpha)\n",
    "v = 5.0\n",
    "alpha = np.pi / 4\n",
    "\n",
    "trajectory = simulate(v, alpha)\n",
    "plt.plot(trajectory[:, 0], trajectory[:, 1])\n",
    "\n",
    "lk = likelihood(v, alpha)\n",
    "xs = lk.rvs(10000)\n",
    "plt.hist(xs, density=True, bins=30, color=\"orange\")\n",
    "\n",
    "plt.show()"
   ]
  },
  {
   "cell_type": "code",
   "execution_count": null,
   "metadata": {
    "tags": []
   },
   "outputs": [],
   "source": [
    "# p(x)\n",
    "xs = []\n",
    "\n",
    "for i in range(1000):\n",
    "    v = p_v.rvs()\n",
    "    alpha = p_alpha.rvs()\n",
    "\n",
    "    trajectory = simulate(v, alpha)\n",
    "    plt.plot(trajectory[:, 0], trajectory[:, 1], color=\"b\", alpha=0.05)\n",
    "    x = likelihood(v, alpha).rvs()\n",
    "    xs.append(x)\n",
    "\n",
    "plt.hist(xs, density=True, bins=30, color=\"orange\")\n",
    "plt.show()"
   ]
  },
  {
   "cell_type": "markdown",
   "metadata": {},
   "source": [
    "# Data"
   ]
  },
  {
   "cell_type": "code",
   "execution_count": null,
   "metadata": {
    "tags": []
   },
   "outputs": [],
   "source": [
    "v_true = 5.0\n",
    "alpha_true = np.pi / 4.\n",
    "x_obs = likelihood(v_true, alpha_true).rvs()"
   ]
  },
  {
   "cell_type": "code",
   "execution_count": null,
   "metadata": {},
   "outputs": [],
   "source": [
    "trajectory = simulate(v_true, alpha_true)\n",
    "plt.plot(trajectory[:, 0], trajectory[:, 1])\n",
    "\n",
    "lk = likelihood(v_true, alpha_true)\n",
    "xs = lk.rvs(10000)\n",
    "plt.hist(xs, density=True, bins=30)\n",
    "plt.scatter([x_obs], [0.])\n",
    "plt.show()"
   ]
  },
  {
   "cell_type": "markdown",
   "metadata": {},
   "source": [
    "# Compute"
   ]
  },
  {
   "cell_type": "code",
   "execution_count": null,
   "metadata": {
    "tags": []
   },
   "outputs": [],
   "source": [
    "# Point-valued estimate\n",
    "from scipy.optimize import minimize\n",
    "\n",
    "def log_likelihood(theta, x):\n",
    "    v, alpha = theta\n",
    "    lk = likelihood(v, alpha)\n",
    "    return lk.logpdf(x)\n",
    "\n",
    "nll = lambda *args: -log_likelihood(*args)\n",
    "initial = np.array([p_v.rvs(), p_alpha.rvs()])\n",
    "soln = minimize(nll, initial, args=(x_obs,))\n",
    "soln"
   ]
  },
  {
   "cell_type": "code",
   "execution_count": null,
   "metadata": {},
   "outputs": [],
   "source": [
    "v_sol, alpha_sol = soln.x \n",
    "\n",
    "trajectory = simulate(v_sol, alpha_sol)\n",
    "plt.plot(trajectory[:, 0], trajectory[:, 1])\n",
    "plt.scatter([x_obs], [0.])\n",
    "plt.show()"
   ]
  },
  {
   "cell_type": "code",
   "execution_count": null,
   "metadata": {
    "tags": []
   },
   "outputs": [],
   "source": [
    "# Uncertainty estimation\n",
    "def log_prior(theta):\n",
    "    v, alpha = theta \n",
    "    return p_v.logpdf(v) + p_alpha.logpdf(alpha)\n",
    "\n",
    "def log_posterior(theta, x):\n",
    "    lp = log_prior(theta)\n",
    "    if not np.isfinite(lp):\n",
    "        return -np.inf \n",
    "    return lp + log_likelihood(theta, x)"
   ]
  },
  {
   "cell_type": "code",
   "execution_count": null,
   "metadata": {},
   "outputs": [],
   "source": [
    "import emcee\n",
    "pos = soln.x + 0.1 * np.random.randn(10, 2)\n",
    "nwalkers, ndim = pos.shape \n",
    "\n",
    "sampler = emcee.EnsembleSampler(nwalkers, ndim, log_posterior, args=(x_obs,))\n",
    "sampler.run_mcmc(pos, 10000, progress=True);"
   ]
  },
  {
   "cell_type": "code",
   "execution_count": null,
   "metadata": {},
   "outputs": [],
   "source": [
    "fig, axes = plt.subplots(2, figsize=(10, 7), sharex=True)\n",
    "samples = sampler.get_chain()\n",
    "labels = [\"v\", \"alpha\"]\n",
    "\n",
    "for i in range(ndim):\n",
    "    ax = axes[i]\n",
    "    ax.plot(samples[:, :, i], \"k\", alpha=0.2)\n",
    "    ax.set_xlim(0, len(samples))\n",
    "    ax.set_ylabel(labels[i])\n",
    "\n",
    "plt.show()"
   ]
  },
  {
   "cell_type": "code",
   "execution_count": null,
   "metadata": {},
   "outputs": [],
   "source": [
    "import corner\n",
    "thetas = sampler.get_chain(flat=True)\n",
    "fig = corner.corner(thetas, labels=labels, truths=[v_true, alpha_true])"
   ]
  },
  {
   "cell_type": "markdown",
   "metadata": {},
   "source": [
    "# Critique"
   ]
  },
  {
   "cell_type": "code",
   "execution_count": null,
   "metadata": {
    "tags": []
   },
   "outputs": [],
   "source": [
    "# Computational diagnostics \n",
    "tau = sampler.get_autocorr_time()\n",
    "print(tau)"
   ]
  },
  {
   "cell_type": "code",
   "execution_count": null,
   "metadata": {},
   "outputs": [],
   "source": [
    "thetas = sampler.get_chain(flat=True, thin=50)\n",
    "thetas.shape"
   ]
  },
  {
   "cell_type": "code",
   "execution_count": null,
   "metadata": {},
   "outputs": [],
   "source": [
    "fig = corner.corner(thetas, labels=labels, truths=[v_true, alpha_true])"
   ]
  },
  {
   "cell_type": "code",
   "execution_count": null,
   "metadata": {
    "tags": []
   },
   "outputs": [],
   "source": [
    "# Posterior predictive checks\n",
    "# p(x | x_obs)\n",
    "xs = []\n",
    "\n",
    "for v, alpha in thetas[:500]:\n",
    "    trajectory = simulate(v, alpha)\n",
    "    plt.plot(trajectory[:, 0], trajectory[:, 1], color=\"b\", alpha=0.05)\n",
    "    x = likelihood(v, alpha).rvs()\n",
    "    xs.append(x)\n",
    "\n",
    "plt.hist(xs, density=True, bins=30, color=\"orange\")\n",
    "plt.scatter([x_obs], [0.], c=\"r\")\n",
    "plt.savefig(\"box-loop-ppc.png\")\n",
    "plt.show()"
   ]
  },
  {
   "cell_type": "markdown",
   "metadata": {},
   "source": [
    "# Improve and repeat"
   ]
  },
  {
   "cell_type": "markdown",
   "metadata": {},
   "source": [
    "- What if `x_obs=15`?\n",
    "- What if the height of the pitcher is unknown?\n",
    "- What if there is wind? \n",
    "- What if, maybe, there is wind?\n",
    "- How to evaluate and compare models?"
   ]
  }
 ],
 "metadata": {
  "kernelspec": {
   "display_name": "dats0001",
   "language": "python",
   "name": "python3"
  },
  "language_info": {
   "codemirror_mode": {
    "name": "ipython",
    "version": 3
   },
   "file_extension": ".py",
   "mimetype": "text/x-python",
   "name": "python",
   "nbconvert_exporter": "python",
   "pygments_lexer": "ipython3",
   "version": "3.9.18"
  }
 },
 "nbformat": 4,
 "nbformat_minor": 4
}
