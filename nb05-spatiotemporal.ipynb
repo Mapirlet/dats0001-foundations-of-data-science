{
 "cells": [
  {
   "cell_type": "markdown",
   "id": "c665f40b-528a-4d51-abce-8de706faf3d9",
   "metadata": {},
   "source": [
    "# `nb05`: Spatial and temporal models"
   ]
  },
  {
   "cell_type": "raw",
   "id": "b9068eb2-c646-46ef-a5d0-097e02fb314d",
   "metadata": {
    "tags": []
   },
   "source": [
    "Resources:\n",
    "- https://www.paulamoraga.com/presentation-course/#1\n",
    "- https://www2.stat.duke.edu/~cr173/Sta444_Sp17/slides/Lec23.pdf"
   ]
  }
 ],
 "metadata": {
  "kernelspec": {
   "display_name": "Python [conda env:dats0001] *",
   "language": "python",
   "name": "conda-env-dats0001-py"
  },
  "language_info": {
   "codemirror_mode": {
    "name": "ipython",
    "version": 3
   },
   "file_extension": ".py",
   "mimetype": "text/x-python",
   "name": "python",
   "nbconvert_exporter": "python",
   "pygments_lexer": "ipython3",
   "version": "3.9.18"
  }
 },
 "nbformat": 4,
 "nbformat_minor": 5
}
