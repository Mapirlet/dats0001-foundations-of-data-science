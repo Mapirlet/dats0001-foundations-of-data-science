{
 "cells": [
  {
   "cell_type": "markdown",
   "id": "05080d5f-640d-4a95-bba4-f0dadda33ce5",
   "metadata": {},
   "source": [
    "# `nb09`: Space Shuttle Challenger disaster"
   ]
  },
  {
   "cell_type": "markdown",
   "id": "cb597b37-6108-4e7d-b21c-311464f6cf49",
   "metadata": {},
   "source": [
    "The content of this notebook is adapted from \"Bayesian Methods for Hackers\" (Chapter 2), by Cam Davidson-Pilon."
   ]
  },
  {
   "cell_type": "markdown",
   "id": "310363e4-5228-4cc7-8160-ddfffc9de2dc",
   "metadata": {},
   "source": [
    "The Space Shuttle Challenger disaster occurred on January 28, 1986, when the shuttle's rocket boosters exploded after lift-off, killing all seven crew members. An investigation by the presidential commission on the accident found that the explosion was caused by the failure of an O-ring in a field joint on the rocket booster. This failure was due to a faulty design that made the O-ring sensitive to outside temperature and other factors. Of the previous 24 flights, data on O-ring failures was available for 23 flights (one flight's data was lost at sea), but only the data from the 7 flights with damage incidents was considered important. This data did not show any clear trend.\n",
    "\n",
    "![](figures/nb12/oring.png)"
   ]
  },
  {
   "cell_type": "code",
   "execution_count": 1,
   "id": "e72dc22d-a680-4c48-aebe-20cd35508c77",
   "metadata": {},
   "outputs": [],
   "source": [
    "import numpy as np\n",
    "import pandas as pd\n",
    "import matplotlib.pyplot as plt"
   ]
  },
  {
   "cell_type": "markdown",
   "id": "e0f9676e-f52b-4d9b-9a26-85ceae8126ef",
   "metadata": {},
   "source": [
    "# Data"
   ]
  },
  {
   "cell_type": "markdown",
   "id": "df75e0d7-ccad-4eac-a469-9e8a633cfeab",
   "metadata": {},
   "source": [
    "<div class=\"alert alert-success\">\n",
    "    \n",
    "**Exercise**. Load the data from `\"data/challenger.csv\"`.\n",
    "    \n",
    "</div>"
   ]
  },
  {
   "cell_type": "code",
   "execution_count": null,
   "id": "40576421-e272-4969-90bd-513a8ad2e2c7",
   "metadata": {},
   "outputs": [],
   "source": []
  },
  {
   "cell_type": "markdown",
   "id": "a2f5f5e3-2f45-407e-b257-55fb108fa3c7",
   "metadata": {},
   "source": [
    "<div class=\"alert alert-success\">\n",
    "    \n",
    "**Exercise**. Visualize the data.\n",
    "    \n",
    "</div>"
   ]
  },
  {
   "cell_type": "code",
   "execution_count": null,
   "id": "a057f7d6-5e3e-4479-b4c2-1d64b8dfb65d",
   "metadata": {},
   "outputs": [],
   "source": []
  },
  {
   "cell_type": "markdown",
   "id": "7634b0fa-8bf6-4913-a3ac-4e76f3d935b3",
   "metadata": {},
   "source": [
    "# Probabilistic model\n",
    "\n",
    "The visual inspection of the data makes it clear that the probability of an incident increases as the outside temperature decreases."
   ]
  },
  {
   "cell_type": "markdown",
   "id": "d63fac83-c05c-40e2-8f16-02739ca4867a",
   "metadata": {},
   "source": [
    "<div class=\"alert alert-success\">\n",
    "    \n",
    "**Exercise**. Propose and implement an adequate probabilistic model.\n",
    "    \n",
    "</div>"
   ]
  },
  {
   "cell_type": "markdown",
   "id": "d12618a9-0b35-47d7-872b-fdcd9146d68b",
   "metadata": {},
   "source": [
    "Let us consider a probabilistic model where the failure $F$ is modeled as a Bernoulli random variable with probability parameter $\\rho$ following a logistic regression model that is function of the temperature,\n",
    "$$\\rho(t, \\alpha, \\beta) = \\frac{1}{1 + \\exp(\\beta t + \\alpha)},$$\n",
    "where $t$ is the outside temperature, and $\\alpha$ and $\\beta$ are hyper-parameters."
   ]
  },
  {
   "cell_type": "code",
   "execution_count": 7,
   "id": "338c5023-7a5b-45c1-b213-cf5f7c1c5fa7",
   "metadata": {},
   "outputs": [],
   "source": []
  },
  {
   "cell_type": "markdown",
   "id": "d80c6a5f-ec01-4017-aead-cdd3645296c3",
   "metadata": {},
   "source": [
    "For the prior, we first consider weakly informative priors $p(\\alpha) = \\mathcal{N}(\\alpha | 0, 100)$ and $p(\\beta) = \\mathcal{N}(\\beta | 0, 5)$. \n",
    "\n",
    "Overall, our probabilistic model is\n",
    "$$\\alpha \\sim \\mathcal{N}(\\alpha | 0, 100)\\\\\n",
    "\\beta \\sim \\mathcal{N}(\\beta | 0, 5)\\\\\n",
    "F_i \\sim \\text{Bernoulli}\\left(\\frac{1}{1 + \\exp(\\beta t_i + \\alpha)}\\right)$$\n",
    "for the observations $i=1, \\dots, N$."
   ]
  },
  {
   "cell_type": "code",
   "execution_count": 9,
   "id": "e284029c-3332-4614-b7a3-ae9ef2a4fd90",
   "metadata": {},
   "outputs": [],
   "source": []
  },
  {
   "cell_type": "markdown",
   "id": "841c6cca-7741-4c9f-8ec7-9c9c853d0698",
   "metadata": {},
   "source": [
    "# Inference"
   ]
  },
  {
   "cell_type": "markdown",
   "id": "02afad59-bfec-46b8-8125-9384b0d932d7",
   "metadata": {},
   "source": [
    "<div class=\"alert alert-success\">\n",
    "    \n",
    "**Exercise**. Compute the posterior distribution of the model parameters.\n",
    "    \n",
    "</div>"
   ]
  },
  {
   "cell_type": "code",
   "execution_count": null,
   "id": "cff5d6ef-c57a-4732-a99f-cf08e872e37c",
   "metadata": {},
   "outputs": [],
   "source": []
  },
  {
   "cell_type": "markdown",
   "id": "f17e16bc-06a2-410f-9a94-acb96e2652af",
   "metadata": {},
   "source": [
    "<div class=\"alert alert-success\">\n",
    "    \n",
    "**Exercise**. Diagnose the inference results.\n",
    "    \n",
    "</div>"
   ]
  },
  {
   "cell_type": "code",
   "execution_count": null,
   "id": "e6f0027e-2099-49a4-bdc5-31f8bcec62f1",
   "metadata": {},
   "outputs": [],
   "source": []
  },
  {
   "cell_type": "markdown",
   "id": "278b1470-ffb5-4ee8-8b71-4eb19e991363",
   "metadata": {},
   "source": [
    "<div class=\"alert alert-success\">\n",
    "    \n",
    "**Exercise**. Visualize the posterior distribution.\n",
    "    \n",
    "</div>"
   ]
  },
  {
   "cell_type": "code",
   "execution_count": null,
   "id": "4c8a8539-a332-4a78-a968-1bebf24df697",
   "metadata": {},
   "outputs": [],
   "source": []
  },
  {
   "cell_type": "markdown",
   "id": "72f5e457-7d1d-4c4a-8044-dedf24cbbd7d",
   "metadata": {},
   "source": [
    "<div class=\"alert alert-success\">\n",
    "    \n",
    "**Exercise**. Show the posterior predictive distribution of the probability of an incident.\n",
    "    \n",
    "</div>"
   ]
  },
  {
   "cell_type": "code",
   "execution_count": null,
   "id": "d14c40ce-b1c5-438f-bfb2-9c2b866a3e3e",
   "metadata": {},
   "outputs": [],
   "source": []
  },
  {
   "cell_type": "markdown",
   "id": "0fff01ad-d2ef-4683-aebb-92ff8cc35947",
   "metadata": {},
   "source": [
    "On the day of the Challenger disaster, the outside temperature was 31 degrees Fahrenheit. What is the posterior distribution of the probability of a defect occurring, given this temperature? "
   ]
  },
  {
   "cell_type": "code",
   "execution_count": null,
   "id": "6320b998-5626-43f4-accc-3ad676814a00",
   "metadata": {},
   "outputs": [],
   "source": []
  },
  {
   "cell_type": "markdown",
   "id": "01173d3d-b548-488a-938e-93a158678f95",
   "metadata": {},
   "source": [
    "# Criticism"
   ]
  },
  {
   "cell_type": "code",
   "execution_count": null,
   "id": "bbd90e9b-5acd-4c71-8291-bf2531482906",
   "metadata": {},
   "outputs": [],
   "source": []
  },
  {
   "cell_type": "markdown",
   "id": "8718a269-584e-4cb6-bb64-d53e19a01a2c",
   "metadata": {},
   "source": [
    "## Model comparison"
   ]
  },
  {
   "cell_type": "markdown",
   "id": "1deee0e1-25bd-4523-aadb-b3332bf93609",
   "metadata": {},
   "source": [
    "<div class=\"alert alert-success\">\n",
    "    \n",
    "**Exercise**. Compare your results using a tighter prior.\n",
    "    \n",
    "</div>"
   ]
  },
  {
   "cell_type": "code",
   "execution_count": null,
   "id": "9f5a23ea-c889-43ca-a81b-453e38ba31af",
   "metadata": {},
   "outputs": [],
   "source": []
  },
  {
   "cell_type": "markdown",
   "id": "d1b8b777-31ec-4583-b8e3-bab40a9eb68c",
   "metadata": {},
   "source": [
    "<div class=\"alert alert-success\">\n",
    "    \n",
    "**Exercise**. Compare your results to random (coin-flip) predictions.\n",
    "    \n",
    "</div>"
   ]
  },
  {
   "cell_type": "code",
   "execution_count": 27,
   "id": "794b753a-b32f-4fe4-9c5d-f9decc539bb4",
   "metadata": {},
   "outputs": [],
   "source": []
  }
 ],
 "metadata": {
  "kernelspec": {
   "display_name": "Python [conda env:dats0001]",
   "language": "python",
   "name": "conda-env-dats0001-py"
  },
  "language_info": {
   "codemirror_mode": {
    "name": "ipython",
    "version": 3
   },
   "file_extension": ".py",
   "mimetype": "text/x-python",
   "name": "python",
   "nbconvert_exporter": "python",
   "pygments_lexer": "ipython3",
   "version": "3.9.18"
  }
 },
 "nbformat": 4,
 "nbformat_minor": 5
}
