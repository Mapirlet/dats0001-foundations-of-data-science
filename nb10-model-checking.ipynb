{
 "cells": [
  {
   "cell_type": "markdown",
   "id": "05080d5f-640d-4a95-bba4-f0dadda33ce5",
   "metadata": {},
   "source": [
    "# `nb10`: Model checking"
   ]
  },
  {
   "cell_type": "code",
   "execution_count": null,
   "id": "e72dc22d-a680-4c48-aebe-20cd35508c77",
   "metadata": {},
   "outputs": [],
   "source": [
    "import numpy as np\n",
    "import matplotlib.pyplot as plt"
   ]
  },
  {
   "cell_type": "markdown",
   "id": "f94fc582-be0b-4a77-b2d4-de807ddcd248",
   "metadata": {},
   "source": [
    "# The light speed experiment "
   ]
  },
  {
   "cell_type": "markdown",
   "id": "bec9e0e2-9441-4dd8-aa70-8c2186a0c15f",
   "metadata": {},
   "source": [
    "Simon Newcomb did an experiment in 1882 to measure the speed of light. These are the times required for light to travel 7442 metres. These are recorded as deviations from 24,800 nanoseconds."
   ]
  },
  {
   "cell_type": "code",
   "execution_count": null,
   "id": "2008799a-2043-44a7-bba0-2a41bdc43a01",
   "metadata": {},
   "outputs": [],
   "source": [
    "# data\n",
    "light_speed = np.array([28, 26, 33, 24, 34, -44, 27, 16, 40, -2, 29, 22, 24, 21, 25,\n",
    "                        30, 23, 29, 31, 19, 24, 20, 36, 32, 36, 28, 25, 21, 28, 29,\n",
    "                        37, 25, 28, 26, 30, 32, 36, 26, 30, 22, 36, 23, 27, 27, 28,\n",
    "                        27, 31, 27, 26, 33, 26, 32, 32, 24, 39, 28, 24, 25, 32, 25,\n",
    "                        29, 27, 28, 29, 16, 23]) "
   ]
  },
  {
   "cell_type": "code",
   "execution_count": null,
   "id": "eedebddc-f2e5-45c8-a841-47eabe0dd258",
   "metadata": {},
   "outputs": [],
   "source": [
    "# model\n",
    "from scipy.stats import norm, uniform\n",
    "\n",
    "def log_likelihood(theta, x):\n",
    "    return norm.logpdf(x, loc=theta[0], scale=theta[1]).sum()\n",
    "\n",
    "def log_prior(theta):   \n",
    "    return (uniform.logpdf(theta[0], loc=-1000, scale=2000) +  # p(mu) = U[-1000, 1000]\n",
    "            uniform.logpdf(theta[1], loc=0.1, scale=100))      # p(sigma) = U[0.1, 1000]\n",
    "\n",
    "def log_posterior(theta, x):\n",
    "    return log_likelihood(theta, x) + log_prior(theta) "
   ]
  },
  {
   "cell_type": "code",
   "execution_count": null,
   "id": "adb6a097-8ea9-415e-a03c-19f729205ff2",
   "metadata": {},
   "outputs": [],
   "source": [
    "# posterior inference\n",
    "import emcee\n",
    "pos = np.array([10.0, 10.0]) + 0.1 * np.random.randn(10, 2)\n",
    "nwalkers, ndim = pos.shape\n",
    "\n",
    "sampler = emcee.EnsembleSampler(nwalkers, ndim, log_posterior, args=(light_speed,))\n",
    "sampler.run_mcmc(pos, 500000 // nwalkers, progress=True);"
   ]
  },
  {
   "cell_type": "code",
   "execution_count": null,
   "id": "da222707-5457-4291-a95c-462fb09f5ea6",
   "metadata": {},
   "outputs": [],
   "source": [
    "fig, axes = plt.subplots(ndim, figsize=(10, 7), sharex=True)\n",
    "samples = sampler.get_chain()\n",
    "labels = [\"mu\", \"sigma\"]\n",
    "\n",
    "for i in range(ndim):\n",
    "    ax = axes[i]\n",
    "    ax.plot(samples[:5000, :, i], \"r\", alpha=0.1)\n",
    "    ax.plot(np.mean(samples[:5000, :, i], axis=1), \"r\", alpha=1.0)\n",
    "    ax.set_ylabel(labels[i])\n",
    "    ax.yaxis.set_label_coords(-0.1, 0.5)\n",
    "\n",
    "axes[-1].set_xlabel(\"step number\")\n",
    "plt.show()"
   ]
  },
  {
   "cell_type": "code",
   "execution_count": null,
   "id": "7d833096-59e3-4468-964d-90966732c50b",
   "metadata": {},
   "outputs": [],
   "source": [
    "tau = sampler.get_autocorr_time()\n",
    "tau"
   ]
  },
  {
   "cell_type": "code",
   "execution_count": null,
   "id": "34e72db1-f18f-4c06-959d-4e7fcbf607d6",
   "metadata": {},
   "outputs": [],
   "source": [
    "import corner\n",
    "thetas = sampler.get_chain(flat=True, discard=500, thin=35)\n",
    "print(len(thetas))\n",
    "fig = corner.corner(thetas, labels=labels)"
   ]
  },
  {
   "cell_type": "code",
   "execution_count": null,
   "id": "f53452b6-50e9-4f71-95ae-7462dd353683",
   "metadata": {},
   "outputs": [],
   "source": [
    "print(\"E_p(mu|x)[mu] =\", np.mean(thetas[:, 0]))\n",
    "print(\"E_p(sigma|x)[sigma] =\", np.mean(thetas[:, 1]))"
   ]
  },
  {
   "cell_type": "code",
   "execution_count": null,
   "id": "4b994d89-c8e2-476f-86df-e35bf4337bad",
   "metadata": {},
   "outputs": [],
   "source": [
    "print(\"Empirical mean =\", np.mean(light_speed))\n",
    "print(\"Empirical std =\", np.std(light_speed))"
   ]
  },
  {
   "cell_type": "markdown",
   "id": "1c1cce77-6b7d-4e74-ade1-6c4b0fcdb613",
   "metadata": {},
   "source": [
    "<div class=\"alert alert-success\">\n",
    "    \n",
    "**Exercise**. Determine the 95% credibility interval for $\\mu$ and $\\sigma$.\n",
    "    \n",
    "</div>"
   ]
  },
  {
   "cell_type": "code",
   "execution_count": null,
   "id": "3a9b5cdb-41d4-43af-bbf6-f812993a7f2a",
   "metadata": {},
   "outputs": [],
   "source": [
    "def hpd(trace, mass_frac) :\n",
    "    d = np.sort(np.copy(trace))\n",
    "    n = len(trace)\n",
    "    n_samples = np.floor(mass_frac * n).astype(int)\n",
    "    int_width = d[n_samples:] - d[:n-n_samples]\n",
    "    min_int = np.argmin(int_width)\n",
    "    return np.array([d[min_int], d[min_int+n_samples]])\n",
    "\n",
    "hpd(thetas[:, 0], 0.95), hpd(thetas[:, 1], 0.95)"
   ]
  },
  {
   "cell_type": "markdown",
   "id": "1a34aaa5-957c-4ed2-9ad0-881f01a158fc",
   "metadata": {},
   "source": [
    "# Posterior predictive distribution"
   ]
  },
  {
   "cell_type": "markdown",
   "id": "983f62b5-c5fd-4cf1-9805-a9a59130c08f",
   "metadata": {},
   "source": [
    "$$p(x^\\text{rep} | \\{x\\}) = \\int p(x^\\text{rep} | \\theta) p(\\theta | \\{x\\}) d\\theta$$"
   ]
  },
  {
   "cell_type": "code",
   "execution_count": null,
   "id": "b6c139ad-bbcf-4090-9c31-86bdeaf6ff04",
   "metadata": {},
   "outputs": [],
   "source": [
    "thetas = thetas[:1000]\n",
    "\n",
    "def pp(thetas):\n",
    "    return norm.rvs(loc=thetas[:, 0], scale=thetas[:, 1])"
   ]
  },
  {
   "cell_type": "markdown",
   "id": "4ab0fefc-f291-48fb-98fd-d09da8711046",
   "metadata": {},
   "source": [
    "$$p(\\{x^\\text{rep}\\} | \\{x\\}) = \\int p(\\{x^\\text{rep}\\} | \\theta) p(\\theta | \\{x\\}) d\\theta$$"
   ]
  },
  {
   "cell_type": "code",
   "execution_count": null,
   "id": "7fcad386-1338-42e0-b07c-b76480393bdf",
   "metadata": {},
   "outputs": [],
   "source": [
    "def replicate(n_samples, thetas):\n",
    "    x = np.zeros((n_samples, len(thetas)))\n",
    "    \n",
    "    for i in range(n_samples):\n",
    "        x[i] = pp(thetas)\n",
    "    \n",
    "    return x"
   ]
  },
  {
   "cell_type": "code",
   "execution_count": null,
   "id": "57106a33-2298-45ee-bce3-59f31be5cde3",
   "metadata": {},
   "outputs": [],
   "source": [
    "replicas = replicate(66, thetas)"
   ]
  },
  {
   "cell_type": "code",
   "execution_count": null,
   "id": "0d5bacca-bd90-4103-b9a5-a10010d9e00b",
   "metadata": {},
   "outputs": [],
   "source": [
    "replicas.shape"
   ]
  },
  {
   "cell_type": "markdown",
   "id": "66dd1d7a-0f4f-4d1b-ab06-b83900c7513a",
   "metadata": {},
   "source": [
    "## Visual inspection of posterior predictives"
   ]
  },
  {
   "cell_type": "code",
   "execution_count": null,
   "id": "1d0ff510-397b-4d93-b9d7-c06fb56bebcb",
   "metadata": {
    "tags": []
   },
   "outputs": [],
   "source": [
    "fig = plt.figure()\n",
    "ax = plt.axes()\n",
    "ax.hist(light_speed, bins=15, range=(-50, 50))\n",
    "plt.show()"
   ]
  },
  {
   "cell_type": "code",
   "execution_count": null,
   "id": "ac94d5df-9d92-4a6e-ab19-585e0892e648",
   "metadata": {},
   "outputs": [],
   "source": [
    "fig, ax = plt.subplots(5, 5, sharex=True, sharey=True)\n",
    "lower = -50\n",
    "upper = np.max(replicas[:, :25])\n",
    "for k in range(25):\n",
    "    ax[k // 5, k % 5].hist(replicas[:, k], bins=15, range=(lower, upper))\n",
    "plt.show()"
   ]
  },
  {
   "cell_type": "markdown",
   "id": "a3050589-afc9-4c6a-8ca1-a663b0651f8d",
   "metadata": {},
   "source": [
    "## Test quantities"
   ]
  },
  {
   "cell_type": "code",
   "execution_count": null,
   "id": "ae0a38ee-d7f3-4637-a6ac-8d5b689d0508",
   "metadata": {},
   "outputs": [],
   "source": [
    "light_speed.min()"
   ]
  },
  {
   "cell_type": "code",
   "execution_count": null,
   "id": "251b5701-f5bd-4f0a-84c5-1d3ce38bfcec",
   "metadata": {},
   "outputs": [],
   "source": [
    "replicas.min(axis=0)"
   ]
  },
  {
   "cell_type": "code",
   "execution_count": null,
   "id": "ea1da69c-520c-4b59-8996-6c41fe7e77b0",
   "metadata": {},
   "outputs": [],
   "source": [
    "fig = plt.figure()\n",
    "ax = plt.axes()\n",
    "\n",
    "ax.hist(replicas.min(axis=0), bins=15)\n",
    "ax.axvline(light_speed.min())\n",
    "        \n",
    "plt.show()"
   ]
  },
  {
   "cell_type": "code",
   "execution_count": null,
   "id": "fec520ce-5ce0-489c-9378-9e2e9165c778",
   "metadata": {},
   "outputs": [],
   "source": [
    "np.mean(replicas.min(axis=0) >= light_speed.min())"
   ]
  },
  {
   "cell_type": "markdown",
   "id": "b9b1a6cd-2d8c-450b-b37c-b08b4f9d52fb",
   "metadata": {},
   "source": [
    "<div class=\"alert alert-success\">\n",
    "    \n",
    "**Exercise**. Check whether the model is adequate using the empirical variance as a test quantity.\n",
    "    \n",
    "</div>"
   ]
  },
  {
   "cell_type": "code",
   "execution_count": null,
   "id": "95a96b1b-2c94-449c-8259-ae17759d8aad",
   "metadata": {},
   "outputs": [],
   "source": []
  },
  {
   "cell_type": "markdown",
   "id": "c3d98364-55fd-4c75-92fc-171306dc10ea",
   "metadata": {},
   "source": [
    "## Bayesian p-values"
   ]
  },
  {
   "cell_type": "markdown",
   "id": "19edab37-051d-4670-9c41-d4464b21da4d",
   "metadata": {},
   "source": [
    "Formally,\n",
    "- $T(\\{x\\}, \\theta)$ denotes a test quantity or discrepancy measure.\n",
    "- $T(\\{x\\})$ denotes a test-statistic.\n",
    "\n",
    "Classical p-values:\n",
    "$$p_C = P(T(\\{x^\\text{rep}\\}) \\geq T(\\{x\\}) | \\theta)$$\n",
    "\n",
    "Bayesian p-values:\n",
    "$$p_B = P(T(\\{x^\\text{rep}\\}, \\theta) \\geq T(\\{x\\}, \\theta) | \\{ x \\})$$"
   ]
  },
  {
   "cell_type": "code",
   "execution_count": null,
   "id": "5776f22e-1261-4057-ba4e-9923afbc5617",
   "metadata": {},
   "outputs": [],
   "source": [
    "def T(xs, theta):\n",
    "    xs = np.sort(xs)\n",
    "    return np.abs(xs[60] - theta) - np.abs(xs[5] - theta)"
   ]
  },
  {
   "cell_type": "code",
   "execution_count": null,
   "id": "fa1318b9-be36-477a-951f-bdbbdb2fdaf3",
   "metadata": {},
   "outputs": [],
   "source": [
    "T_reps = []\n",
    "T_x = []\n",
    "\n",
    "for k in range(len(thetas)):\n",
    "    T_reps.append(T(replicas[:, k], thetas[k, 0]))\n",
    "    T_x.append(T(light_speed, thetas[k, 0]))\n",
    "    \n",
    "T_reps = np.array(T_reps)\n",
    "T_x = np.array(T_x)"
   ]
  },
  {
   "cell_type": "code",
   "execution_count": null,
   "id": "9d342694-37b6-4a4e-a929-5d1a570a7fc7",
   "metadata": {},
   "outputs": [],
   "source": [
    "fig = plt.figure()\n",
    "ax = plt.axes()\n",
    "\n",
    "ax.scatter(T_x, T_reps)\n",
    "ax.plot([-10, 12], [-10, 12])\n",
    "ax.set(xlim=(-10, 12), ylim=(-10,12), xlabel=r\"$T(\\{x\\}, \\theta)$\", ylabel=r\"$T(\\{x^{rep}\\}, \\theta)$\")\n",
    "ax.grid()\n",
    "\n",
    "plt.show()"
   ]
  },
  {
   "cell_type": "code",
   "execution_count": null,
   "id": "d20e0e17-c68d-40b0-9b04-4f5f5babeb3d",
   "metadata": {},
   "outputs": [],
   "source": [
    "np.mean(T_reps >= T_x)"
   ]
  },
  {
   "cell_type": "markdown",
   "id": "0af31f9e-5c51-421a-abfe-375628f06a55",
   "metadata": {},
   "source": [
    "_Gelman:_ \"Finding an extreme p-value and thus ‘rejecting’ a model is\n",
    "never the end of an analysis; the departures of the test quantity in\n",
    "question from its posterior predictive distribution will often suggest\n",
    "improvements of the model or places to check the data, as in the speed\n",
    "of light example. Moreover, even when the current model seems\n",
    "appropriate for drawing inferences (in that no unusual deviations\n",
    "between the model and the data are found), the next scientific step will\n",
    "often be a more rigorous experiment incorporating additional factors,\n",
    "thereby providing better data.\""
   ]
  }
 ],
 "metadata": {
  "kernelspec": {
   "display_name": "Python [conda env:dats0001] *",
   "language": "python",
   "name": "conda-env-dats0001-py"
  },
  "language_info": {
   "codemirror_mode": {
    "name": "ipython",
    "version": 3
   },
   "file_extension": ".py",
   "mimetype": "text/x-python",
   "name": "python",
   "nbconvert_exporter": "python",
   "pygments_lexer": "ipython3",
   "version": "3.10.4"
  }
 },
 "nbformat": 4,
 "nbformat_minor": 5
}
