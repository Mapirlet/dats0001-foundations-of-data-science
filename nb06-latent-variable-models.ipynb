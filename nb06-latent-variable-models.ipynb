{
 "cells": [
  {
   "cell_type": "markdown",
   "id": "05080d5f-640d-4a95-bba4-f0dadda33ce5",
   "metadata": {},
   "source": [
    "# `nb06`: Latent variable models"
   ]
  },
  {
   "cell_type": "markdown",
   "id": "a78222c9-7f79-4309-8c52-e94444641a17",
   "metadata": {},
   "source": [
    "<img src=\"./figures/nb06/lvm.png\" width=\"40%\" /> "
   ]
  },
  {
   "cell_type": "code",
   "execution_count": 79,
   "id": "9f5bc112-332b-4db6-8aef-b9e1b129a42b",
   "metadata": {},
   "outputs": [],
   "source": [
    "import numpy as np\n",
    "from scipy.stats import norm, multivariate_normal, dirichlet, multinomial\n",
    "import matplotlib.pyplot as plt"
   ]
  },
  {
   "cell_type": "markdown",
   "id": "9840a4d7-6c7b-4bf2-9993-ce89f04bc85a",
   "metadata": {},
   "source": [
    "# Probabilistic PCA"
   ]
  },
  {
   "cell_type": "code",
   "execution_count": 3,
   "id": "c52ba7cc-b286-4a05-b753-43d37e590b60",
   "metadata": {},
   "outputs": [],
   "source": [
    "# Write down a probabilistic generative model\n",
    "# ..."
   ]
  },
  {
   "cell_type": "markdown",
   "id": "05f84429-cc3b-424a-8a68-71531164d047",
   "metadata": {
    "tags": []
   },
   "source": [
    "# Mixture model"
   ]
  },
  {
   "cell_type": "code",
   "execution_count": 4,
   "id": "e46fe85f-e4c7-445e-809c-384b61fd8055",
   "metadata": {},
   "outputs": [],
   "source": [
    "# Write down a probabilistic generative model\n",
    "# ..."
   ]
  },
  {
   "cell_type": "markdown",
   "id": "31b7be3c-e330-4e7b-9de4-c48f863f9084",
   "metadata": {},
   "source": [
    "# Latent Dirichlet Allocation"
   ]
  },
  {
   "cell_type": "code",
   "execution_count": null,
   "id": "184414d4-a4ab-44b5-ab51-8c877fd010cc",
   "metadata": {},
   "outputs": [],
   "source": [
    "# Write down a probabilistic generative model\n",
    "# ..."
   ]
  }
 ],
 "metadata": {
  "kernelspec": {
   "display_name": "Python [conda env:dats0001] *",
   "language": "python",
   "name": "conda-env-dats0001-py"
  },
  "language_info": {
   "codemirror_mode": {
    "name": "ipython",
    "version": 3
   },
   "file_extension": ".py",
   "mimetype": "text/x-python",
   "name": "python",
   "nbconvert_exporter": "python",
   "pygments_lexer": "ipython3",
   "version": "3.10.4"
  }
 },
 "nbformat": 4,
 "nbformat_minor": 5
}
