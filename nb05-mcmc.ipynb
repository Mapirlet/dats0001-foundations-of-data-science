{
 "cells": [
  {
   "cell_type": "markdown",
   "id": "05080d5f-640d-4a95-bba4-f0dadda33ce5",
   "metadata": {},
   "source": [
    "# `nb05`: MCMC"
   ]
  },
  {
   "cell_type": "code",
   "execution_count": 2,
   "id": "e72dc22d-a680-4c48-aebe-20cd35508c77",
   "metadata": {},
   "outputs": [],
   "source": [
    "import numpy as np\n",
    "import matplotlib.pyplot as plt\n",
    "import tqdm"
   ]
  },
  {
   "cell_type": "markdown",
   "id": "f94fc582-be0b-4a77-b2d4-de807ddcd248",
   "metadata": {},
   "source": [
    "# Metropolis-Hastings"
   ]
  },
  {
   "cell_type": "code",
   "execution_count": 3,
   "id": "90ce26b4-8a63-41aa-b4a9-a352602319b6",
   "metadata": {},
   "outputs": [],
   "source": [
    "def mh_sample(theta0, n, log_target, q, seed=0):\n",
    "    np.random.seed(seed)\n",
    "    \n",
    "    theta_t = theta0\n",
    "    thetas = []\n",
    "    accepts = 0\n",
    "    \n",
    "    for i in tqdm.tqdm(range(n)):\n",
    "        theta_prop = q(theta_t)\n",
    "        u = np.random.rand()\n",
    "        \n",
    "        if np.log(u) < log_target(theta_prop) - log_target(theta_t):\n",
    "            theta_t = theta_prop\n",
    "            accepts += 1\n",
    "        \n",
    "        thetas.append(theta_t)\n",
    "        \n",
    "    return np.array(thetas), accepts / n"
   ]
  },
  {
   "cell_type": "code",
   "execution_count": null,
   "id": "71203257-f598-4b06-b966-5a7999e6778e",
   "metadata": {},
   "outputs": [],
   "source": [
    "thetas, accept_ratio = mh_sample(0.0, 10000, \n",
    "                                 lambda theta: -np.abs(theta),  \n",
    "                                 lambda theta_t: theta_t + np.random.randn())\n",
    "\n",
    "print(\"Accept ratio =\", accept_ratio)"
   ]
  },
  {
   "cell_type": "code",
   "execution_count": null,
   "id": "f70be39a-b468-4d8f-a24d-640adb8dc5ab",
   "metadata": {},
   "outputs": [],
   "source": [
    "thetas"
   ]
  },
  {
   "cell_type": "code",
   "execution_count": null,
   "id": "3f6f4946-ba53-41a0-a8e7-17ae275402c9",
   "metadata": {},
   "outputs": [],
   "source": [
    "fig, ax = plt.subplots(2)\n",
    "\n",
    "ax[0].plot(thetas)\n",
    "ax[1].hist(thetas, bins=50, density=True)\n",
    "\n",
    "plt.show()"
   ]
  },
  {
   "cell_type": "markdown",
   "id": "cd05585c-bd27-450f-a119-b3eef623b765",
   "metadata": {},
   "source": [
    "## Proposals"
   ]
  },
  {
   "cell_type": "code",
   "execution_count": null,
   "id": "4c91e9dc-d113-4b73-850a-128994a16a64",
   "metadata": {},
   "outputs": [],
   "source": [
    "# Narrow proposal\n",
    "thetas, accept_ratio = mh_sample(0.0, 10000, \n",
    "                                 lambda theta: -np.abs(theta),\n",
    "                                 lambda theta_t: theta_t + 0.1 * np.random.randn())\n",
    "\n",
    "fig, ax = plt.subplots(2)\n",
    "\n",
    "ax[0].plot(thetas)\n",
    "ax[1].hist(thetas, bins=50, density=True)\n",
    "\n",
    "plt.show()\n",
    "\n",
    "print(\"Accept ratio =\", accept_ratio)"
   ]
  },
  {
   "cell_type": "code",
   "execution_count": null,
   "id": "6da64385-eb17-488e-a180-4eb72c27df68",
   "metadata": {},
   "outputs": [],
   "source": [
    "# Wide proposal\n",
    "thetas, accept_ratio = mh_sample(0.0, 10000, \n",
    "                                 lambda theta: -np.abs(theta),\n",
    "                                 lambda theta_t: theta_t + 10.0 * np.random.randn())\n",
    "\n",
    "fig, ax = plt.subplots(2)\n",
    "\n",
    "ax[0].plot(thetas)\n",
    "ax[1].hist(thetas, bins=50, density=True)\n",
    "\n",
    "plt.show()\n",
    "\n",
    "print(\"Accept ratio =\", accept_ratio)"
   ]
  },
  {
   "cell_type": "markdown",
   "id": "bcd38072-63bd-499a-8201-97e82148a9db",
   "metadata": {},
   "source": [
    "<div class=\"alert alert-success\">\n",
    "    \n",
    "**Exercise**. Repeat the execution above but for 1000 samples. What do you observe? \n",
    "    \n",
    "</div>"
   ]
  },
  {
   "cell_type": "code",
   "execution_count": null,
   "id": "d852e45e-d595-4ceb-99d6-4079a024ca80",
   "metadata": {},
   "outputs": [],
   "source": []
  },
  {
   "cell_type": "markdown",
   "id": "f5935744-e481-4798-a072-ddaa1d9be307",
   "metadata": {},
   "source": [
    "<div class=\"alert alert-success\">\n",
    "    \n",
    "**Exercise**. Try with non-Gaussian proposal distribution.\n",
    "    \n",
    "</div>"
   ]
  },
  {
   "cell_type": "code",
   "execution_count": null,
   "id": "bc5a722c-1e2a-4353-a412-d7239014cdeb",
   "metadata": {},
   "outputs": [],
   "source": []
  },
  {
   "cell_type": "markdown",
   "id": "b6ca63f9-2d11-48a1-a22a-bfc93d0a0194",
   "metadata": {},
   "source": [
    "In summary:\n",
    "- Too narrow proposals lead to very high acceptance rates but persistent random walks that can seriously bias the sample. \n",
    "- Too wide proposals lead to very low acceptance rates and long sequences of identical states that can be seen as spikes in the histogram of the samples."
   ]
  },
  {
   "cell_type": "markdown",
   "id": "241823f4-7349-4dfc-a5a9-014dafe932a0",
   "metadata": {},
   "source": [
    "## Thining, Warm up"
   ]
  },
  {
   "cell_type": "code",
   "execution_count": null,
   "id": "c398dca3-c5a8-4553-a22f-0518a8a72044",
   "metadata": {},
   "outputs": [],
   "source": [
    "# Thinning\n",
    "thetas, accept_ratio = mh_sample(0.0, 10000*50,\n",
    "                                 lambda theta: -np.abs(theta),\n",
    "                                 lambda theta_t: theta_t + 0.1 * np.random.randn())\n",
    "\n",
    "fig, ax = plt.subplots(2)\n",
    "\n",
    "ax[0].plot(thetas[::50])  # keep 1/50 of the samples\n",
    "ax[1].hist(thetas[::50], bins=50, density=True)\n",
    "\n",
    "plt.show()\n",
    "\n",
    "print(\"Accept ratio =\", accept_ratio)"
   ]
  },
  {
   "cell_type": "code",
   "execution_count": null,
   "id": "79452a48-4baa-46dc-b380-3927c0e9200e",
   "metadata": {},
   "outputs": [],
   "source": [
    "# Warm up\n",
    "thetas, accept_ratio = mh_sample(-30.0, 10000,\n",
    "                                 lambda theta: -np.abs(theta),\n",
    "                                 lambda theta_t: theta_t + np.random.randn())\n",
    "\n",
    "fig, ax = plt.subplots(2)\n",
    "\n",
    "ax[0].plot(thetas[:500])  \n",
    "ax[1].hist(thetas[:500], bins=50, density=True)\n",
    "\n",
    "plt.show()\n",
    "\n",
    "print(\"Accept ratio =\", accept_ratio)"
   ]
  },
  {
   "cell_type": "code",
   "execution_count": null,
   "id": "518edf8f-d381-462c-ac6b-17adc774cd84",
   "metadata": {},
   "outputs": [],
   "source": [
    "fig, ax = plt.subplots(2)\n",
    "\n",
    "ax[0].plot(thetas[len(thetas)//2:])   # discard the first half\n",
    "ax[1].hist(thetas[len(thetas)//2:], bins=50, density=True)\n",
    "\n",
    "plt.show()"
   ]
  },
  {
   "cell_type": "markdown",
   "id": "c67345ef-f909-43cb-9778-882d5abaf50b",
   "metadata": {},
   "source": [
    "<div class=\"alert alert-success\">\n",
    "    \n",
    "**Exercise**. Run Metropolis-Hastings to sample from a mixture of two Gaussians.\n",
    "    \n",
    "</div>"
   ]
  },
  {
   "cell_type": "code",
   "execution_count": null,
   "id": "ea72cbc0-7ff9-4bad-b54c-e43f1027d9ac",
   "metadata": {},
   "outputs": [],
   "source": []
  },
  {
   "cell_type": "markdown",
   "id": "ddf83b43-646f-4c9f-8b08-285c3a02e8b0",
   "metadata": {},
   "source": [
    "<div class=\"alert alert-success\">\n",
    "    \n",
    "**Exercise**. Run Metropolis-Hastings to sample from a density $\\pi(\\theta) = \\frac{1}{Z} \\theta^2$ supported on $[-1, 1]$.\n",
    "</div>"
   ]
  },
  {
   "cell_type": "code",
   "execution_count": null,
   "id": "6f3d0885-df33-44c9-bd0a-b1505a70dc0e",
   "metadata": {},
   "outputs": [],
   "source": []
  },
  {
   "cell_type": "markdown",
   "id": "98d56876-781f-4409-ab8e-cee454cc395c",
   "metadata": {},
   "source": [
    "# Bayesian inference with MCMC"
   ]
  },
  {
   "cell_type": "code",
   "execution_count": 12,
   "id": "7d8fa4eb-d938-41bb-a5a9-a9dca6c0b9ce",
   "metadata": {},
   "outputs": [],
   "source": [
    "# Generative model\n",
    "theta_true = np.array([-3.0, 0.0, np.log(5.0)])\n",
    "\n",
    "def generate(n_samples, theta_true):\n",
    "    x = np.random.rand(n_samples) * 20 - 10\n",
    "    x = np.sort(x)\n",
    "    \n",
    "    y = theta_true[0] * x + theta_true[1] + np.random.randn(n_samples) * np.exp(theta_true[2])\n",
    "    \n",
    "    return x, y"
   ]
  },
  {
   "cell_type": "code",
   "execution_count": 13,
   "id": "40cd09ce-33aa-4421-b1c4-232f20ee368c",
   "metadata": {},
   "outputs": [],
   "source": [
    "x, y = generate(50, theta_true)\n",
    "# y[-1] = y[-1] + 100  # add an outlier"
   ]
  },
  {
   "cell_type": "code",
   "execution_count": null,
   "id": "c410b77b-ec4a-43c4-bc20-308001f8d3c4",
   "metadata": {},
   "outputs": [],
   "source": [
    "fig = plt.figure()\n",
    "ax = plt.axes()\n",
    "ax.scatter(x, y)\n",
    "xs = np.linspace(-10, 10)\n",
    "ax.plot(xs, theta_true[0] * xs + theta_true[1], color=\"blue\")\n",
    "plt.show()"
   ]
  },
  {
   "cell_type": "code",
   "execution_count": 15,
   "id": "9b9efe04-0849-4073-a45d-3c43ca506b5c",
   "metadata": {},
   "outputs": [],
   "source": [
    "# Sampling the posterior\n",
    "from scipy.stats import norm, multivariate_normal, laplace\n",
    "\n",
    "def log_likelihood(theta, x, y):\n",
    "    return norm.logpdf(y, loc=theta[0] * x + theta[1], scale=np.exp(theta[2])).sum()\n",
    "    #return laplace.logpdf(y, loc=theta[0] * x + theta[1], scale=np.exp(theta[2])).sum()\n",
    "\n",
    "def log_prior(theta):   \n",
    "    return (norm.logpdf(theta[0], loc=0., scale=3) + \n",
    "            norm.logpdf(theta[1], loc=0., scale=3) +\n",
    "            norm.logpdf(theta[2], loc=np.log(1.0), scale=3))\n",
    "\n",
    "def log_posterior(theta, x, y):\n",
    "    return log_likelihood(theta, x, y) + log_prior(theta) # -normalizing constant (not needed!)"
   ]
  },
  {
   "cell_type": "code",
   "execution_count": null,
   "id": "358dcddc-89aa-4604-b44a-fe81fd79263e",
   "metadata": {},
   "outputs": [],
   "source": [
    "thetas, accept_ratio = mh_sample(np.array([0.0, 0.0, 0.0]), 50000,\n",
    "                                 lambda theta: log_posterior(theta, x, y),\n",
    "                                 lambda theta_t: theta_t + multivariate_normal.rvs(mean=[0.0, 0.0, 0.0], cov=0.1))\n",
    "\n",
    "print(\"Accept ratio =\", accept_ratio)"
   ]
  },
  {
   "cell_type": "code",
   "execution_count": null,
   "id": "9b04e209-0754-41ed-9885-4aea9d212c46",
   "metadata": {},
   "outputs": [],
   "source": [
    "fig, ax = plt.subplots(3)\n",
    "\n",
    "for i in range(3):\n",
    "    ax[i].plot(thetas[:, i])\n",
    "\n",
    "plt.show()"
   ]
  },
  {
   "cell_type": "code",
   "execution_count": null,
   "id": "b05f26ed-6e11-48cc-9a48-0ba65a820c68",
   "metadata": {},
   "outputs": [],
   "source": [
    "import corner\n",
    "fig = corner.corner(thetas[1000:], labels=[\"m\", \"b\", \"log sigma\"], truths=theta_true)"
   ]
  },
  {
   "cell_type": "code",
   "execution_count": null,
   "id": "ec14d70f-c837-4aa1-8ab6-d5e5560ddb40",
   "metadata": {},
   "outputs": [],
   "source": [
    "fig = plt.figure()\n",
    "ax = plt.axes()\n",
    "ax.scatter(x, y)\n",
    "xs = np.linspace(-10, 10)\n",
    "warmup = 1000\n",
    "\n",
    "for i in range(100):\n",
    "    ax.plot(xs, thetas[warmup+i, 0] * xs + thetas[warmup+i, 1], color=\"red\", alpha=0.1)\n",
    "    ax.fill_between(xs, \n",
    "                    thetas[warmup+i, 0] * xs + thetas[warmup+i, 1] - 2*np.exp(thetas[warmup+i, 2]), \n",
    "                    thetas[warmup+i, 0] * xs + thetas[warmup+i, 1] + 2*np.exp(thetas[warmup+i, 2]), \n",
    "                    color=\"red\", alpha=0.002)\n",
    "\n",
    "ax.plot(xs, theta_true[0] * xs + theta_true[1], color=\"blue\")\n",
    "#ax.set(ylim=(-50,50))\n",
    "plt.show()"
   ]
  },
  {
   "cell_type": "markdown",
   "id": "be4c1701-09a5-4801-afb2-b4d5a9956dc4",
   "metadata": {},
   "source": [
    "<div class=\"alert alert-success\">\n",
    "    \n",
    "**Exercise**. Repeat with fewer observations. What do you observe?\n",
    "    \n",
    "</div>"
   ]
  },
  {
   "cell_type": "code",
   "execution_count": null,
   "id": "2008799a-2043-44a7-bba0-2a41bdc43a01",
   "metadata": {},
   "outputs": [],
   "source": []
  },
  {
   "cell_type": "markdown",
   "id": "acb035a7-ba38-4141-9896-2d6ea368516b",
   "metadata": {},
   "source": [
    "# `emcee`"
   ]
  },
  {
   "cell_type": "code",
   "execution_count": 23,
   "id": "340f0dbc-c62e-4a85-a105-b7b7541f7731",
   "metadata": {},
   "outputs": [],
   "source": [
    "import emcee\n",
    "\n",
    "pos = np.array([0.0, 0.0, 0.0]) + 0.1 * np.random.randn(10, 3)\n",
    "nwalkers, ndim = pos.shape"
   ]
  },
  {
   "cell_type": "code",
   "execution_count": null,
   "id": "6a93dd2d-1b63-4186-a880-3610fa38a145",
   "metadata": {},
   "outputs": [],
   "source": [
    "sampler = emcee.EnsembleSampler(nwalkers, ndim, log_posterior, args=(x, y))\n",
    "sampler.run_mcmc(pos, 100000 // nwalkers, progress=True);"
   ]
  },
  {
   "cell_type": "code",
   "execution_count": null,
   "id": "5e73030d-48d7-4979-bdb4-889360b62e11",
   "metadata": {},
   "outputs": [],
   "source": [
    "fig, axes = plt.subplots(ndim, figsize=(10, 7), sharex=True)\n",
    "samples = sampler.get_chain()\n",
    "labels = [\"m\", \"b\", \"log sigma\"]\n",
    "\n",
    "for i in range(ndim):\n",
    "    ax = axes[i]\n",
    "    ax.plot(samples[:, :, i], \"k\", alpha=0.3)\n",
    "    ax.set_xlim(0, len(samples))\n",
    "    ax.set_ylabel(labels[i])\n",
    "    ax.yaxis.set_label_coords(-0.1, 0.5)\n",
    "\n",
    "axes[-1].set_xlabel(\"step number\")\n",
    "plt.show()"
   ]
  },
  {
   "cell_type": "code",
   "execution_count": null,
   "id": "5fc0ce7a-ba5e-4767-bbb5-58728707e726",
   "metadata": {},
   "outputs": [],
   "source": [
    "import corner\n",
    "thetas = sampler.get_chain(flat=True, discard=200, thin=45)\n",
    "fig = corner.corner(thetas, labels=labels, truths=theta_true)"
   ]
  },
  {
   "cell_type": "code",
   "execution_count": null,
   "id": "3762d6d3-68b2-4912-920f-ee72d32ca9a1",
   "metadata": {},
   "outputs": [],
   "source": [
    "fig = plt.figure()\n",
    "ax = plt.axes()\n",
    "ax.scatter(x, y)\n",
    "xs = np.linspace(-10, 10)\n",
    "warmup = 1000\n",
    "\n",
    "for i in range(100):\n",
    "    ax.plot(xs, thetas[warmup+i, 0] * xs + thetas[warmup+i, 1], color=\"red\", alpha=0.1)\n",
    "    ax.fill_between(xs, \n",
    "                    thetas[warmup+i, 0] * xs + thetas[warmup+i, 1] - 2*np.exp(thetas[warmup+i, 2]), \n",
    "                    thetas[warmup+i, 0] * xs + thetas[warmup+i, 1] + 2*np.exp(thetas[warmup+i, 2]), \n",
    "                    color=\"red\", alpha=0.002)\n",
    "\n",
    "ax.plot(xs, theta_true[0] * xs + theta_true[1], color=\"blue\")\n",
    "plt.show()"
   ]
  },
  {
   "cell_type": "code",
   "execution_count": null,
   "id": "c97fbb1d-1b37-4969-bea9-e89bacb565ba",
   "metadata": {},
   "outputs": [],
   "source": [
    "tau = sampler.get_autocorr_time()\n",
    "tau"
   ]
  }
 ],
 "metadata": {
  "kernelspec": {
   "display_name": "dats0001",
   "language": "python",
   "name": "python3"
  },
  "language_info": {
   "codemirror_mode": {
    "name": "ipython",
    "version": 3
   },
   "file_extension": ".py",
   "mimetype": "text/x-python",
   "name": "python",
   "nbconvert_exporter": "python",
   "pygments_lexer": "ipython3",
   "version": "3.9.18"
  }
 },
 "nbformat": 4,
 "nbformat_minor": 5
}
