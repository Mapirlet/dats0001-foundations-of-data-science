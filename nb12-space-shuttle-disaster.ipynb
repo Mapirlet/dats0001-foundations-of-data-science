{
 "cells": [
  {
   "cell_type": "markdown",
   "id": "05080d5f-640d-4a95-bba4-f0dadda33ce5",
   "metadata": {},
   "source": [
    "# `nb12`: Space Shuttle Challenger disaster"
   ]
  },
  {
   "cell_type": "markdown",
   "id": "cb597b37-6108-4e7d-b21c-311464f6cf49",
   "metadata": {},
   "source": [
    "The content of this notebook is adapted from \"Bayesian Methods for Hackers\" (Chapter 2), by Cam Davidson-Pilon."
   ]
  },
  {
   "cell_type": "markdown",
   "id": "310363e4-5228-4cc7-8160-ddfffc9de2dc",
   "metadata": {},
   "source": [
    "The Space Shuttle Challenger disaster occurred on January 28, 1986, when the shuttle's rocket boosters exploded after lift-off, killing all seven crew members. An investigation by the presidential commission on the accident found that the explosion was caused by the failure of an O-ring in a field joint on the rocket booster. This failure was due to a faulty design that made the O-ring sensitive to outside temperature and other factors. Of the previous 24 flights, data on O-ring failures was available for 23 flights (one flight's data was lost at sea), but only the data from the 7 flights with damage incidents was considered important. This data did not show any clear trend.\n",
    "\n",
    "![](figures/nb12/oring.png)"
   ]
  },
  {
   "cell_type": "code",
   "execution_count": 1,
   "id": "e72dc22d-a680-4c48-aebe-20cd35508c77",
   "metadata": {},
   "outputs": [],
   "source": [
    "import numpy as np\n",
    "import pandas as pd\n",
    "import matplotlib.pyplot as plt"
   ]
  },
  {
   "cell_type": "markdown",
   "id": "e0f9676e-f52b-4d9b-9a26-85ceae8126ef",
   "metadata": {},
   "source": [
    "# Data"
   ]
  },
  {
   "cell_type": "markdown",
   "id": "df75e0d7-ccad-4eac-a469-9e8a633cfeab",
   "metadata": {},
   "source": [
    "<div class=\"alert alert-success\">\n",
    "    \n",
    "**Exercise**. Load the data from `\"data/challenger.csv\"`.\n",
    "    \n",
    "</div>"
   ]
  },
  {
   "cell_type": "code",
   "execution_count": null,
   "id": "fff0966c-5008-4799-acfc-56771c77dd94",
   "metadata": {},
   "outputs": [],
   "source": []
  },
  {
   "cell_type": "markdown",
   "id": "a2f5f5e3-2f45-407e-b257-55fb108fa3c7",
   "metadata": {},
   "source": [
    "<div class=\"alert alert-success\">\n",
    "    \n",
    "**Exercise**. Visualize the data.\n",
    "    \n",
    "</div>"
   ]
  },
  {
   "cell_type": "code",
   "execution_count": null,
   "id": "88ad87f4-4514-4ca9-9777-da5ff0e5891f",
   "metadata": {},
   "outputs": [],
   "source": []
  },
  {
   "cell_type": "markdown",
   "id": "7634b0fa-8bf6-4913-a3ac-4e76f3d935b3",
   "metadata": {},
   "source": [
    "# Probabilistic model\n",
    "\n",
    "The visual inspection of the data makes it clear that the probability of an incident increases as the outside temperature decreases."
   ]
  },
  {
   "cell_type": "markdown",
   "id": "d63fac83-c05c-40e2-8f16-02739ca4867a",
   "metadata": {},
   "source": [
    "<div class=\"alert alert-success\">\n",
    "    \n",
    "**Exercise**. Propose and implement an adequate probabilistic model.\n",
    "    \n",
    "</div>"
   ]
  },
  {
   "cell_type": "code",
   "execution_count": null,
   "id": "d8da7b68-e9ba-43d7-bf17-0eca8c8fd823",
   "metadata": {},
   "outputs": [],
   "source": []
  },
  {
   "cell_type": "markdown",
   "id": "841c6cca-7741-4c9f-8ec7-9c9c853d0698",
   "metadata": {},
   "source": [
    "# Inference"
   ]
  },
  {
   "cell_type": "markdown",
   "id": "02afad59-bfec-46b8-8125-9384b0d932d7",
   "metadata": {},
   "source": [
    "<div class=\"alert alert-success\">\n",
    "    \n",
    "**Exercise**. Compute the posterior distribution of the model parameters.\n",
    "    \n",
    "</div>"
   ]
  },
  {
   "cell_type": "code",
   "execution_count": null,
   "id": "ffe52a51-50ce-4a23-8ae9-39b39e16a97f",
   "metadata": {},
   "outputs": [],
   "source": []
  },
  {
   "cell_type": "markdown",
   "id": "f17e16bc-06a2-410f-9a94-acb96e2652af",
   "metadata": {},
   "source": [
    "<div class=\"alert alert-success\">\n",
    "    \n",
    "**Exercise**. Diagnose the inference results.\n",
    "    \n",
    "</div>"
   ]
  },
  {
   "cell_type": "code",
   "execution_count": null,
   "id": "ce3d5cbf-43f0-4563-bb4d-89bc7a9ad9ee",
   "metadata": {},
   "outputs": [],
   "source": []
  },
  {
   "cell_type": "markdown",
   "id": "278b1470-ffb5-4ee8-8b71-4eb19e991363",
   "metadata": {},
   "source": [
    "<div class=\"alert alert-success\">\n",
    "    \n",
    "**Exercise**. Visualize the posterior distribution.\n",
    "    \n",
    "</div>"
   ]
  },
  {
   "cell_type": "code",
   "execution_count": null,
   "id": "0a1ab775-bc24-4d51-b74c-b70e7670b8be",
   "metadata": {},
   "outputs": [],
   "source": []
  },
  {
   "cell_type": "markdown",
   "id": "72f5e457-7d1d-4c4a-8044-dedf24cbbd7d",
   "metadata": {},
   "source": [
    "<div class=\"alert alert-success\">\n",
    "    \n",
    "**Exercise**. Show the posterior predictive distribution of the probability of an incident.\n",
    "    \n",
    "</div>"
   ]
  },
  {
   "cell_type": "code",
   "execution_count": null,
   "id": "5624d4a7-1e5c-4efc-86f2-c53a8e631a92",
   "metadata": {},
   "outputs": [],
   "source": []
  },
  {
   "cell_type": "markdown",
   "id": "01173d3d-b548-488a-938e-93a158678f95",
   "metadata": {},
   "source": [
    "# Criticism"
   ]
  },
  {
   "cell_type": "markdown",
   "id": "d71b6d1c-c94b-4c71-93dd-b630ed2bdadd",
   "metadata": {},
   "source": [
    "<div class=\"alert alert-success\">\n",
    "    \n",
    "**Exercise**. Check that your model is adequate.\n",
    "    \n",
    "</div>"
   ]
  },
  {
   "cell_type": "code",
   "execution_count": null,
   "id": "07c9c9e3-1716-4a2a-9485-e2d9ed15bcc1",
   "metadata": {},
   "outputs": [],
   "source": []
  },
  {
   "cell_type": "markdown",
   "id": "8718a269-584e-4cb6-bb64-d53e19a01a2c",
   "metadata": {},
   "source": [
    "## Model comparison"
   ]
  },
  {
   "cell_type": "markdown",
   "id": "1deee0e1-25bd-4523-aadb-b3332bf93609",
   "metadata": {},
   "source": [
    "<div class=\"alert alert-success\">\n",
    "    \n",
    "**Exercise**. Compare your results using a tighter prior.\n",
    "    \n",
    "</div>"
   ]
  },
  {
   "cell_type": "code",
   "execution_count": null,
   "id": "9f5a23ea-c889-43ca-a81b-453e38ba31af",
   "metadata": {},
   "outputs": [],
   "source": []
  },
  {
   "cell_type": "markdown",
   "id": "d1b8b777-31ec-4583-b8e3-bab40a9eb68c",
   "metadata": {},
   "source": [
    "<div class=\"alert alert-success\">\n",
    "    \n",
    "**Exercise**. Compare your results to random (coin-flip) predictions.\n",
    "    \n",
    "</div>"
   ]
  },
  {
   "cell_type": "code",
   "execution_count": null,
   "id": "794b753a-b32f-4fe4-9c5d-f9decc539bb4",
   "metadata": {},
   "outputs": [],
   "source": []
  }
 ],
 "metadata": {
  "kernelspec": {
   "display_name": "Python [conda env:dats0001] *",
   "language": "python",
   "name": "conda-env-dats0001-py"
  },
  "language_info": {
   "codemirror_mode": {
    "name": "ipython",
    "version": 3
   },
   "file_extension": ".py",
   "mimetype": "text/x-python",
   "name": "python",
   "nbconvert_exporter": "python",
   "pygments_lexer": "ipython3",
   "version": "3.10.4"
  }
 },
 "nbformat": 4,
 "nbformat_minor": 5
}
