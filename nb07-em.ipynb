{
 "cells": [
  {
   "cell_type": "markdown",
   "id": "05080d5f-640d-4a95-bba4-f0dadda33ce5",
   "metadata": {},
   "source": [
    "# `nb07`: Expectation-Maximization"
   ]
  },
  {
   "cell_type": "code",
   "execution_count": null,
   "id": "1d0e9345-36d0-429e-ab33-b75cdf9c7f8a",
   "metadata": {},
   "outputs": [],
   "source": [
    "import numpy as np\n",
    "import matplotlib.pyplot as plt\n",
    "from scipy.stats import multivariate_normal\n",
    "from scipy.stats import multinomial"
   ]
  },
  {
   "cell_type": "code",
   "execution_count": null,
   "id": "85842a19-bd2f-4e27-b405-b518b0577cfb",
   "metadata": {},
   "outputs": [],
   "source": [
    "from matplotlib.patches import Ellipse\n",
    "\n",
    "def _plot_cov(ax, cov, pos):\n",
    "    def eigsorted(cov):\n",
    "        vals, vecs = np.linalg.eigh(cov)\n",
    "        order = vals.argsort()[::-1]\n",
    "        return vals[order], vecs[:,order]\n",
    "\n",
    "    vals, vecs = eigsorted(cov)\n",
    "    theta = np.degrees(np.arctan2(*vecs[:,0][::-1]))\n",
    "    \n",
    "    w, h = 4 * np.sqrt(vals)\n",
    "    ellip = Ellipse(xy=pos, width=w, height=h, \n",
    "                    angle=theta, alpha=0.25)\n",
    "    ax.add_artist(ellip)\n",
    "\n",
    "def make_plot(x, r=None, mu=None, sigma=None, ll=None):\n",
    "    fig = plt.figure()\n",
    "    ax = plt.axes()\n",
    "    \n",
    "    if r is None:\n",
    "        ax.scatter(x[:, 0], x[:, 1], alpha=0.2)\n",
    "    else:\n",
    "        clusters = np.argmax(r, axis=1)\n",
    "        ax.scatter(x[:, 0], x[:, 1], alpha=0.2, c=clusters)\n",
    "    \n",
    "    if mu is not None:\n",
    "        ax.scatter(mu[:, 0], mu[:, 1])\n",
    "        \n",
    "    if sigma is not None:\n",
    "        n_clusters = sigma.shape[0]\n",
    "        \n",
    "        for k in range(n_clusters):\n",
    "            _plot_cov(ax, sigma[k], mu[k])\n",
    "            \n",
    "    if ll is not None:\n",
    "        ax.set(title=r\"$ll = {}$\".format(ll))\n",
    "                 \n",
    "    plt.show()"
   ]
  },
  {
   "cell_type": "code",
   "execution_count": null,
   "id": "cd0868d3-517b-4ae4-86cf-441bea2b5854",
   "metadata": {},
   "outputs": [],
   "source": [
    "# Load data\n",
    "x = np.loadtxt(\"data/gmm.csv\", delimiter=\",\")"
   ]
  },
  {
   "cell_type": "code",
   "execution_count": null,
   "id": "2fa3aa00-af1b-4ebe-9f0d-189c224b724a",
   "metadata": {},
   "outputs": [],
   "source": [
    "make_plot(x)"
   ]
  },
  {
   "cell_type": "markdown",
   "id": "a920a60e-9e48-42d7-9bae-380539192836",
   "metadata": {},
   "source": [
    "# Expectation-Maximization"
   ]
  },
  {
   "cell_type": "code",
   "execution_count": null,
   "id": "ca72e163-42fe-4fc1-bf99-b4fbd8475b09",
   "metadata": {},
   "outputs": [],
   "source": [
    "# Log-likelihood p(x | pi, mu, sigma)   \n",
    "def ll(x, pi, mu, sigma):\n",
    "    # ..."
   ]
  },
  {
   "cell_type": "code",
   "execution_count": null,
   "id": "c5c55f54-352e-4c4b-8cb1-338879fb2ca0",
   "metadata": {},
   "outputs": [],
   "source": [
    "# E-step \n",
    "def e_step(x, pi, mu, sigma):\n",
    "    # Compute the posterior r[i, j] = p(z=j | x_i), for i=1->N, j=1->K\n",
    "    # ...\n",
    "    \n",
    "    return r"
   ]
  },
  {
   "cell_type": "code",
   "execution_count": null,
   "id": "fd0f9e3c-7f9a-460c-97ff-da7a20366ca4",
   "metadata": {},
   "outputs": [],
   "source": [
    "# M-step\n",
    "def m_step(x, r):\n",
    "    # Maximize E_r [ log p(x, z | pi, mu, sigma) ]\n",
    "    # ...\n",
    "        \n",
    "    return pi, mu, sigma"
   ]
  },
  {
   "cell_type": "code",
   "execution_count": null,
   "id": "f5bf97b5-b350-4aed-8535-5b8372f6eeb8",
   "metadata": {},
   "outputs": [],
   "source": [
    "# Initialization\n",
    "n_samples = len(x)\n",
    "n_clusters = 4\n",
    "\n",
    "# ..."
   ]
  },
  {
   "cell_type": "code",
   "execution_count": null,
   "id": "aeb2ca13-8c60-445a-b289-f629f0e93776",
   "metadata": {},
   "outputs": [],
   "source": [
    "# Initial assignments\n",
    "r = e_step(x, pi, mu, sigma)\n",
    "make_plot(x, r, mu, sigma, ll=ll(x, pi, mu, sigma))"
   ]
  },
  {
   "cell_type": "code",
   "execution_count": null,
   "id": "0822e1e8-839c-4ad5-8134-40fd20450990",
   "metadata": {},
   "outputs": [],
   "source": [
    "# Iterate manually until convergence\n",
    "# ...\n",
    "make_plot(x, r, mu, sigma, ll=ll(x, pi, mu, sigma))"
   ]
  },
  {
   "cell_type": "code",
   "execution_count": null,
   "id": "99e03fee-447f-4b7e-b85a-9ea59deaa6b8",
   "metadata": {},
   "outputs": [],
   "source": [
    "# Simulate new data\n",
    "def simulate(n_samples, pi, mu, sigma):\n",
    "    # ...        \n",
    "    return x\n",
    "\n",
    "make_plot(simulate(5000, pi, mu, sigma))"
   ]
  }
 ],
 "metadata": {
  "kernelspec": {
   "display_name": "Python [conda env:dats0001] *",
   "language": "python",
   "name": "conda-env-dats0001-py"
  },
  "language_info": {
   "codemirror_mode": {
    "name": "ipython",
    "version": 3
   },
   "file_extension": ".py",
   "mimetype": "text/x-python",
   "name": "python",
   "nbconvert_exporter": "python",
   "pygments_lexer": "ipython3",
   "version": "3.10.4"
  }
 },
 "nbformat": 4,
 "nbformat_minor": 5
}
