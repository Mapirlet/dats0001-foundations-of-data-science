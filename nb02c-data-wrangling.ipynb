{
 "cells": [
  {
   "cell_type": "markdown",
   "id": "4e11600e-694a-4118-ae5c-bf669c0b7844",
   "metadata": {},
   "source": [
    "# `nb02c`: Data wrangling "
   ]
  },
  {
   "cell_type": "markdown",
   "id": "ef463ca8-5378-4abe-b3bd-092fe003d5a0",
   "metadata": {
    "tags": []
   },
   "source": [
    "![](./figures/nb02/pandas.png)\n",
    "\n",
    "Pandas is a Python library for data manipulation and analysis. It offers data structures and operations for manipulating hetereogeneous and labeled data."
   ]
  },
  {
   "cell_type": "code",
   "execution_count": null,
   "id": "fa992639-d7f1-4311-9cf5-b49e2f1c0b5b",
   "metadata": {},
   "outputs": [],
   "source": [
    "import numpy as np\n",
    "import pandas as pd  # Load pandas"
   ]
  },
  {
   "cell_type": "markdown",
   "id": "0aeae6a3-8111-4d8a-9ea0-854313048cda",
   "metadata": {},
   "source": [
    "# Let's start with a showcase"
   ]
  },
  {
   "cell_type": "markdown",
   "id": "4572757a-db42-46de-95bd-805b1c3deadb",
   "metadata": {},
   "source": [
    "From loading a dataset to answering questions in a few lines of code:"
   ]
  },
  {
   "cell_type": "code",
   "execution_count": null,
   "id": "b21008e2-fb5c-4fec-ad2b-7ed521da6f38",
   "metadata": {},
   "outputs": [],
   "source": [
    "!head data/titanic.csv"
   ]
  },
  {
   "cell_type": "code",
   "execution_count": null,
   "id": "eb171d73-3541-4261-983b-099b205dc3d1",
   "metadata": {},
   "outputs": [],
   "source": [
    "df = pd.read_csv(\"data/titanic.csv\")\n",
    "df.head()"
   ]
  },
  {
   "cell_type": "code",
   "execution_count": null,
   "id": "aac84045-f71f-426f-8ce4-49cbcff1e228",
   "metadata": {},
   "outputs": [],
   "source": [
    "# What is the age distribution of the passengers?\n",
    "df[\"Age\"].hist()"
   ]
  },
  {
   "cell_type": "code",
   "execution_count": null,
   "id": "2fa3ef3c-7b24-41d9-9e79-ac6bcf904319",
   "metadata": {},
   "outputs": [],
   "source": [
    "# How does the survival rate of the passengers differ between males and females?\n",
    "df.groupby(\"Sex\")[\"Survived\"].mean()"
   ]
  },
  {
   "cell_type": "code",
   "execution_count": null,
   "id": "f102d866-d687-46aa-8026-de4f928854f1",
   "metadata": {},
   "outputs": [],
   "source": [
    "# How does it differ between passenger classes?\n",
    "df.groupby(\"Pclass\")[\"Survived\"].mean().plot(kind=\"bar\")"
   ]
  },
  {
   "cell_type": "markdown",
   "id": "e05a816d-e165-4df0-a45e-e357afcfb7f0",
   "metadata": {},
   "source": [
    "# Pandas: data analysis in Python"
   ]
  },
  {
   "cell_type": "markdown",
   "id": "5734d034-c4e7-46af-a9b7-eab04f1d5694",
   "metadata": {},
   "source": [
    "For data-intensive work in Python, the [Pandas](http://pandas.pydata.org) library has become essential.\n",
    "\n",
    "_What is Pandas?_\n",
    "\n",
    "* Pandas can be thought of as *Numpy arrays with labels* for rows and columns, and better support for heterogeneous data types, but it's also much, much more than that.\n",
    "* Pandas can also be thought of as `R`'s `data.frame` in Python.\n",
    "* Powerful for working with missing data, working with time series data, for reading and writing your data, for reshaping, grouping, merging your data, ...\n",
    "\n",
    "Its documentation is available at http://pandas.pydata.org/pandas-docs/stable/.\n",
    "\n",
    "\n",
    "_When do you need Pandas?_\n",
    "\n",
    "When working with **tabular or structured data** (like R dataframe, SQL table, Excel spreadsheet, ...):\n",
    "\n",
    "- Import data\n",
    "- Clean up messy data\n",
    "- Explore data, gain insight into data\n",
    "- Process and prepare your data for analysis\n",
    "- Analyse your data (together with scikit-learn, statsmodels, ...)\n",
    "\n",
    "<div class=\"alert alert-danger\">\n",
    "Pandas is great for working with heterogeneous and tabular 1d/2d data, but not all types of data fit in such structures!\n",
    "<ul>\n",
    "<li>When working with array data (e.g. images, numerical algorithms), stick with Numpy.</li>\n",
    "<li>When working with multidimensional labeled data (e.g. climate data), have a look at <a href=\"http://xarray.pydata.org/en/stable/\">xarray</a>.</li>\n",
    "</ul>\n",
    "</div>"
   ]
  },
  {
   "cell_type": "markdown",
   "id": "f43ec44e-ccdc-4aae-b37e-a236752ffd9a",
   "metadata": {},
   "source": [
    "# DataFrames"
   ]
  },
  {
   "cell_type": "markdown",
   "id": "9ee45e16-c288-43d1-b29c-33ada04f67ce",
   "metadata": {},
   "source": [
    "## `Series`\n",
    "\n",
    "A `Series` is a basic holder for **one-dimensional labeled data**. "
   ]
  },
  {
   "cell_type": "code",
   "execution_count": null,
   "id": "dc8a8902-1b65-4e8e-96d8-f952ea7b6260",
   "metadata": {},
   "outputs": [],
   "source": [
    "s = pd.Series([\"a\", \"b\", \"c\", \"d\", \"e\"])\n",
    "s"
   ]
  },
  {
   "cell_type": "code",
   "execution_count": null,
   "id": "20024609-d208-48f6-b61a-60ed1ca8f680",
   "metadata": {},
   "outputs": [],
   "source": [
    "s.index"
   ]
  },
  {
   "cell_type": "code",
   "execution_count": null,
   "id": "571d69eb-0a28-4353-af23-c25334aee452",
   "metadata": {},
   "outputs": [],
   "source": [
    "s.values"
   ]
  },
  {
   "cell_type": "markdown",
   "id": "2321d0eb-e1e3-49cd-9760-e0e92cfc1daa",
   "metadata": {},
   "source": [
    "Series also represent the individual columns of a `DataFrame`:"
   ]
  },
  {
   "cell_type": "code",
   "execution_count": null,
   "id": "d3c688d0-625f-44db-bb03-fa0ee39556f2",
   "metadata": {},
   "outputs": [],
   "source": [
    "df = pd.read_csv(\"data/titanic.csv\")\n",
    "age = df[\"Age\"]\n",
    "age"
   ]
  },
  {
   "cell_type": "code",
   "execution_count": null,
   "id": "aa14ad82-559f-4e77-963b-439bc0ed1555",
   "metadata": {},
   "outputs": [],
   "source": [
    "type(age)"
   ]
  },
  {
   "cell_type": "markdown",
   "id": "cc2e97aa-738f-4f87-b30e-edd37f9bcb2b",
   "metadata": {},
   "source": [
    "We can access series values via an index, just like for NumPy arrays:"
   ]
  },
  {
   "cell_type": "code",
   "execution_count": null,
   "id": "14255c78-178f-49fc-b382-42f8d5b6b9be",
   "metadata": {},
   "outputs": [],
   "source": [
    "age[0]"
   ]
  },
  {
   "cell_type": "markdown",
   "id": "25f95406-dc94-45b0-bfc0-42316e8d2e88",
   "metadata": {},
   "source": [
    "Unlike the Numpy array, though, this index can be something other than integers:"
   ]
  },
  {
   "cell_type": "code",
   "execution_count": null,
   "id": "94eb4c98-2a33-435c-a53c-486ff2b1006c",
   "metadata": {},
   "outputs": [],
   "source": [
    "df2 = df.set_index(\"Name\")\n",
    "age = df2[\"Age\"]\n",
    "age"
   ]
  },
  {
   "cell_type": "code",
   "execution_count": null,
   "id": "800abd99-c071-469b-8321-459e4839a1cc",
   "metadata": {},
   "outputs": [],
   "source": [
    "age[\"Braund, Mr. Owen Harris\"]"
   ]
  },
  {
   "cell_type": "markdown",
   "id": "3bc8f765-3342-4d86-83b1-4e1370d1efcb",
   "metadata": {},
   "source": [
    "## `DataFrame`\n",
    "\n",
    "<img src=\"./figures/nb02/dataframe.svg\" width=\"50%\" />\n",
    "\n",
    "A `DataFrame` is a **tabular data structure** (multi-dimensional object to hold labeled data) comprised of rows and columns, akin to a spreadsheet or a database table. It combines multiple `Series` objects sharing the same index."
   ]
  },
  {
   "cell_type": "code",
   "execution_count": null,
   "id": "3842537a-ff64-4ee6-8521-a54d1d784132",
   "metadata": {},
   "outputs": [],
   "source": [
    "df"
   ]
  },
  {
   "cell_type": "code",
   "execution_count": null,
   "id": "900bca6b-9a33-43c4-9b82-3e5ec25bca59",
   "metadata": {},
   "outputs": [],
   "source": [
    "df.index"
   ]
  },
  {
   "cell_type": "code",
   "execution_count": null,
   "id": "9d4efb54-0215-41c4-9f11-ae8623ec1af9",
   "metadata": {},
   "outputs": [],
   "source": [
    "df.columns"
   ]
  },
  {
   "cell_type": "code",
   "execution_count": null,
   "id": "799430ff-e951-4463-b06e-55b686588f47",
   "metadata": {},
   "outputs": [],
   "source": [
    "df.dtypes"
   ]
  },
  {
   "cell_type": "code",
   "execution_count": null,
   "id": "37eda53c-5cf9-4c85-b1b9-9496f4846b61",
   "metadata": {},
   "outputs": [],
   "source": [
    "df.info()"
   ]
  },
  {
   "cell_type": "code",
   "execution_count": null,
   "id": "5a38808a-72cf-4634-b59d-643ac1356743",
   "metadata": {},
   "outputs": [],
   "source": [
    "df.values"
   ]
  },
  {
   "cell_type": "markdown",
   "id": "fb6f8688-dd75-49cd-8f0a-c757ba7f4e92",
   "metadata": {},
   "source": [
    "# Loading data"
   ]
  },
  {
   "cell_type": "markdown",
   "id": "e40b2f52-b9c8-413d-ba8c-4d2f510c7fe2",
   "metadata": {},
   "source": [
    "A wide range of input/output formats are natively supported by Pandas:\n",
    "\n",
    "* CSV, text\n",
    "* SQL database\n",
    "* Excel\n",
    "* HDF5\n",
    "* json\n",
    "* html\n",
    "* pickle\n",
    "* Parquet\n",
    "* ..."
   ]
  },
  {
   "cell_type": "code",
   "execution_count": null,
   "id": "aa8b632a-fd0a-4af6-9346-afe1fcba4b33",
   "metadata": {},
   "outputs": [],
   "source": [
    "#pd.read"
   ]
  },
  {
   "cell_type": "code",
   "execution_count": null,
   "id": "5f65bdb8-d062-464e-8b27-d909c73b6c0a",
   "metadata": {},
   "outputs": [],
   "source": [
    "#df.to"
   ]
  },
  {
   "cell_type": "markdown",
   "id": "ddd94b02-639e-486b-9e58-bb3b28b20786",
   "metadata": {},
   "source": [
    "## Examples"
   ]
  },
  {
   "cell_type": "code",
   "execution_count": null,
   "id": "45854461-14ed-482f-bb6a-88956218da17",
   "metadata": {},
   "outputs": [],
   "source": [
    "# from CSV files\n",
    "df = pd.read_csv(\"data/titanic.csv\")\n",
    "df.head()"
   ]
  },
  {
   "cell_type": "code",
   "execution_count": null,
   "id": "5c027693-7ecb-445c-aae3-a680259f7a91",
   "metadata": {},
   "outputs": [],
   "source": [
    "# from dict\n",
    "data = {'country': ['Belgium', 'France', 'Germany', 'Netherlands', 'United Kingdom'],\n",
    "        'population': [11.3, 64.3, 81.3, 16.9, 64.9],\n",
    "        'area': [30510, 671308, 357050, 41526, 244820],\n",
    "        'capital': ['Brussels', 'Paris', 'Berlin', 'Amsterdam', 'London']}\n",
    "df_countries = pd.DataFrame(data)\n",
    "df_countries"
   ]
  },
  {
   "cell_type": "markdown",
   "id": "2e75f4f9-3497-4ec5-ae16-729fa672fa1a",
   "metadata": {},
   "source": [
    "<div class=\"alert alert-success\">\n",
    "    \n",
    "**Exercise**. Read the `data/no2.csv` file into a DataFrame `no2`.\n",
    "\n",
    "Some aspects about the file:\n",
    "- Which separator is used in the file?\n",
    "- The second row includes unit information and should be skipped (check `skiprows` keyword).\n",
    "- For missing values, it uses the `'n/d'` notation (check `na_values` keyword).\n",
    "- We want to parse the 'timestamp' column as datetimes (check the `parse_dates` keyword).\n",
    "\n",
    "</div>"
   ]
  },
  {
   "cell_type": "code",
   "execution_count": null,
   "id": "1120e3af-741c-48bb-8ee6-a530c2f7bd5c",
   "metadata": {},
   "outputs": [],
   "source": []
  },
  {
   "cell_type": "markdown",
   "id": "2f69d148-2228-4ab5-afe8-1acb3dc6108f",
   "metadata": {},
   "source": [
    "# Data manipulation"
   ]
  },
  {
   "cell_type": "markdown",
   "id": "20455615-5e40-44ea-97b9-1ff752dd5b71",
   "metadata": {},
   "source": [
    "## Selecting and filtering\n",
    "\n",
    "One of Pandas' basic features is the labeling of rows and columns, which makes indexing slightly more complex compared to Numpy. We now have to distinguish between:\n",
    "- selection by **label**\n",
    "- selection by **position**"
   ]
  },
  {
   "cell_type": "code",
   "execution_count": null,
   "id": "3509376c-10fb-4768-802c-afb84f4f50ad",
   "metadata": {},
   "outputs": [],
   "source": [
    "df = pd.read_csv(\"data/titanic.csv\")"
   ]
  },
  {
   "cell_type": "code",
   "execution_count": null,
   "id": "5f9a21d9-f227-4d73-8c96-80bc90343fbc",
   "metadata": {},
   "outputs": [],
   "source": [
    "# Selecting a single column\n",
    "df[\"Age\"]"
   ]
  },
  {
   "cell_type": "code",
   "execution_count": null,
   "id": "0d9194e0-5666-47c6-9401-d70c59d97654",
   "metadata": {},
   "outputs": [],
   "source": [
    "df[[\"Age\"]]"
   ]
  },
  {
   "cell_type": "code",
   "execution_count": null,
   "id": "55fbb680-090e-40c9-a6f6-32c5dd2c257a",
   "metadata": {},
   "outputs": [],
   "source": [
    "# ... or multiple columns\n",
    "df[[\"Age\", \"Fare\"]]"
   ]
  },
  {
   "cell_type": "code",
   "execution_count": null,
   "id": "059ff12f-911b-4447-8003-e30a3abf0079",
   "metadata": {},
   "outputs": [],
   "source": [
    "# Slicing accesses the rows\n",
    "df[10:15]"
   ]
  },
  {
   "cell_type": "code",
   "execution_count": null,
   "id": "c24dd953-eee2-4aa2-9974-c0fa0ddc28fd",
   "metadata": {},
   "outputs": [],
   "source": [
    "# Filtering rows\n",
    "df[df.Age > 70]"
   ]
  },
  {
   "cell_type": "code",
   "execution_count": null,
   "id": "58026091-9ff2-4bf1-9509-f00f380ab2f6",
   "metadata": {},
   "outputs": [],
   "source": [
    "df.query(\"Age > 60 and Sex == 'female'\")"
   ]
  },
  {
   "cell_type": "code",
   "execution_count": null,
   "id": "016df53e-074a-46ff-b55a-a4d38cbe7831",
   "metadata": {},
   "outputs": [],
   "source": [
    "df.query(\"Name.str.startswith('Lo')\", engine=\"python\")"
   ]
  },
  {
   "cell_type": "markdown",
   "id": "7b4724ea-2de7-4912-92f7-8abdc3344da6",
   "metadata": {},
   "source": [
    "When using `[]` like above, you can only select from one axis at once (rows or columns, not both). For more advanced indexing, you have some extra attributes:\n",
    "    \n",
    "* `loc`: selection by label\n",
    "* `iloc`: selection by position"
   ]
  },
  {
   "cell_type": "code",
   "execution_count": null,
   "id": "b46cba5b-155e-450b-93cf-3c0feb207e58",
   "metadata": {},
   "outputs": [],
   "source": [
    "df = df.set_index(\"Name\")\n",
    "df"
   ]
  },
  {
   "cell_type": "code",
   "execution_count": null,
   "id": "9a403693-b924-40ea-845b-902c8bb1e77f",
   "metadata": {},
   "outputs": [],
   "source": [
    "df.loc[\"Bonnell, Miss. Elizabeth\", \"Fare\"]"
   ]
  },
  {
   "cell_type": "code",
   "execution_count": null,
   "id": "63a214d1-e066-4897-934e-4dfa13d9e5a1",
   "metadata": {},
   "outputs": [],
   "source": [
    "df.loc[\"Bonnell, Miss. Elizabeth\":\"Andersson, Mr. Anders Johan\"]"
   ]
  },
  {
   "cell_type": "code",
   "execution_count": null,
   "id": "30b0108a-021c-4928-8ee7-e809bacaf372",
   "metadata": {},
   "outputs": [],
   "source": [
    "df.iloc[0:2, 1:3] # similar to Numpy arrays"
   ]
  },
  {
   "cell_type": "markdown",
   "id": "ac0acb3a-c722-42d4-872f-4d69244f88dc",
   "metadata": {},
   "source": [
    "## Summaries\n",
    "\n",
    "An essential piece of analysis of large data is efficient summarization: computing aggregations like `sum()`, `mean()`, `median()`, `min()`, and `max()`, in which a single number gives insights into the nature of the data."
   ]
  },
  {
   "cell_type": "code",
   "execution_count": null,
   "id": "42f2da1c-3c1b-4486-9fb0-94e7b2f166ab",
   "metadata": {},
   "outputs": [],
   "source": [
    "df = pd.read_csv(\"data/titanic.csv\")"
   ]
  },
  {
   "cell_type": "code",
   "execution_count": null,
   "id": "640deb84-b145-40ad-b94a-57d9c8625ffd",
   "metadata": {},
   "outputs": [],
   "source": [
    "df.describe()"
   ]
  },
  {
   "cell_type": "markdown",
   "id": "f9f92299-4898-4e50-990e-adb18b33dcb7",
   "metadata": {},
   "source": [
    "In Pandas, summary functions include:\n",
    "- `sum()`\n",
    "- `count()`\n",
    "- `median()`\n",
    "- `quantile()`\n",
    "- `min()`\n",
    "- `max()`\n",
    "- `mean()`\n",
    "- `var()`\n",
    "- `std()`\n",
    "- `apply()`\n"
   ]
  },
  {
   "cell_type": "code",
   "execution_count": null,
   "id": "e53d3b2a-8a2c-4217-9473-645eb1fa1175",
   "metadata": {},
   "outputs": [],
   "source": [
    "# Aggregate by sum\n",
    "df[\"Fare\"].sum()"
   ]
  },
  {
   "cell_type": "code",
   "execution_count": null,
   "id": "508f0d23-d2eb-4094-b380-a2ae6fadd27e",
   "metadata": {},
   "outputs": [],
   "source": [
    "# ... by mean and variance\n",
    "df[\"Fare\"].mean(), df[\"Fare\"].var()"
   ]
  },
  {
   "cell_type": "code",
   "execution_count": null,
   "id": "4b525bdd-d655-4e50-9e0b-5a2582c07299",
   "metadata": {},
   "outputs": [],
   "source": [
    "# ... by mean, over two columns\n",
    "df[[\"Fare\", \"Age\"]].mean()"
   ]
  },
  {
   "cell_type": "markdown",
   "id": "c2492435-7502-441b-a19c-4a2044f04470",
   "metadata": {},
   "source": [
    "<div class=\"alert alert-success\">\n",
    "    \n",
    "**Exercise.** What is the maximum Fare that was paid? and the median?\n",
    "\n",
    "</div>"
   ]
  },
  {
   "cell_type": "code",
   "execution_count": null,
   "id": "f2e37f57",
   "metadata": {},
   "outputs": [],
   "source": []
  },
  {
   "cell_type": "markdown",
   "id": "b79838a1-603d-4b13-b93d-0affab845e03",
   "metadata": {},
   "source": [
    "<div class=\"alert alert-success\">\n",
    "    \n",
    "**Exercise**. Compute the average survival ratio for all passengers.\n",
    "\n",
    "</div>"
   ]
  },
  {
   "cell_type": "code",
   "execution_count": null,
   "id": "0844ade1",
   "metadata": {},
   "outputs": [],
   "source": []
  },
  {
   "cell_type": "markdown",
   "id": "7d4083d8-bb46-44f3-b479-7b042425352e",
   "metadata": {
    "tags": []
   },
   "source": [
    "<div class=\"alert alert-success\">\n",
    "    \n",
    "**Exercise.** How many passengers older than 70 were on the Titanic?\n",
    "\n",
    "</div>"
   ]
  },
  {
   "cell_type": "code",
   "execution_count": null,
   "id": "72e3e6b2-3846-4da9-896a-8095fc77d7ec",
   "metadata": {},
   "outputs": [],
   "source": []
  },
  {
   "cell_type": "markdown",
   "id": "09d8effe-adff-4a59-a012-1322b5da25af",
   "metadata": {},
   "source": [
    "## Groups\n",
    "\n",
    "When analyzing data, you often calculate summary statistics (aggregations like the mean, max, ...). As we have seen before, we can easily calculate such a statistic for a `Series` using one of the many available methods. However, in many cases your data has certain groups in it, and in that case, you may want to calculate this statistic for each of the groups."
   ]
  },
  {
   "cell_type": "code",
   "execution_count": null,
   "id": "9837f593-fe58-4b29-b198-f00d2f121c67",
   "metadata": {},
   "outputs": [],
   "source": [
    "df = pd.DataFrame({'key':['A','B','C','A','B','C','A','B','C'],\n",
    "                   'data': [0, 5, 10, 5, 10, 15, 10, 15, 20]})\n",
    "df"
   ]
  },
  {
   "cell_type": "markdown",
   "id": "13e4c2f1-ca70-4ea5-8488-8ea8720ba73d",
   "metadata": {},
   "source": [
    "For example, in the DataFrame above, there is a column `key` which has three possible values: `'A'`, `'B'` and `'C'`. When we want to calculate the sum for each of those groups, we could do the following:"
   ]
  },
  {
   "cell_type": "code",
   "execution_count": null,
   "id": "751912ea-e263-4f68-99f2-3b9927a5365d",
   "metadata": {},
   "outputs": [],
   "source": [
    "for key in ['A', 'B', 'C']:\n",
    "    print(key, df[df['key'] == key]['data'].sum())"
   ]
  },
  {
   "cell_type": "markdown",
   "id": "67a317b7-cbb5-4c56-9c99-86f3ef8d24e4",
   "metadata": {},
   "source": [
    "What we did above, applying a function on different groups, is a \"groupby operation\", and Pandas provides some convenient functionality for this.\n",
    "\n",
    "Formally, we want to **apply the same function on subsets of your dataframe, based on some key to split the dataframe in subsets**\n",
    "\n",
    "This operation is also referred to as the \"split-apply-combine\" operation, involving the following steps:\n",
    "\n",
    "* **Splitting** the data into groups based on some criteria\n",
    "* **Applying** a function to each group independently\n",
    "* **Combining** the results into a data structure\n",
    "\n",
    "<img src=\"./figures/nb02/split-apply-combine.png\" width=\"50%\" />"
   ]
  },
  {
   "cell_type": "code",
   "execution_count": null,
   "id": "848a68a5-4810-48e4-b229-7203af05a011",
   "metadata": {},
   "outputs": [],
   "source": [
    "# groupby and aggregate with sum\n",
    "df.groupby(\"key\").sum()"
   ]
  },
  {
   "cell_type": "code",
   "execution_count": null,
   "id": "e9246f73-2483-484b-85b5-7a00564d3afe",
   "metadata": {},
   "outputs": [],
   "source": [
    "# groupby and aggregate with your own function\n",
    "df.groupby(\"key\").aggregate(lambda x: np.sum(x)+1)"
   ]
  },
  {
   "cell_type": "markdown",
   "id": "a5ecacdd-491a-4ad1-8414-a99955cb1ec8",
   "metadata": {},
   "source": [
    "## Aggregate, filter, transform, apply "
   ]
  },
  {
   "cell_type": "markdown",
   "id": "55092278-6689-49f3-9596-5ec998e7a376",
   "metadata": {},
   "source": [
    "In addition to `aggregate()`, the `GroupBy` objects have `filter()`, `transform()` and `apply()` methods that efficiently implement a variety of useful operations before combining the grouped data. "
   ]
  },
  {
   "cell_type": "code",
   "execution_count": null,
   "id": "5062ec25-6c27-4ec6-8d00-39f39fe1356c",
   "metadata": {},
   "outputs": [],
   "source": [
    "df = pd.DataFrame({'key': ['A', 'B', 'C', 'A', 'B', 'C'],\n",
    "                   'data1': range(6),\n",
    "                   'data2': np.random.randint(0, 10, 6)},\n",
    "                   columns = ['key', 'data1', 'data2'])\n",
    "df"
   ]
  },
  {
   "cell_type": "code",
   "execution_count": null,
   "id": "92551f6a-7855-4906-8875-69897740928c",
   "metadata": {},
   "outputs": [],
   "source": [
    "# Aggregate along multiple functions\n",
    "df.groupby('key').aggregate(['min', np.median, max])"
   ]
  },
  {
   "cell_type": "code",
   "execution_count": null,
   "id": "c8d41173-22d4-4e54-87af-3c6d00e89e96",
   "metadata": {},
   "outputs": [],
   "source": [
    "# Aggregate columns with specific functions\n",
    "df.groupby('key').aggregate({'data1': 'min',\n",
    "                             'data2': 'max'})"
   ]
  },
  {
   "cell_type": "code",
   "execution_count": null,
   "id": "89363c45-788d-4bfd-aae8-36e3c99035b7",
   "metadata": {},
   "outputs": [],
   "source": [
    "# Filter out data based on its group\n",
    "def filter_func(g):\n",
    "    return g['data2'].std() > 3"
   ]
  },
  {
   "cell_type": "code",
   "execution_count": null,
   "id": "60a0a3db-2b42-4ecf-a927-a04445ecb941",
   "metadata": {},
   "outputs": [],
   "source": [
    "df"
   ]
  },
  {
   "cell_type": "code",
   "execution_count": null,
   "id": "d4af0ab9-8a50-48b5-8a85-bd21fde536d5",
   "metadata": {},
   "outputs": [],
   "source": [
    "df.groupby('key').std()"
   ]
  },
  {
   "cell_type": "code",
   "execution_count": null,
   "id": "2d916235-d0b5-4110-ba59-bd0e8a0fd764",
   "metadata": {},
   "outputs": [],
   "source": [
    "df.groupby('key').filter(filter_func)"
   ]
  },
  {
   "cell_type": "code",
   "execution_count": null,
   "id": "e50b37d9-cdc9-40a0-a33e-92362ea4a647",
   "metadata": {},
   "outputs": [],
   "source": [
    "# Transform data based on its group\n",
    "df.groupby('key').transform(lambda g: g - g.mean())"
   ]
  },
  {
   "cell_type": "code",
   "execution_count": null,
   "id": "9fbea799-ed41-4f87-bd3d-b1211fb7e0ba",
   "metadata": {},
   "outputs": [],
   "source": [
    "## Apply an arbitrary function to the group results\n",
    "def norm_by_data2(g):\n",
    "    g['data1'] /= g['data2'].sum()\n",
    "    return g\n",
    "\n",
    "df.groupby('key').apply(norm_by_data2)"
   ]
  },
  {
   "cell_type": "markdown",
   "id": "4767db18-500b-4d33-8d60-bab827300714",
   "metadata": {},
   "source": [
    "## Combining DataFrames"
   ]
  },
  {
   "cell_type": "code",
   "execution_count": null,
   "id": "88fd2fb7-df4f-46eb-a062-4466623ab07d",
   "metadata": {},
   "outputs": [],
   "source": [
    "df1 = pd.DataFrame(\n",
    "    {\"a\": [1, 2, 3],\n",
    "     \"b\": [4, 5, 6]})\n",
    "\n",
    "df2 = pd.DataFrame(\n",
    "    {\"a\": [10, 11],\n",
    "     \"b\": [14, 15]})\n",
    "\n",
    "df3 = pd.DataFrame(\n",
    "    {\"c\": [7, 8, 9]})"
   ]
  },
  {
   "cell_type": "code",
   "execution_count": null,
   "id": "d784c84f-df65-4cbc-96c5-64ee990d8890",
   "metadata": {},
   "outputs": [],
   "source": [
    "df1"
   ]
  },
  {
   "cell_type": "code",
   "execution_count": null,
   "id": "4bd82fae-9971-4153-89da-faf799f5f187",
   "metadata": {},
   "outputs": [],
   "source": [
    "df2"
   ]
  },
  {
   "cell_type": "code",
   "execution_count": null,
   "id": "36fdafb5-f5af-4548-b8dd-36db68cbfb0d",
   "metadata": {},
   "outputs": [],
   "source": [
    "df3"
   ]
  },
  {
   "cell_type": "code",
   "execution_count": null,
   "id": "268d0634-fd22-4f48-b570-b1a9f392c68f",
   "metadata": {},
   "outputs": [],
   "source": [
    "# Concat by rows\n",
    "pd.concat([df1, df2])"
   ]
  },
  {
   "cell_type": "code",
   "execution_count": null,
   "id": "026cc1e8-4a63-4e2c-b6a1-3a0f9e9effe8",
   "metadata": {},
   "outputs": [],
   "source": [
    "# Concat by columns\n",
    "pd.concat([df1, df3], axis=1)"
   ]
  },
  {
   "cell_type": "code",
   "execution_count": null,
   "id": "d1ef87ca-2f0a-4bb2-a87a-6d721f9b24c8",
   "metadata": {},
   "outputs": [],
   "source": [
    "# Merge / joins\n",
    "df1 = pd.DataFrame(\n",
    "    {\"a\": [1, 2, 3],\n",
    "     \"b\": [4, 5, 6]})\n",
    "\n",
    "df2 = pd.DataFrame(\n",
    "    {\"a\": [2, 3, 4],\n",
    "     \"c\": [7, 8, 9]})\n",
    "\n",
    "pd.merge(df1, df2, how=\"left\", on=\"a\")"
   ]
  },
  {
   "cell_type": "code",
   "execution_count": null,
   "id": "313e51fb-b601-4919-b525-0f87b2e9600a",
   "metadata": {},
   "outputs": [],
   "source": [
    "pd.merge(df1, df2, how=\"outer\", on=\"a\")"
   ]
  },
  {
   "cell_type": "markdown",
   "id": "0fba8ed4-f2a7-4b27-9c56-bea3faaf1ffb",
   "metadata": {},
   "source": [
    "## Plots\n",
    "\n",
    "Dataframes come equipped with plotting functions wrapped around `matplotlib`."
   ]
  },
  {
   "cell_type": "code",
   "execution_count": null,
   "id": "a88b5fce-c14a-48fa-aafa-e55764a7a46c",
   "metadata": {},
   "outputs": [],
   "source": [
    "df = pd.read_csv(\"data/titanic.csv\")\n",
    "df.plot(x=\"Age\", y=\"Fare\", kind=\"scatter\")"
   ]
  },
  {
   "cell_type": "code",
   "execution_count": null,
   "id": "9605a631-1534-4b8d-b04b-8205a4c9dad8",
   "metadata": {},
   "outputs": [],
   "source": [
    "df[[\"Age\"]].plot(kind=\"hist\")"
   ]
  },
  {
   "cell_type": "markdown",
   "id": "d366819d-ac4a-427f-a6a0-542551a014d9",
   "metadata": {},
   "source": [
    "<div class=\"alert alert-success\">\n",
    "    \n",
    "**Exercise**. Make a bar plot to visualize the average Fare payed by people depending on their age.\n",
    "\n",
    "</div>"
   ]
  },
  {
   "cell_type": "code",
   "execution_count": null,
   "id": "3b602cc5-26b9-4dc6-aa48-430dcbf70223",
   "metadata": {},
   "outputs": [],
   "source": []
  }
 ],
 "metadata": {
  "kernelspec": {
   "display_name": "dats0001",
   "language": "python",
   "name": "python3"
  },
  "language_info": {
   "codemirror_mode": {
    "name": "ipython",
    "version": 3
   },
   "file_extension": ".py",
   "mimetype": "text/x-python",
   "name": "python",
   "nbconvert_exporter": "python",
   "pygments_lexer": "ipython3",
   "version": "3.9.18"
  }
 },
 "nbformat": 4,
 "nbformat_minor": 5
}
