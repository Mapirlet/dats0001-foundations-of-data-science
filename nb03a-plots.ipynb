{
 "cells": [
  {
   "cell_type": "markdown",
   "id": "30b28042-22ad-4fc6-ad09-31cdf0fed206",
   "metadata": {},
   "source": [
    "# `nb03a`: Plots"
   ]
  },
  {
   "cell_type": "markdown",
   "id": "79f08f50-00b2-4a61-8bae-7125f7c3d1ff",
   "metadata": {},
   "source": [
    "# Plotting in Python"
   ]
  },
  {
   "cell_type": "markdown",
   "id": "30cd05c8-e8cc-4101-bb08-bc6e9687bd66",
   "metadata": {},
   "source": [
    "<img src=\"./figures/nb04/matplotlib.svg\" width=\"40%\" />\n",
    "\n",
    "Matplotlib is a Python plotting library for producing publication quality figures. It includes a large collection of predefined plots, along with a comprehensive set of plotting primitives. "
   ]
  },
  {
   "cell_type": "code",
   "execution_count": 1,
   "id": "e3b46fbe-3827-4d28-9998-b85e1390f03b",
   "metadata": {},
   "outputs": [],
   "source": [
    "import numpy as np\n",
    "import pandas as pd\n",
    "import matplotlib.pyplot as plt  # import matplotlib (interface)"
   ]
  },
  {
   "cell_type": "markdown",
   "id": "58cd7d09-9360-4615-ae5f-9f24cb4bd8c7",
   "metadata": {},
   "source": [
    "Matplotlib includes two interfaces for plotting. The first is a MATLAB-like interface and uses a state-based interface. The second is an object-oriented interface that is meant to be more Pythonic. In this notebook, we will focus on the object-oriented interface."
   ]
  },
  {
   "cell_type": "code",
   "execution_count": null,
   "id": "79ee7eaf-7665-4024-9654-467a1ab79723",
   "metadata": {},
   "outputs": [],
   "source": [
    "# MATLAB-like interface\n",
    "plt.figure()\n",
    "x = np.linspace(0, 10, 100)\n",
    "plt.plot(x, 5*x + 1, label=\"5x+1\")\n",
    "plt.xlabel(\"x\")\n",
    "plt.ylabel(\"y\")\n",
    "plt.grid()\n",
    "plt.legend()\n",
    "plt.show()"
   ]
  },
  {
   "cell_type": "code",
   "execution_count": null,
   "id": "a0b52969-a87f-499d-ae0c-de959b9c2e39",
   "metadata": {},
   "outputs": [],
   "source": [
    "# Object-oriented interface\n",
    "fig = plt.figure()\n",
    "ax = plt.axes()\n",
    "ax.plot(x, 5*x + 1, label=\"5x+1\")\n",
    "ax.set(xlabel=\"x\", ylabel=\"y\")\n",
    "ax.grid()\n",
    "ax.legend()\n",
    "plt.show()"
   ]
  },
  {
   "cell_type": "markdown",
   "id": "057ee207-4690-4780-97c5-d3cf84359e70",
   "metadata": {},
   "source": [
    "The `Figure` and `Axes` objects are the basic building blocks of a plot. The `Figure` object is the top level container for all the plot elements. We can think of the `Figure` as a canvas onto which we can place any number of `Axes` objects. Each `Axes` object is a container that encloses the plot elements responsible for drawing a plot. "
   ]
  },
  {
   "cell_type": "code",
   "execution_count": null,
   "id": "6824250a-eda4-498b-b8ed-0d1472e3ab94",
   "metadata": {},
   "outputs": [],
   "source": [
    "# Multiple plots\n",
    "fig, ax = plt.subplots(1, 2)  # this creates two Axes objects, one for each subplot\n",
    "\n",
    "ax[0].plot(x, np.sin(x))\n",
    "ax[1].plot(x, np.cos(x))\n",
    "\n",
    "plt.show()"
   ]
  },
  {
   "cell_type": "markdown",
   "id": "4d33bbf1-58d6-4852-bf56-e8682e5e0761",
   "metadata": {},
   "source": [
    "Line plots are the most common type of plots. They can be used to plot a function, or to represent the relationship between two variables."
   ]
  },
  {
   "cell_type": "code",
   "execution_count": null,
   "id": "0480074f-942c-49d3-b2cd-566a0c0bcef7",
   "metadata": {},
   "outputs": [],
   "source": [
    "# Line plot\n",
    "fig = plt.figure()\n",
    "ax = plt.axes()\n",
    "\n",
    "x = np.linspace(0, 10, 50)\n",
    "ax.plot(x, np.sin(x), label=r\"$\\sin(x)$\")  # check ax.plot?\n",
    "ax.plot(x, np.cos(x), label=r\"$\\cos(x)$\")\n",
    "ax.set(xlim=(0, 8), ylim=(-2, 2), xlabel=r\"$x$\", title=\"a simple plot\")\n",
    "ax.legend()\n",
    "\n",
    "plt.show()"
   ]
  },
  {
   "cell_type": "markdown",
   "id": "e5e17c88",
   "metadata": {},
   "source": [
    "Bar plots are used to compare values across categories. They are particularly useful for comparing values across a small number of discrete categories. "
   ]
  },
  {
   "cell_type": "code",
   "execution_count": null,
   "id": "4c27e250-ec88-479c-8aee-b68bcd5805df",
   "metadata": {},
   "outputs": [],
   "source": [
    "# Bar plots\n",
    "fig = plt.figure()\n",
    "ax = plt.axes()\n",
    "\n",
    "x = [3, 4, 5, 4, 2]\n",
    "ax.barh([\"first\", \"second\", \"third\", \"fourth\", \"fifth\"], x)\n",
    "\n",
    "plt.show()"
   ]
  },
  {
   "cell_type": "markdown",
   "id": "8a446fae",
   "metadata": {},
   "source": [
    "Scatter plots are used to represent the relationship between two variables."
   ]
  },
  {
   "cell_type": "code",
   "execution_count": null,
   "id": "fe167a47-1e88-4408-8323-5e819f507c17",
   "metadata": {},
   "outputs": [],
   "source": [
    "# Scatter plot\n",
    "fig = plt.figure()\n",
    "ax = plt.axes()\n",
    "\n",
    "x = np.random.randn(500)\n",
    "y = np.sin(x) + 0.25 * np.random.randn(*x.shape)\n",
    "ax.scatter(x, y)\n",
    "\n",
    "plt.show()"
   ]
  },
  {
   "cell_type": "markdown",
   "id": "2ba857ac",
   "metadata": {},
   "source": [
    "Boxplots are used to visualize the distribution of a continuous variable in terms of median, quartiles, and outliers."
   ]
  },
  {
   "cell_type": "code",
   "execution_count": null,
   "id": "0cbaf80a-e133-474f-ab59-7bfde2ccf921",
   "metadata": {},
   "outputs": [],
   "source": [
    "# Boxplot\n",
    "fig = plt.figure()\n",
    "ax = plt.axes()\n",
    "\n",
    "ax.boxplot([x, y], labels=[\"x\", \"y\"])\n",
    "\n",
    "plt.show()"
   ]
  },
  {
   "cell_type": "markdown",
   "id": "fbd30a4c",
   "metadata": {},
   "source": [
    "Just like boxplots, histograms are used to visualize the distribution of a continuous variable. However, histograms are better suited for large number of observations. They are also better suited for visualizing the distribution of a continuous variable in terms of its shape."
   ]
  },
  {
   "cell_type": "code",
   "execution_count": null,
   "id": "a62ff317-d6b9-48a3-996c-d5c5e53680ef",
   "metadata": {},
   "outputs": [],
   "source": [
    "# Histograms\n",
    "fig = plt.figure()\n",
    "ax = plt.axes()\n",
    "\n",
    "x = np.random.randn(500)\n",
    "ax.hist(x, bins=30, range=(-10,10))\n",
    "\n",
    "plt.show()"
   ]
  },
  {
   "cell_type": "code",
   "execution_count": null,
   "id": "bf75da75-bee7-4e1b-916b-2ac247bb614c",
   "metadata": {},
   "outputs": [],
   "source": [
    "fig = plt.figure()\n",
    "ax = plt.axes()\n",
    "\n",
    "x = np.random.randn(500)\n",
    "y = np.sin(x) + 0.25 * np.random.randn(*x.shape)\n",
    "\n",
    "kwargs = dict(bins=20, alpha=0.5, density=True)\n",
    "\n",
    "ax.hist(x, **kwargs)\n",
    "ax.hist(y, **kwargs)\n",
    "\n",
    "plt.show()"
   ]
  },
  {
   "cell_type": "markdown",
   "id": "528aa176",
   "metadata": {},
   "source": [
    "Matplotlib also provides support for error bars, image plots or contour plots, among others."
   ]
  },
  {
   "cell_type": "code",
   "execution_count": null,
   "id": "8c5c1ca6-12d3-44f0-bb0a-bc1d1ed74c38",
   "metadata": {},
   "outputs": [],
   "source": [
    "# Error bars\n",
    "fig = plt.figure()\n",
    "ax = plt.axes()\n",
    "\n",
    "x = np.linspace(0, 10, 100)\n",
    "dy = np.random.rand(100)\n",
    "y = np.sin(x) + dy * np.random.randn(*x.shape)\n",
    "ax.errorbar(x, y, yerr=dy, fmt=\"o\")\n",
    "\n",
    "plt.show()\n",
    "\n",
    "# see also: fill_between"
   ]
  },
  {
   "cell_type": "code",
   "execution_count": null,
   "id": "235b1c24-042e-4b76-ae44-bd98852123cd",
   "metadata": {},
   "outputs": [],
   "source": [
    "# Arrays as images\n",
    "fig = plt.figure()\n",
    "ax = plt.axes()\n",
    "\n",
    "x = np.linspace(-5, 5, 21)\n",
    "y = np.linspace(-5, 5, 21)\n",
    "# full coordinate arrays\n",
    "xx, yy = np.meshgrid(x, y)\n",
    "zz = np.sqrt(xx**2 + yy**2)\n",
    "\n",
    "ax.imshow(zz)\n",
    "\n",
    "plt.show()"
   ]
  },
  {
   "cell_type": "code",
   "execution_count": null,
   "id": "1f610824-cec6-407a-b1a5-1a0a845be7c7",
   "metadata": {},
   "outputs": [],
   "source": [
    "# Contours\n",
    "fig = plt.figure()\n",
    "ax = plt.axes()\n",
    "\n",
    "contour = ax.contourf(zz)\n",
    "ax.set(aspect=\"equal\")\n",
    "fig.colorbar(contour)\n",
    "\n",
    "plt.show()"
   ]
  },
  {
   "cell_type": "code",
   "execution_count": 34,
   "id": "db51e9ff-6bbd-4c25-9599-420753563d6d",
   "metadata": {},
   "outputs": [],
   "source": [
    "# Save figure\n",
    "fig.savefig(\"myplot.pdf\")"
   ]
  },
  {
   "cell_type": "markdown",
   "id": "35f5f2ef-9010-42c2-81e4-a86d6477b7cf",
   "metadata": {},
   "source": [
    "<div class=\"alert alert-success\">\n",
    "    \n",
    "**Exercise**. \n",
    "- Produce a plot of $f(x) = \\exp(-\\frac{x}{10})\\sin(\\pi x)$ and $g(x) = x\\exp(-\\frac{x}{3})$ over the interval $[0, 10]$. \n",
    "- Use a dashed line for $f(x)$ and a solid line for $g(x)$.\n",
    "- Include labels for the $x$-axis and $y$-axis and a legend explaining which line is which plot. \n",
    "- Save the plot as a PNG file. \n",
    "    \n",
    "</div>"
   ]
  },
  {
   "cell_type": "code",
   "execution_count": null,
   "id": "96bc038b",
   "metadata": {},
   "outputs": [],
   "source": [
    "fig = plt.figure()\n",
    "ax = plt.axes()\n",
    "\n",
    "x = np.linspace(0, 10, 100)\n",
    "f = lambda x: np.exp(-x/10)*np.sin(np.pi*x)\n",
    "g = lambda x: x*np.exp(-x/3)\n",
    "\n",
    "ax.plot(x, f(x), \"--\", label=r\"$f(x)$\")\n",
    "ax.plot(x, g(x), \"-\", label=r\"$g(x)$\")\n",
    "ax.set(xlabel=r\"$x$\", ylabel=r\"$y$\")\n",
    "\n",
    "ax.legend()\n",
    "fig.savefig(\"nb03a-plot.png\")\n",
    "\n",
    "plt.show()"
   ]
  }
 ],
 "metadata": {
  "kernelspec": {
   "display_name": "dats0001",
   "language": "python",
   "name": "python3"
  },
  "language_info": {
   "codemirror_mode": {
    "name": "ipython",
    "version": 3
   },
   "file_extension": ".py",
   "mimetype": "text/x-python",
   "name": "python",
   "nbconvert_exporter": "python",
   "pygments_lexer": "ipython3",
   "version": "3.9.18"
  }
 },
 "nbformat": 4,
 "nbformat_minor": 5
}
