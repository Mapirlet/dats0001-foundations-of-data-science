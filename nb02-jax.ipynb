{
 "cells": [
  {
   "cell_type": "markdown",
   "id": "43b6f067-d3f2-4c15-8d33-90dae0a204bb",
   "metadata": {},
   "source": [
    "# `nb02`: JAX: Numpy, but differentiable and on GPUs"
   ]
  },
  {
   "cell_type": "markdown",
   "id": "9e6d6bc2-2a92-4b60-b597-004f7d3f0322",
   "metadata": {},
   "source": [
    "![](figures/nb02/jax.png)\n",
    "\n",
    "JAX is a drop-in replacement for Numpy, but differentiable and compiled using XLA to run on GPUs and CPUs."
   ]
  },
  {
   "cell_type": "code",
   "execution_count": null,
   "id": "bb7211bc-666b-4726-b66e-8fc587498f84",
   "metadata": {},
   "outputs": [],
   "source": [
    "import jax\n",
    "import jax.numpy as jnp\n",
    "import numpy as np"
   ]
  },
  {
   "cell_type": "code",
   "execution_count": null,
   "id": "494d3039-176e-49be-8752-349aac4ef739",
   "metadata": {},
   "outputs": [],
   "source": [
    "import matplotlib.pyplot as plt\n",
    "\n",
    "xs = np.random.normal(size=(100,))\n",
    "noise = np.random.normal(scale=0.1, size=(100,))\n",
    "ys = xs * 3 - 1 + noise\n",
    "\n",
    "plt.scatter(xs, ys)\n",
    "plt.show()"
   ]
  },
  {
   "cell_type": "code",
   "execution_count": null,
   "id": "793b04fa-f546-4811-b3b3-d08a1c497843",
   "metadata": {},
   "outputs": [],
   "source": [
    "def model(theta, x):\n",
    "    w, b = theta\n",
    "    return w * x + b"
   ]
  },
  {
   "cell_type": "code",
   "execution_count": null,
   "id": "66beb667-6562-48e4-b4d0-7c5ebda91598",
   "metadata": {},
   "outputs": [],
   "source": [
    "theta = jnp.array([1., 1.])\n",
    "plt.scatter(xs, ys)\n",
    "plt.plot(xs, model(theta, xs))"
   ]
  },
  {
   "cell_type": "code",
   "execution_count": null,
   "id": "a603044f-24be-4203-98a1-0fde7c3eb598",
   "metadata": {},
   "outputs": [],
   "source": [
    "def loss_fn(theta, x, y):\n",
    "    prediction = model(theta, x)\n",
    "    return 0.5 * jnp.mean((prediction-y)**2)"
   ]
  },
  {
   "cell_type": "code",
   "execution_count": null,
   "id": "fe51deb1-6f59-4d5c-aac4-0536b9784296",
   "metadata": {},
   "outputs": [],
   "source": [
    "def update(theta, x, y, lr=0.1):\n",
    "    return theta - lr * jax.grad(loss_fn)(theta, x, y)"
   ]
  },
  {
   "cell_type": "code",
   "execution_count": null,
   "id": "088fc045-70a2-4bc9-bb12-d566e59b579e",
   "metadata": {},
   "outputs": [],
   "source": [
    "for _ in range(1000):\n",
    "    theta = update(theta, xs, ys)\n",
    "\n",
    "plt.scatter(xs, ys)\n",
    "plt.plot(xs, model(theta, xs))\n",
    "\n",
    "w, b = theta\n",
    "print(f\"w: {w:<.2f}, b: {b:<.2f}\")"
   ]
  }
 ],
 "metadata": {
  "kernelspec": {
   "display_name": "Python [conda env:dats0001]",
   "language": "python",
   "name": "conda-env-dats0001-py"
  },
  "language_info": {
   "codemirror_mode": {
    "name": "ipython",
    "version": 3
   },
   "file_extension": ".py",
   "mimetype": "text/x-python",
   "name": "python",
   "nbconvert_exporter": "python",
   "pygments_lexer": "ipython3",
   "version": "3.9.18"
  },
  "toc-autonumbering": false
 },
 "nbformat": 4,
 "nbformat_minor": 5
}
